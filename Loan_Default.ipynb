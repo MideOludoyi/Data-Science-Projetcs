{
  "nbformat": 4,
  "nbformat_minor": 0,
  "metadata": {
    "colab": {
      "name": "Loan Default.ipynb",
      "provenance": [],
      "collapsed_sections": [],
      "include_colab_link": true
    },
    "kernelspec": {
      "name": "python3",
      "display_name": "Python 3"
    },
    "accelerator": "GPU"
  },
  "cells": [
    {
      "cell_type": "markdown",
      "metadata": {
        "id": "view-in-github",
        "colab_type": "text"
      },
      "source": [
        "<a href=\"https://colab.research.google.com/github/MideOludoyi/Data-Science-Projetcs/blob/master/Loan_Default.ipynb\" target=\"_parent\"><img src=\"https://colab.research.google.com/assets/colab-badge.svg\" alt=\"Open In Colab\"/></a>"
      ]
    },
    {
      "cell_type": "code",
      "metadata": {
        "id": "I-2_xN2yoVXC",
        "colab_type": "code",
        "colab": {}
      },
      "source": [
        "!pip install -U -q PyDrive\n",
        "from pydrive.auth import GoogleAuth\n",
        "from pydrive.drive import GoogleDrive\n",
        "from google.colab import auth\n",
        "from oauth2client.client import GoogleCredentials\n"
      ],
      "execution_count": 0,
      "outputs": []
    },
    {
      "cell_type": "code",
      "metadata": {
        "id": "QZt6gXHIo4jI",
        "colab_type": "code",
        "colab": {}
      },
      "source": [
        "auth.authenticate_user()\n",
        "gauth = GoogleAuth()\n",
        "gauth.credentials = GoogleCredentials.get_application_default()\n",
        "drive = GoogleDrive(gauth)"
      ],
      "execution_count": 0,
      "outputs": []
    },
    {
      "cell_type": "code",
      "metadata": {
        "id": "RQ0OnqsgpHKS",
        "colab_type": "code",
        "colab": {}
      },
      "source": [
        "link = 'https://drive.google.com/open?id=1QUhzsMBVtLQWI1mqYOmF7ugU996cMVbB'"
      ],
      "execution_count": 0,
      "outputs": []
    },
    {
      "cell_type": "code",
      "metadata": {
        "id": "fNn28-9SpMqO",
        "colab_type": "code",
        "outputId": "0ebf7b97-809a-4a77-c654-cfe86f8b853f",
        "colab": {
          "base_uri": "https://localhost:8080/",
          "height": 33
        }
      },
      "source": [
        "fluff, id = link.split('=')\n",
        "print (id)"
      ],
      "execution_count": 0,
      "outputs": [
        {
          "output_type": "stream",
          "text": [
            "1QUhzsMBVtLQWI1mqYOmF7ugU996cMVbB\n"
          ],
          "name": "stdout"
        }
      ]
    },
    {
      "cell_type": "code",
      "metadata": {
        "id": "33nk9shjpb8k",
        "colab_type": "code",
        "colab": {}
      },
      "source": [
        "import pandas as pd\n",
        "downloaded = drive.CreateFile({'id':id}) \n",
        "downloaded.GetContentFile('finalPaylater.csv')  \n",
        "df = pd.read_csv('finalPaylater.csv')"
      ],
      "execution_count": 0,
      "outputs": []
    },
    {
      "cell_type": "code",
      "metadata": {
        "id": "D4hq9UUwqIbZ",
        "colab_type": "code",
        "colab": {}
      },
      "source": [
        "# The code below when executed loads the packages required to run this notebook\n",
        "from sklearn.neural_network import MLPClassifier\n",
        "import matplotlib.pyplot as plt\n",
        "import seaborn as sns\n",
        "import numpy as np\n",
        "import numpy.random as nr\n",
        "import math\n",
        "from sklearn import preprocessing\n",
        "import sklearn.model_selection as ms\n",
        "from sklearn.model_selection import train_test_split\n",
        "from sklearn import linear_model\n",
        "import sklearn.metrics as sklm\n",
        "\n",
        "%matplotlib inline\n"
      ],
      "execution_count": 0,
      "outputs": []
    },
    {
      "cell_type": "code",
      "metadata": {
        "id": "1l_PwO5Sqegr",
        "colab_type": "code",
        "outputId": "24030cf8-e92d-420b-d17b-df7f0f5d2530",
        "colab": {
          "base_uri": "https://localhost:8080/",
          "height": 417
        }
      },
      "source": [
        "# Printing out the shape of the dataframe\n",
        "print(df.shape)\n",
        "df.head()"
      ],
      "execution_count": 0,
      "outputs": [
        {
          "output_type": "stream",
          "text": [
            "(159596, 34)\n"
          ],
          "name": "stdout"
        },
        {
          "output_type": "execute_result",
          "data": {
            "text/html": [
              "<div>\n",
              "<style scoped>\n",
              "    .dataframe tbody tr th:only-of-type {\n",
              "        vertical-align: middle;\n",
              "    }\n",
              "\n",
              "    .dataframe tbody tr th {\n",
              "        vertical-align: top;\n",
              "    }\n",
              "\n",
              "    .dataframe thead th {\n",
              "        text-align: right;\n",
              "    }\n",
              "</style>\n",
              "<table border=\"1\" class=\"dataframe\">\n",
              "  <thead>\n",
              "    <tr style=\"text-align: right;\">\n",
              "      <th></th>\n",
              "      <th>clientId</th>\n",
              "      <th>clientIncome</th>\n",
              "      <th>incomeVerified</th>\n",
              "      <th>clientAge</th>\n",
              "      <th>clientGender</th>\n",
              "      <th>clientMaritalStatus</th>\n",
              "      <th>clientLoanPurpose</th>\n",
              "      <th>clientResidentialStauts</th>\n",
              "      <th>clientState</th>\n",
              "      <th>clientTimeAtEmployer</th>\n",
              "      <th>...</th>\n",
              "      <th>loanTerm</th>\n",
              "      <th>max_amount_taken</th>\n",
              "      <th>max_tenor_taken</th>\n",
              "      <th>rILoanId</th>\n",
              "      <th>repaidDate</th>\n",
              "      <th>rIdueDate</th>\n",
              "      <th>settleDays</th>\n",
              "      <th>firstpaymentRatio</th>\n",
              "      <th>firstPaymentDefault</th>\n",
              "      <th>loanDefault</th>\n",
              "    </tr>\n",
              "  </thead>\n",
              "  <tbody>\n",
              "    <tr>\n",
              "      <th>0</th>\n",
              "      <td>755398623</td>\n",
              "      <td>52500.0</td>\n",
              "      <td>false</td>\n",
              "      <td>29</td>\n",
              "      <td>FEMALE</td>\n",
              "      <td>Single</td>\n",
              "      <td>business</td>\n",
              "      <td>Rented</td>\n",
              "      <td>KANO</td>\n",
              "      <td>7</td>\n",
              "      <td>...</td>\n",
              "      <td>60</td>\n",
              "      <td>1</td>\n",
              "      <td>1</td>\n",
              "      <td>302039538823</td>\n",
              "      <td>2018-08-01 11:30:31 UTC</td>\n",
              "      <td>2018-08-13 12:00:00 UTC</td>\n",
              "      <td>-12</td>\n",
              "      <td>0.0</td>\n",
              "      <td>0</td>\n",
              "      <td>0</td>\n",
              "    </tr>\n",
              "    <tr>\n",
              "      <th>1</th>\n",
              "      <td>915689736</td>\n",
              "      <td>52500.0</td>\n",
              "      <td>false</td>\n",
              "      <td>25</td>\n",
              "      <td>MALE</td>\n",
              "      <td>Single</td>\n",
              "      <td>business</td>\n",
              "      <td>Rented</td>\n",
              "      <td>LAGOS</td>\n",
              "      <td>21</td>\n",
              "      <td>...</td>\n",
              "      <td>60</td>\n",
              "      <td>0</td>\n",
              "      <td>1</td>\n",
              "      <td>302251936174</td>\n",
              "      <td>2018-09-06 05:34:55 UTC</td>\n",
              "      <td>2018-09-21 12:00:00 UTC</td>\n",
              "      <td>-15</td>\n",
              "      <td>0.0</td>\n",
              "      <td>0</td>\n",
              "      <td>0</td>\n",
              "    </tr>\n",
              "    <tr>\n",
              "      <th>2</th>\n",
              "      <td>292629156</td>\n",
              "      <td>35000.0</td>\n",
              "      <td>false</td>\n",
              "      <td>32</td>\n",
              "      <td>MALE</td>\n",
              "      <td>Single</td>\n",
              "      <td>education</td>\n",
              "      <td>Rented</td>\n",
              "      <td>ANAMBRA</td>\n",
              "      <td>29</td>\n",
              "      <td>...</td>\n",
              "      <td>60</td>\n",
              "      <td>0</td>\n",
              "      <td>1</td>\n",
              "      <td>302270229003</td>\n",
              "      <td>2018-11-27 01:33:56 UTC</td>\n",
              "      <td>2018-09-24 12:00:00 UTC</td>\n",
              "      <td>64</td>\n",
              "      <td>0.0</td>\n",
              "      <td>1</td>\n",
              "      <td>1</td>\n",
              "    </tr>\n",
              "    <tr>\n",
              "      <th>3</th>\n",
              "      <td>671710636</td>\n",
              "      <td>35000.0</td>\n",
              "      <td>false</td>\n",
              "      <td>28</td>\n",
              "      <td>FEMALE</td>\n",
              "      <td>Married</td>\n",
              "      <td>business</td>\n",
              "      <td>Own Residence</td>\n",
              "      <td>OSUN</td>\n",
              "      <td>36+</td>\n",
              "      <td>...</td>\n",
              "      <td>60</td>\n",
              "      <td>1</td>\n",
              "      <td>1</td>\n",
              "      <td>301929229685</td>\n",
              "      <td>2018-07-09 06:48:44 UTC</td>\n",
              "      <td>2018-07-19 12:00:00 UTC</td>\n",
              "      <td>-10</td>\n",
              "      <td>0.0</td>\n",
              "      <td>0</td>\n",
              "      <td>0</td>\n",
              "    </tr>\n",
              "    <tr>\n",
              "      <th>4</th>\n",
              "      <td>367769827</td>\n",
              "      <td>35000.0</td>\n",
              "      <td>false</td>\n",
              "      <td>34</td>\n",
              "      <td>MALE</td>\n",
              "      <td>Married</td>\n",
              "      <td>medical</td>\n",
              "      <td>Rented</td>\n",
              "      <td>ONDO</td>\n",
              "      <td>36+</td>\n",
              "      <td>...</td>\n",
              "      <td>60</td>\n",
              "      <td>1</td>\n",
              "      <td>1</td>\n",
              "      <td>301841795739</td>\n",
              "      <td>2018-07-14 02:28:10 UTC</td>\n",
              "      <td>2018-07-02 12:00:00 UTC</td>\n",
              "      <td>12</td>\n",
              "      <td>0.0</td>\n",
              "      <td>1</td>\n",
              "      <td>1</td>\n",
              "    </tr>\n",
              "  </tbody>\n",
              "</table>\n",
              "<p>5 rows × 34 columns</p>\n",
              "</div>"
            ],
            "text/plain": [
              "    clientId  clientIncome incomeVerified  clientAge clientGender  \\\n",
              "0  755398623       52500.0          false         29       FEMALE   \n",
              "1  915689736       52500.0          false         25         MALE   \n",
              "2  292629156       35000.0          false         32         MALE   \n",
              "3  671710636       35000.0          false         28       FEMALE   \n",
              "4  367769827       35000.0          false         34         MALE   \n",
              "\n",
              "  clientMaritalStatus clientLoanPurpose clientResidentialStauts clientState  \\\n",
              "0              Single          business                  Rented        KANO   \n",
              "1              Single          business                  Rented       LAGOS   \n",
              "2              Single         education                  Rented     ANAMBRA   \n",
              "3             Married          business           Own Residence        OSUN   \n",
              "4             Married           medical                  Rented        ONDO   \n",
              "\n",
              "  clientTimeAtEmployer     ...     loanTerm max_amount_taken max_tenor_taken  \\\n",
              "0                    7     ...           60                1               1   \n",
              "1                   21     ...           60                0               1   \n",
              "2                   29     ...           60                0               1   \n",
              "3                  36+     ...           60                1               1   \n",
              "4                  36+     ...           60                1               1   \n",
              "\n",
              "       rILoanId               repaidDate                rIdueDate settleDays  \\\n",
              "0  302039538823  2018-08-01 11:30:31 UTC  2018-08-13 12:00:00 UTC        -12   \n",
              "1  302251936174  2018-09-06 05:34:55 UTC  2018-09-21 12:00:00 UTC        -15   \n",
              "2  302270229003  2018-11-27 01:33:56 UTC  2018-09-24 12:00:00 UTC         64   \n",
              "3  301929229685  2018-07-09 06:48:44 UTC  2018-07-19 12:00:00 UTC        -10   \n",
              "4  301841795739  2018-07-14 02:28:10 UTC  2018-07-02 12:00:00 UTC         12   \n",
              "\n",
              "  firstpaymentRatio firstPaymentDefault loanDefault  \n",
              "0               0.0                   0           0  \n",
              "1               0.0                   0           0  \n",
              "2               0.0                   1           1  \n",
              "3               0.0                   0           0  \n",
              "4               0.0                   1           1  \n",
              "\n",
              "[5 rows x 34 columns]"
            ]
          },
          "metadata": {
            "tags": []
          },
          "execution_count": 14
        }
      ]
    },
    {
      "cell_type": "code",
      "metadata": {
        "id": "i4ZHq7j0rQSb",
        "colab_type": "code",
        "outputId": "5a9b91fb-c2c0-4e9d-8536-367f18fb7d99",
        "colab": {
          "base_uri": "https://localhost:8080/",
          "height": 765
        }
      },
      "source": [
        "# checking the column data types and non-missing values\n",
        "df.info()"
      ],
      "execution_count": 0,
      "outputs": [
        {
          "output_type": "stream",
          "text": [
            "<class 'pandas.core.frame.DataFrame'>\n",
            "RangeIndex: 159596 entries, 0 to 159595\n",
            "Data columns (total 41 columns):\n",
            "clientId                     159596 non-null int64\n",
            "clientIncome                 159596 non-null float64\n",
            "incomeVerified               159596 non-null object\n",
            "clientAge                    159596 non-null int64\n",
            "clientGender                 159596 non-null object\n",
            "clientMaritalStatus          159596 non-null object\n",
            "clientLoanPurpose            159596 non-null object\n",
            "clientResidentialStauts      159596 non-null object\n",
            "clientState                  159596 non-null object\n",
            "clientTimeAtEmployer         159596 non-null float64\n",
            "clientNumberPhoneContacts    159596 non-null int64\n",
            "clientAvgCallsPerDay         159596 non-null float64\n",
            "loanNumber                   159596 non-null int64\n",
            "applicationDate              159596 non-null datetime64[ns]\n",
            "approvalDate                 159596 non-null datetime64[ns]\n",
            "declinedDate                 7 non-null datetime64[ns]\n",
            "disbursementDate             159596 non-null datetime64[ns]\n",
            "RPdueDate                    159596 non-null object\n",
            "paidAt                       129796 non-null datetime64[ns]\n",
            "loanAmount                   159596 non-null int64\n",
            "interestRate                 159596 non-null float64\n",
            "loanTerm                     159596 non-null int64\n",
            "max_amount_taken             159596 non-null int64\n",
            "max_tenor_taken              159596 non-null int64\n",
            "rILoanId                     159596 non-null object\n",
            "repaidDate                   159596 non-null object\n",
            "rIdueDate                    159596 non-null datetime64[ns]\n",
            "settleDays                   159596 non-null int64\n",
            "firstpaymentRatio            159596 non-null float64\n",
            "firstPaymentDefault          159596 non-null int64\n",
            "loanDefault                  159596 non-null int64\n",
            "clientAge_bin                159593 non-null float64\n",
            "loanIncome_diff              159596 non-null float64\n",
            "amount_diff                  159596 non-null int64\n",
            "reten_measure                159596 non-null int64\n",
            "log_clientIncome             159596 non-null float64\n",
            "clientIncome_bin             159596 non-null int64\n",
            "incomeVerified_encode        159596 non-null int64\n",
            "contactedPerDay              156887 non-null float64\n",
            "clientTimeAtEmployer_year    152025 non-null category\n",
            "clientState_encode           159596 non-null int64\n",
            "dtypes: category(1), datetime64[ns](6), float64(9), int64(16), object(9)\n",
            "memory usage: 48.9+ MB\n"
          ],
          "name": "stdout"
        }
      ]
    },
    {
      "cell_type": "markdown",
      "metadata": {
        "id": "YVflT-KsrpD8",
        "colab_type": "text"
      },
      "source": [
        "From the above , it seems that there are not missing values but exploratory analysis will provide more hidden information about the dataset."
      ]
    },
    {
      "cell_type": "code",
      "metadata": {
        "id": "4yOuVqRmsQUL",
        "colab_type": "code",
        "colab": {}
      },
      "source": [
        "# Checking for the rate of uniqueness in our data and sorting it out\n",
        "uniqueness = df.apply(lambda x: len(pd.unique(x)),axis = 0).sort_values(ascending = False) "
      ],
      "execution_count": 0,
      "outputs": []
    },
    {
      "cell_type": "code",
      "metadata": {
        "id": "Uuc_qw9orabC",
        "colab_type": "code",
        "outputId": "ed899cd0-2420-4413-b1d7-47e19eb07f65",
        "colab": {
          "base_uri": "https://localhost:8080/",
          "height": 586
        }
      },
      "source": [
        "print(uniqueness)"
      ],
      "execution_count": 0,
      "outputs": [
        {
          "output_type": "stream",
          "text": [
            "rILoanId                     159596\n",
            "loanId                       159596\n",
            "RPdueDate                    157900\n",
            "repaidDate                   138121\n",
            "paidAt                       125482\n",
            "clientAvgCallsPerDay         100307\n",
            "clientId                      91904\n",
            "clientIncome                   9362\n",
            "clientNumberPhoneContacts      7378\n",
            "firstpaymentRatio              4875\n",
            "loanAmount                      483\n",
            "settleDays                      419\n",
            "applicationDate                 316\n",
            "approvalDate                    316\n",
            "disbursementDate                305\n",
            "rIdueDate                       301\n",
            "interestRate                    133\n",
            "clientAge                        44\n",
            "clientTimeAtEmployer             41\n",
            "clientState                      40\n",
            "loanNumber                       32\n",
            "clientMaritalStatus               6\n",
            "declinedDate                      6\n",
            "clientResidentialStauts           6\n",
            "clientLoanPurpose                 5\n",
            "incomeVerified                    3\n",
            "loanTerm                          3\n",
            "clientGender                      2\n",
            "loanDefault                       2\n",
            "max_tenor_taken                   2\n",
            "max_amount_taken                  2\n",
            "firstPaymentDefault               2\n",
            "loanType                          1\n",
            "payout_status                     1\n",
            "dtype: int64\n"
          ],
          "name": "stdout"
        }
      ]
    },
    {
      "cell_type": "markdown",
      "metadata": {
        "id": "ohTsk4_EtRs6",
        "colab_type": "text"
      },
      "source": [
        "From the above information, it's clear the rate of recurring of the variables"
      ]
    },
    {
      "cell_type": "code",
      "metadata": {
        "id": "xHiBVaC4tQ_x",
        "colab_type": "code",
        "colab": {}
      },
      "source": [
        "# dropping some variables considering their recurring rate\n",
        "df.drop(['loanType','payout_status','loanId'], axis=1, inplace=True)"
      ],
      "execution_count": 0,
      "outputs": []
    },
    {
      "cell_type": "code",
      "metadata": {
        "id": "8b9sTHLwt2DA",
        "colab_type": "code",
        "colab": {}
      },
      "source": [
        "# Checking for outliers, mistyped parameter, recurring values\n",
        "dict_values = {a:b.value_counts() for a,b in df.items()}"
      ],
      "execution_count": 0,
      "outputs": []
    },
    {
      "cell_type": "code",
      "metadata": {
        "id": "8U2zUutguir0",
        "colab_type": "code",
        "outputId": "7f6298fd-d9e4-428b-916e-9493abfc767c",
        "colab": {
          "base_uri": "https://localhost:8080/",
          "height": 19566
        }
      },
      "source": [
        "dict_values"
      ],
      "execution_count": 0,
      "outputs": [
        {
          "output_type": "execute_result",
          "data": {
            "text/plain": [
              "{'RPdueDate': 2018-10-23 11:00:00 UTC    95\n",
              " 2018-11-22 11:00:00 UTC    88\n",
              " 2018-10-22 11:00:00 UTC    53\n",
              " 2018-11-21 11:00:00 UTC    52\n",
              " 2018-11-23 11:00:00 UTC    13\n",
              " 2018-05-24 08:06:56 UTC     9\n",
              " 2018-05-24 08:06:59 UTC     8\n",
              " 2018-10-24 11:00:00 UTC     7\n",
              " 2018-05-24 08:06:57 UTC     6\n",
              " 2018-05-21 08:06:41 UTC     6\n",
              " 2018-05-23 08:04:26 UTC     6\n",
              " 2018-05-22 08:08:14 UTC     6\n",
              " 2018-05-20 08:07:26 UTC     6\n",
              " 2018-05-23 08:04:25 UTC     6\n",
              " 2018-05-24 08:07:00 UTC     6\n",
              " 2018-05-24 08:06:55 UTC     5\n",
              " 2018-05-24 08:07:01 UTC     5\n",
              " 2018-05-24 08:06:58 UTC     5\n",
              " 2018-05-25 08:06:10 UTC     5\n",
              " 2018-05-26 08:07:05 UTC     5\n",
              " 2018-05-20 08:07:21 UTC     4\n",
              " 2018-05-22 08:08:18 UTC     4\n",
              " 2018-05-26 08:06:46 UTC     4\n",
              " 2018-05-21 08:06:39 UTC     4\n",
              " 2018-06-19 08:07:26 UTC     4\n",
              " 2018-05-23 08:04:29 UTC     4\n",
              " 2018-05-24 08:06:54 UTC     4\n",
              " 2018-05-22 08:08:16 UTC     4\n",
              " 2018-05-20 08:07:14 UTC     4\n",
              " 2018-05-25 08:06:11 UTC     4\n",
              "                            ..\n",
              " 2018-09-24 10:44:41 UTC     1\n",
              " 2018-10-02 06:47:11 UTC     1\n",
              " 2018-10-21 11:16:10 UTC     1\n",
              " 2018-11-06 04:38:44 UTC     1\n",
              " 2018-05-07 06:37:28 UTC     1\n",
              " 2018-03-21 08:48:54 UTC     1\n",
              " 2018-08-12 07:56:19 UTC     1\n",
              " 2018-04-30 10:50:44 UTC     1\n",
              " 2018-10-27 08:02:29 UTC     1\n",
              " 2018-07-22 07:51:27 UTC     1\n",
              " 2018-09-05 06:38:38 UTC     1\n",
              " 2018-09-23 03:43:52 UTC     1\n",
              " 2018-12-14 01:55:34 UTC     1\n",
              " 2018-04-20 12:26:23 UTC     1\n",
              " 2018-08-25 03:52:48 UTC     1\n",
              " 2018-11-13 10:19:26 UTC     1\n",
              " 2018-08-24 05:44:52 UTC     1\n",
              " 2018-05-11 03:12:14 UTC     1\n",
              " 2018-11-08 02:58:31 UTC     1\n",
              " 2018-05-11 05:20:07 UTC     1\n",
              " 2018-07-03 09:17:19 UTC     1\n",
              " 2018-06-21 04:52:19 UTC     1\n",
              " 2018-10-19 07:32:44 UTC     1\n",
              " 2018-07-04 07:39:48 UTC     1\n",
              " 2018-07-19 02:45:04 UTC     1\n",
              " 2018-04-12 12:53:42 UTC     1\n",
              " 2018-05-17 08:49:44 UTC     1\n",
              " 2018-06-29 08:51:21 UTC     1\n",
              " 2018-06-27 01:35:54 UTC     1\n",
              " 2018-03-12 05:32:37 UTC     1\n",
              " Name: RPdueDate, Length: 157900, dtype: int64,\n",
              " 'applicationDate': 2018-03-02    1026\n",
              " 2018-03-29     933\n",
              " 2018-03-28     886\n",
              " 2018-04-30     885\n",
              " 2018-07-02     855\n",
              " 2018-07-04     852\n",
              " 2018-03-01     850\n",
              " 2018-03-05     847\n",
              " 2018-02-28     837\n",
              " 2018-01-31     831\n",
              " 2018-03-07     825\n",
              " 2018-06-12     819\n",
              " 2018-05-02     818\n",
              " 2018-03-27     813\n",
              " 2018-06-01     811\n",
              " 2018-03-06     809\n",
              " 2018-07-03     807\n",
              " 2018-03-08     801\n",
              " 2018-05-31     796\n",
              " 2018-04-03     795\n",
              " 2018-05-04     785\n",
              " 2018-05-03     781\n",
              " 2018-05-30     772\n",
              " 2018-06-29     771\n",
              " 2018-02-02     768\n",
              " 2018-04-05     763\n",
              " 2018-02-27     759\n",
              " 2018-03-09     748\n",
              " 2018-06-04     746\n",
              " 2018-04-04     742\n",
              "               ... \n",
              " 2018-10-06     279\n",
              " 2018-04-22     276\n",
              " 2018-05-20     271\n",
              " 2018-07-08     270\n",
              " 2018-08-05     266\n",
              " 2018-07-07     262\n",
              " 2018-01-21     262\n",
              " 2018-01-14     251\n",
              " 2018-10-13     250\n",
              " 2018-10-27     249\n",
              " 2018-07-22     248\n",
              " 2018-10-20     246\n",
              " 2018-08-12     241\n",
              " 2018-07-29     240\n",
              " 2018-07-15     221\n",
              " 2018-10-28     200\n",
              " 2018-10-07     197\n",
              " 2018-10-14     185\n",
              " 2018-10-21     164\n",
              " 2017-12-23       2\n",
              " 2017-12-22       2\n",
              " 2017-10-23       1\n",
              " 2017-12-31       1\n",
              " 2017-12-20       1\n",
              " 2017-12-18       1\n",
              " 2017-12-29       1\n",
              " 2017-10-24       1\n",
              " 2017-12-30       1\n",
              " 2017-11-22       1\n",
              " 2017-12-21       1\n",
              " Name: applicationDate, Length: 316, dtype: int64,\n",
              " 'approvalDate': 2018-03-02    1026\n",
              " 2018-03-29     933\n",
              " 2018-03-28     886\n",
              " 2018-04-30     885\n",
              " 2018-07-02     856\n",
              " 2018-07-04     852\n",
              " 2018-03-01     850\n",
              " 2018-03-05     847\n",
              " 2018-02-28     837\n",
              " 2018-01-31     831\n",
              " 2018-03-07     825\n",
              " 2018-06-12     819\n",
              " 2018-05-02     819\n",
              " 2018-03-27     813\n",
              " 2018-06-01     811\n",
              " 2018-03-06     809\n",
              " 2018-07-03     807\n",
              " 2018-03-08     801\n",
              " 2018-05-31     796\n",
              " 2018-04-03     795\n",
              " 2018-05-04     785\n",
              " 2018-05-03     781\n",
              " 2018-05-30     772\n",
              " 2018-06-29     772\n",
              " 2018-02-02     768\n",
              " 2018-02-27     764\n",
              " 2018-04-05     763\n",
              " 2018-03-09     748\n",
              " 2018-06-04     745\n",
              " 2018-04-04     742\n",
              "               ... \n",
              " 2018-10-27     280\n",
              " 2018-10-06     279\n",
              " 2018-04-22     276\n",
              " 2018-05-20     271\n",
              " 2018-07-08     270\n",
              " 2018-08-05     266\n",
              " 2018-01-21     262\n",
              " 2018-07-07     262\n",
              " 2018-01-14     251\n",
              " 2018-10-13     250\n",
              " 2018-07-22     248\n",
              " 2018-10-20     246\n",
              " 2018-08-12     241\n",
              " 2018-07-29     240\n",
              " 2018-07-15     221\n",
              " 2018-10-28     200\n",
              " 2018-10-07     197\n",
              " 2018-10-14     185\n",
              " 2018-10-21     164\n",
              " 2017-12-23       2\n",
              " 2017-12-22       2\n",
              " 2017-10-23       1\n",
              " 2017-12-31       1\n",
              " 2017-12-20       1\n",
              " 2017-12-18       1\n",
              " 2017-12-29       1\n",
              " 2017-10-24       1\n",
              " 2017-12-30       1\n",
              " 2017-11-22       1\n",
              " 2017-12-21       1\n",
              " Name: approvalDate, Length: 316, dtype: int64,\n",
              " 'clientAge': 33     9301\n",
              " 32     9204\n",
              " 34     8899\n",
              " 31     8854\n",
              " 29     8485\n",
              " 35     8460\n",
              " 30     8298\n",
              " 28     7978\n",
              " 27     7214\n",
              " 36     6969\n",
              " 37     6897\n",
              " 38     6479\n",
              " 26     6394\n",
              " 25     6020\n",
              " 39     5350\n",
              " 24     4747\n",
              " 40     4431\n",
              " 41     4090\n",
              " 23     4006\n",
              " 42     3760\n",
              " 43     3175\n",
              " 22     2977\n",
              " 44     2486\n",
              " 45     2340\n",
              " 21     1696\n",
              " 46     1663\n",
              " 47     1648\n",
              " 48     1529\n",
              " 49     1229\n",
              " 50     1118\n",
              " 52      875\n",
              " 51      805\n",
              " 53      746\n",
              " 54      598\n",
              " 55      522\n",
              " 56       94\n",
              " 58       94\n",
              " 57       75\n",
              " 59       52\n",
              " 60       23\n",
              " 20       10\n",
              " 18        3\n",
              " 19        1\n",
              " 138       1\n",
              " Name: clientAge, dtype: int64,\n",
              " 'clientAvgCallsPerDay': 0                     3639\n",
              " Null                  2687\n",
              " 1                      899\n",
              " 2                      672\n",
              " 3                      592\n",
              " 4                      454\n",
              " 7                      387\n",
              " 5                      383\n",
              " 6                      358\n",
              " 8                      288\n",
              " 9                      276\n",
              " 10                     260\n",
              " 12                     249\n",
              " 11                     246\n",
              " 14                     208\n",
              " 13                     205\n",
              " 15                     201\n",
              " 18                     195\n",
              " 17                     176\n",
              " 20                     164\n",
              " 19                     163\n",
              " 21                     162\n",
              " 16                     155\n",
              " 23                     155\n",
              " 22                     149\n",
              " 26                     139\n",
              " 29                     137\n",
              " 28                     136\n",
              " 25                     130\n",
              " 24                     126\n",
              "                       ... \n",
              " 57.563876651982376       1\n",
              " 43.78688524590164        1\n",
              " 17.99421965317919        1\n",
              " 54.82962962962963        1\n",
              " 2.4324324324324325       1\n",
              " 20.646017699115045       1\n",
              " 2.0273224043715845       1\n",
              " 36.10655737704918        1\n",
              " 21.483333333333334       1\n",
              " 485.8181818181818        1\n",
              " 68.19838056680162        1\n",
              " 36.28605200945626        1\n",
              " 109.46039603960396       1\n",
              " 40.4040404040404         1\n",
              " 0.8881118881118881       1\n",
              " 55.76986301369863        1\n",
              " 26.439862542955325       1\n",
              " 528.2932330827068        1\n",
              " 68.71014492753623        1\n",
              " 59.7891156462585         1\n",
              " 17.80094786729858        1\n",
              " 1.717741935483871        1\n",
              " 106.78571428571429       1\n",
              " 128.3360655737705        1\n",
              " 7.474747474747475        1\n",
              " 35.424107142857146       1\n",
              " 23.788617886178862       1\n",
              " 75.68075117370893        1\n",
              " 129.29457364341084       1\n",
              " 6.927899686520377        1\n",
              " Name: clientAvgCallsPerDay, Length: 100307, dtype: int64,\n",
              " 'clientGender': MALE      109666\n",
              " FEMALE     49930\n",
              " Name: clientGender, dtype: int64,\n",
              " 'clientId': 819296735    10\n",
              " 590122430    10\n",
              " 233894454    10\n",
              " 686128144    10\n",
              " 479405327     9\n",
              " 572900120     9\n",
              " 966873263     9\n",
              " 305824126     9\n",
              " 463895282     8\n",
              " 899538843     8\n",
              " 903880521     8\n",
              " 23311426      8\n",
              " 860579412     8\n",
              " 678577437     8\n",
              " 698339757     8\n",
              " 771247266     8\n",
              " 389168072     8\n",
              " 620453486     8\n",
              " 732051233     8\n",
              " 673444317     8\n",
              " 374464696     7\n",
              " 889042683     7\n",
              " 348624045     7\n",
              " 181798514     7\n",
              " 717485375     7\n",
              " 785829126     7\n",
              " 383980145     7\n",
              " 64241864      7\n",
              " 800283479     7\n",
              " 268379000     7\n",
              "              ..\n",
              " 850738016     1\n",
              " 194948114     1\n",
              " 749185970     1\n",
              " 19022863      1\n",
              " 705823751     1\n",
              " 939662340     1\n",
              " 219298816     1\n",
              " 329118713     1\n",
              " 386251760     1\n",
              " 259595236     1\n",
              " 406666208     1\n",
              " 963666891     1\n",
              " 807654333     1\n",
              " 395830203     1\n",
              " 619156405     1\n",
              " 73380785      1\n",
              " 178592612     1\n",
              " 593169318     1\n",
              " 308482981     1\n",
              " 119223201     1\n",
              " 73074712      1\n",
              " 117629851     1\n",
              " 557475450     1\n",
              " 472296338     1\n",
              " 559027077     1\n",
              " 620882810     1\n",
              " 54192484      1\n",
              " 518253702     1\n",
              " 118031207     1\n",
              " 90703873      1\n",
              " Name: clientId, Length: 91904, dtype: int64,\n",
              " 'clientIncome': 35000.00     25358\n",
              " 70000.00     18829\n",
              " 17500.00     14363\n",
              " 52500.00     12941\n",
              " 105000.00    10590\n",
              " 25000.00      8027\n",
              " 140000.00     7444\n",
              " 50000.00      5308\n",
              " 175000.00     4439\n",
              " 20000.00      3306\n",
              " 210000.00     3165\n",
              " 100000.00     3030\n",
              " 87500.00      2866\n",
              " 122500.00     2437\n",
              " 525000.00     2266\n",
              " 350000.00     2110\n",
              " 75000.00      1796\n",
              " 245000.00     1632\n",
              " 280000.00     1112\n",
              " 150000.00     1060\n",
              " 200000.00      809\n",
              " 30000.00       786\n",
              " 157500.00      716\n",
              " 315000.00      644\n",
              " 10000.00       600\n",
              " 15000.00       567\n",
              " 192500.00      532\n",
              " 40000.00       517\n",
              " 125000.00      470\n",
              " 250000.00      361\n",
              "              ...  \n",
              " 170159.00        1\n",
              " 5309.50          1\n",
              " 164853.62        1\n",
              " 147077.10        1\n",
              " 21240.00         1\n",
              " 118047.03        1\n",
              " 56712.42         1\n",
              " 90075.13         1\n",
              " 42493.50         1\n",
              " 51233.77         1\n",
              " 88111.38         1\n",
              " 4489.05          1\n",
              " 235007.06        1\n",
              " 124217.60        1\n",
              " 117497.78        1\n",
              " 1447.50          1\n",
              " 22951.85         1\n",
              " 84713.28         1\n",
              " 29447.50         1\n",
              " 58900.00         1\n",
              " 17435.76         1\n",
              " 69295.11         1\n",
              " 21260.00         1\n",
              " 35012.48         1\n",
              " 117443.28        1\n",
              " 69637.54         1\n",
              " 69637.79         1\n",
              " 102897.96        1\n",
              " 249146.05        1\n",
              " 90566.43         1\n",
              " Name: clientIncome, Length: 9362, dtype: int64,\n",
              " 'clientLoanPurpose': business     78976\n",
              " other        31554\n",
              " house        22240\n",
              " education    15737\n",
              " medical      11089\n",
              " Name: clientLoanPurpose, dtype: int64,\n",
              " 'clientMaritalStatus': Married      85492\n",
              " Single       71361\n",
              " Separated     1795\n",
              " Widowed        939\n",
              " Null             6\n",
              " Divorced         3\n",
              " Name: clientMaritalStatus, dtype: int64,\n",
              " 'clientNumberPhoneContacts': Null     2708\n",
              " 200       216\n",
              " 400       186\n",
              " 310       166\n",
              " 350       149\n",
              " 542       148\n",
              " 360       147\n",
              " 600       146\n",
              " 476       145\n",
              " 325       145\n",
              " 356       144\n",
              " 314       142\n",
              " 376       142\n",
              " 301       142\n",
              " 417       141\n",
              " 395       141\n",
              " 388       140\n",
              " 269       140\n",
              " 410       139\n",
              " 317       139\n",
              " 541       139\n",
              " 398       139\n",
              " 293       138\n",
              " 330       137\n",
              " 414       137\n",
              " 455       137\n",
              " 344       137\n",
              " 592       137\n",
              " 347       136\n",
              " 211       136\n",
              "          ... \n",
              " 5176        1\n",
              " 5040        1\n",
              " 20467       1\n",
              " 7469        1\n",
              " 9789        1\n",
              " 6249        1\n",
              " 7216        1\n",
              " 9752        1\n",
              " 13744       1\n",
              " 5807        1\n",
              " 12117       1\n",
              " 13649       1\n",
              " 9156        1\n",
              " 5509        1\n",
              " 6361        1\n",
              " 6170        1\n",
              " 9636        1\n",
              " 5106        1\n",
              " 9355        1\n",
              " 5949        1\n",
              " 8857        1\n",
              " 8785        1\n",
              " 9542        1\n",
              " 9875        1\n",
              " 4444        1\n",
              " 7509        1\n",
              " 9501        1\n",
              " 7405        1\n",
              " 7933        1\n",
              " 11991       1\n",
              " Name: clientNumberPhoneContacts, Length: 7378, dtype: int64,\n",
              " 'clientResidentialStauts': Rented               100534\n",
              " Own Residence         26406\n",
              " Family Owned          25668\n",
              " Employer Provided      5589\n",
              " Null                   1136\n",
              " Temp. Residence         263\n",
              " Name: clientResidentialStauts, dtype: int64,\n",
              " 'clientState': LAGOS          60666\n",
              " OGUN           14798\n",
              " ABUJA          13999\n",
              " OYO            12731\n",
              " RIVERS          7829\n",
              " DELTA           5081\n",
              " KWARA           3969\n",
              " OSUN            3816\n",
              " ONDO            3571\n",
              " KADUNA          3496\n",
              " EDO             2663\n",
              " NIGER           2462\n",
              " BENUE           2043\n",
              " EKITI           2023\n",
              " AKWA IBOM       1960\n",
              " KOGI            1896\n",
              " PLATEAU         1715\n",
              " CROSS RIVER     1608\n",
              " NASARAWA        1589\n",
              " ENUGU           1566\n",
              " ANAMBRA         1496\n",
              " ABIA            1426\n",
              " IMO             1287\n",
              " KANO            1233\n",
              " BAYELSA         1179\n",
              " ADAMAWA          569\n",
              " BAUCHI           418\n",
              " SOKOTO           398\n",
              " EBONYI           392\n",
              " TARABA           336\n",
              " KEBBI            279\n",
              " GOMBE            265\n",
              " KATSINA          248\n",
              " ZAMFARA          221\n",
              " BORNO            210\n",
              " YOBE              83\n",
              " JIGAWA            72\n",
              " LAGOS              1\n",
              " Null               1\n",
              " OJO                1\n",
              " Name: clientState, dtype: int64,\n",
              " 'clientTimeAtEmployer': 36+     87294\n",
              " Null     4194\n",
              " 0        3373\n",
              " 24       2926\n",
              " 12       2643\n",
              " 3        2391\n",
              " 2        2358\n",
              " 13       2356\n",
              " 1        2325\n",
              " 4        2295\n",
              " 5        2202\n",
              " 6        2142\n",
              " 7        2039\n",
              " 9        1991\n",
              " 8        1910\n",
              " 15       1886\n",
              " 14       1882\n",
              " 16       1860\n",
              " 25       1847\n",
              " 11       1813\n",
              " 17       1767\n",
              " 26       1763\n",
              " 10       1741\n",
              " 27       1731\n",
              " 23       1704\n",
              " 28       1688\n",
              " 18       1673\n",
              " 22       1582\n",
              " 29       1576\n",
              " 20       1562\n",
              " 21       1513\n",
              " 19       1510\n",
              " 31       1425\n",
              " 30       1418\n",
              " 32       1375\n",
              " 34       1287\n",
              " 35       1282\n",
              " 33       1268\n",
              " -6          2\n",
              " -7          1\n",
              " -5          1\n",
              " Name: clientTimeAtEmployer, dtype: int64,\n",
              " 'declinedDate': Null          159589\n",
              " 2018-04-18         2\n",
              " 2018-11-01         2\n",
              " 2018-09-05         1\n",
              " 2018-05-07         1\n",
              " 2018-04-19         1\n",
              " Name: declinedDate, dtype: int64,\n",
              " 'disbursementDate': 2018-03-02    1029\n",
              " 2018-03-29     938\n",
              " 2018-03-28     897\n",
              " 2018-04-30     876\n",
              " 2018-03-27     859\n",
              " 2018-07-04     851\n",
              " 2018-07-02     850\n",
              " 2018-03-01     848\n",
              " 2018-02-28     842\n",
              " 2018-03-07     827\n",
              " 2018-03-05     826\n",
              " 2018-03-06     821\n",
              " 2018-06-01     820\n",
              " 2018-01-31     820\n",
              " 2018-07-03     806\n",
              " 2018-05-02     805\n",
              " 2018-06-12     802\n",
              " 2018-03-08     801\n",
              " 2018-05-31     800\n",
              " 2018-05-04     793\n",
              " 2018-05-03     789\n",
              " 2018-04-03     788\n",
              " 2018-06-29     781\n",
              " 2018-02-02     775\n",
              " 2018-04-05     766\n",
              " 2018-02-27     764\n",
              " 2018-05-30     759\n",
              " 2018-03-26     758\n",
              " 2018-03-09     745\n",
              " 2018-06-05     743\n",
              "               ... \n",
              " 2018-06-10     298\n",
              " 2018-10-19     298\n",
              " 2018-05-13     297\n",
              " 2018-01-07     297\n",
              " 2018-09-23     296\n",
              " 2018-08-19     296\n",
              " 2018-10-25     295\n",
              " 2018-10-23     294\n",
              " 2018-09-09     293\n",
              " 2018-10-24     288\n",
              " 2018-10-27     284\n",
              " 2018-04-22     282\n",
              " 2018-10-06     280\n",
              " 2018-05-20     272\n",
              " 2018-02-18     268\n",
              " 2018-07-08     268\n",
              " 2018-07-07     264\n",
              " 2018-08-05     263\n",
              " 2018-01-21     253\n",
              " 2018-10-13     250\n",
              " 2018-01-14     250\n",
              " 2018-10-20     246\n",
              " 2018-07-22     243\n",
              " 2018-08-12     240\n",
              " 2018-07-29     234\n",
              " 2018-07-15     216\n",
              " 2018-10-28     199\n",
              " 2018-10-07     194\n",
              " 2018-10-14     184\n",
              " 2018-10-21     160\n",
              " Name: disbursementDate, Length: 305, dtype: int64,\n",
              " 'firstPaymentDefault': 0    112632\n",
              " 1     46964\n",
              " Name: firstPaymentDefault, dtype: int64,\n",
              " 'firstpaymentRatio': 0.000000    140125\n",
              " 1.000000      7493\n",
              " 0.964286       330\n",
              " 0.969231       288\n",
              " 0.938462       238\n",
              " 0.928571       231\n",
              " 0.892857       142\n",
              " 0.970909       139\n",
              " 0.857143       127\n",
              " 0.968379       115\n",
              " 0.907692       107\n",
              " 0.952381       105\n",
              " 0.876923       101\n",
              " 0.936759        95\n",
              " 0.941818        83\n",
              " 0.868304        77\n",
              " 0.904762        77\n",
              " 0.973333        75\n",
              " 0.957219        73\n",
              " 0.877885        69\n",
              " 0.696154        63\n",
              " 0.815385        59\n",
              " 0.692308        59\n",
              " 0.912727        54\n",
              " 0.846154        49\n",
              " 0.904018        48\n",
              " 0.946667        48\n",
              " 0.817308        46\n",
              " 0.714286        45\n",
              " 0.905138        44\n",
              "              ...  \n",
              " 0.914964         1\n",
              " 0.543881         1\n",
              " 0.296853         1\n",
              " 0.425346         1\n",
              " 0.260150         1\n",
              " 0.350079         1\n",
              " 0.745536         1\n",
              " 0.440463         1\n",
              " 0.837662         1\n",
              " 0.567688         1\n",
              " 0.658667         1\n",
              " 0.750850         1\n",
              " 0.857988         1\n",
              " 0.247046         1\n",
              " 0.079017         1\n",
              " 0.726230         1\n",
              " 0.949833         1\n",
              " 0.292771         1\n",
              " 0.282110         1\n",
              " 0.028571         1\n",
              " 0.269777         1\n",
              " 0.283381         1\n",
              " 0.493699         1\n",
              " 0.328126         1\n",
              " 0.160455         1\n",
              " 0.816250         1\n",
              " 0.814035         1\n",
              " 0.262678         1\n",
              " 0.447717         1\n",
              " 0.477855         1\n",
              " Name: firstpaymentRatio, Length: 4875, dtype: int64,\n",
              " 'incomeVerified': false    133286\n",
              " true      26207\n",
              " Null        103\n",
              " Name: incomeVerified, dtype: int64,\n",
              " 'interestRate': 12.500    46545\n",
              " 20.000    34596\n",
              " 15.000    33173\n",
              " 7.500     17374\n",
              " 10.000    16200\n",
              " 5.000      8722\n",
              " 6.000      2545\n",
              " 14.000       54\n",
              " 18.750       46\n",
              " 11.667       28\n",
              " 4.500        27\n",
              " 12.056       22\n",
              " 18.333       22\n",
              " 9.630        22\n",
              " 12.017       21\n",
              " 9.375        16\n",
              " 11.846        8\n",
              " 7.222         7\n",
              " 7.403         6\n",
              " 11.944        6\n",
              " 9.495         4\n",
              " 11.500        4\n",
              " 4.917         4\n",
              " 4.958         3\n",
              " 13.864        3\n",
              " 13.750        3\n",
              " 11.979        3\n",
              " 4.856         3\n",
              " 10.417        3\n",
              " 7.083         2\n",
              "           ...  \n",
              " 6.645         1\n",
              " 4.762         1\n",
              " 9.367         1\n",
              " 4.901         1\n",
              " 4.867         1\n",
              " 6.599         1\n",
              " 5.612         1\n",
              " 11.833        1\n",
              " 4.929         1\n",
              " 13.684        1\n",
              " 6.944         1\n",
              " 11.458        1\n",
              " 11.111        1\n",
              " 4.919         1\n",
              " 7.367         1\n",
              " 8.958         1\n",
              " 11.250        1\n",
              " 11.731        1\n",
              " 18.864        1\n",
              " 9.206         1\n",
              " 14.425        1\n",
              " 4.830         1\n",
              " 4.967         1\n",
              " 11.591        1\n",
              " 4.823         1\n",
              " 12.179        1\n",
              " 13.485        1\n",
              " 4.908         1\n",
              " 9.750         1\n",
              " 4.954         1\n",
              " Name: interestRate, Length: 133, dtype: int64,\n",
              " 'loanAmount': 20000     26189\n",
              " 25000     25058\n",
              " 30000     11421\n",
              " 37500      9323\n",
              " 15000      9105\n",
              " 34500      8252\n",
              " 45000      4885\n",
              " 40000      4840\n",
              " 25500      3946\n",
              " 22000      2914\n",
              " 12000      2585\n",
              " 17000      2066\n",
              " 32000      2045\n",
              " 100000     2004\n",
              " 49000      1906\n",
              " 19500      1784\n",
              " 60000      1383\n",
              " 14500      1264\n",
              " 86000      1072\n",
              " 79000      1025\n",
              " 42000      1014\n",
              " 47000       983\n",
              " 200000      943\n",
              " 49500       938\n",
              " 27000       837\n",
              " 59500       806\n",
              " 50000       798\n",
              " 90000       711\n",
              " 35000       690\n",
              " 29500       647\n",
              "           ...  \n",
              " 265500        1\n",
              " 210500        1\n",
              " 272500        1\n",
              " 255500        1\n",
              " 270500        1\n",
              " 258000        1\n",
              " 189000        1\n",
              " 264000        1\n",
              " 166500        1\n",
              " 213000        1\n",
              " 220500        1\n",
              " 318500        1\n",
              " 223500        1\n",
              " 282500        1\n",
              " 188000        1\n",
              " 153000        1\n",
              " 409000        1\n",
              " 262500        1\n",
              " 202500        1\n",
              " 173500        1\n",
              " 195000        1\n",
              " 234500        1\n",
              " 351000        1\n",
              " 242500        1\n",
              " 229000        1\n",
              " 197000        1\n",
              " 232000        1\n",
              " 482500        1\n",
              " 240000        1\n",
              " 200500        1\n",
              " Name: loanAmount, Length: 483, dtype: int64,\n",
              " 'loanDefault': 0    114926\n",
              " 1     44670\n",
              " Name: loanDefault, dtype: int64,\n",
              " 'loanNumber': 2     57430\n",
              " 3     39830\n",
              " 4     22595\n",
              " 5     12804\n",
              " 6      7303\n",
              " 1      6748\n",
              " 7      4006\n",
              " 8      2377\n",
              " 9      1526\n",
              " 10     1114\n",
              " 11      768\n",
              " 12      605\n",
              " 13      465\n",
              " 14      430\n",
              " 15      348\n",
              " 16      301\n",
              " 17      223\n",
              " 18      190\n",
              " 19      147\n",
              " 20      113\n",
              " 21       93\n",
              " 22       50\n",
              " 23       38\n",
              " 24       24\n",
              " 25       20\n",
              " 26       14\n",
              " 27       13\n",
              " 28        8\n",
              " 29        7\n",
              " 31        2\n",
              " 30        2\n",
              " 32        2\n",
              " Name: loanNumber, dtype: int64,\n",
              " 'loanTerm': 60     87908\n",
              " 90     50568\n",
              " 180    21120\n",
              " Name: loanTerm, dtype: int64,\n",
              " 'max_amount_taken': 1    112559\n",
              " 0     47037\n",
              " Name: max_amount_taken, dtype: int64,\n",
              " 'max_tenor_taken': 1    146090\n",
              " 0     13506\n",
              " Name: max_tenor_taken, dtype: int64,\n",
              " 'paidAt': Null                       29800\n",
              " 2018-10-09 01:29:49 UTC        6\n",
              " 2018-03-05 04:05:36 UTC        5\n",
              " 2018-10-08 04:46:57 UTC        5\n",
              " 2018-10-08 04:37:16 UTC        5\n",
              " 2018-03-05 04:05:35 UTC        5\n",
              " 2018-08-18 06:42:40 UTC        5\n",
              " 2018-11-01 06:05:45 UTC        5\n",
              " 2018-03-05 04:04:36 UTC        5\n",
              " 2018-03-05 04:04:35 UTC        5\n",
              " 2018-03-05 04:05:43 UTC        5\n",
              " 2018-10-09 04:01:33 UTC        5\n",
              " 2018-10-08 04:46:56 UTC        5\n",
              " 2018-11-01 06:05:04 UTC        4\n",
              " 2018-11-02 08:13:09 UTC        4\n",
              " 2018-11-01 06:00:43 UTC        4\n",
              " 2018-08-18 07:00:07 UTC        4\n",
              " 2018-06-28 08:48:17 UTC        4\n",
              " 2018-11-02 09:19:52 UTC        4\n",
              " 2018-11-06 11:40:45 UTC        4\n",
              " 2018-11-02 08:13:13 UTC        4\n",
              " 2018-08-20 04:20:41 UTC        4\n",
              " 2018-03-05 04:23:17 UTC        4\n",
              " 2018-08-19 12:10:33 UTC        4\n",
              " 2018-10-12 11:23:56 UTC        4\n",
              " 2018-03-05 04:05:37 UTC        4\n",
              " 2018-10-19 05:48:34 UTC        4\n",
              " 2018-11-01 07:01:28 UTC        4\n",
              " 2018-03-05 04:02:32 UTC        4\n",
              " 2018-03-05 04:04:07 UTC        4\n",
              "                            ...  \n",
              " 2018-08-11 04:42:04 UTC        1\n",
              " 2018-07-20 08:07:37 UTC        1\n",
              " 2018-06-04 03:05:35 UTC        1\n",
              " 2018-05-22 12:32:40 UTC        1\n",
              " 2018-06-14 12:55:25 UTC        1\n",
              " 2018-11-02 08:53:27 UTC        1\n",
              " 2018-04-14 09:08:16 UTC        1\n",
              " 2018-07-22 09:01:47 UTC        1\n",
              " 2019-02-05 05:41:28 UTC        1\n",
              " 2018-09-26 04:30:00 UTC        1\n",
              " 2018-10-16 04:13:09 UTC        1\n",
              " 2018-12-18 09:33:32 UTC        1\n",
              " 2018-11-21 08:57:52 UTC        1\n",
              " 2018-07-17 03:46:00 UTC        1\n",
              " 2019-02-09 06:59:25 UTC        1\n",
              " 2018-02-01 10:26:24 UTC        1\n",
              " 2018-08-17 09:23:23 UTC        1\n",
              " 2018-12-12 04:19:59 UTC        1\n",
              " 2018-03-13 06:56:38 UTC        1\n",
              " 2018-04-23 08:56:51 UTC        1\n",
              " 2018-10-14 06:11:03 UTC        1\n",
              " 2018-10-03 11:31:55 UTC        1\n",
              " 2018-10-10 12:37:15 UTC        1\n",
              " 2018-08-30 02:41:02 UTC        1\n",
              " 2018-12-14 06:32:09 UTC        1\n",
              " 2018-06-12 12:00:37 UTC        1\n",
              " 2018-02-27 12:17:27 UTC        1\n",
              " 2018-06-24 10:17:59 UTC        1\n",
              " 2018-07-16 11:44:55 UTC        1\n",
              " 2018-05-05 05:27:21 UTC        1\n",
              " Name: paidAt, Length: 125482, dtype: int64,\n",
              " 'rILoanId': 302499578641    1\n",
              " 302477429958    1\n",
              " 303178894       1\n",
              " 302363881093    1\n",
              " 301834948441    1\n",
              " 301880971559    1\n",
              " 302552281358    1\n",
              " 302108415816    1\n",
              " PP2016402617    1\n",
              " 302510224977    1\n",
              " 302748080       1\n",
              " 302263818902    1\n",
              " 302666524       1\n",
              " 301752384389    1\n",
              " 302789792       1\n",
              " 303067699       1\n",
              " 301792259490    1\n",
              " 302873390       1\n",
              " 303165858       1\n",
              " 302998165       1\n",
              " 303073747       1\n",
              " 302174394484    1\n",
              " 301971722336    1\n",
              " 302238313756    1\n",
              " 303064937       1\n",
              " 302882513       1\n",
              " 302554898922    1\n",
              " 302736328       1\n",
              " 302003530956    1\n",
              " 303019610       1\n",
              "                ..\n",
              " 301957956748    1\n",
              " 302141485692    1\n",
              " 301907923299    1\n",
              " 303018231       1\n",
              " 302605930       1\n",
              " 303119637       1\n",
              " 303190598       1\n",
              " 302963578       1\n",
              " 302109477677    1\n",
              " 301871571890    1\n",
              " 302897723       1\n",
              " 301849042253    1\n",
              " 302044341952    1\n",
              " 302469677989    1\n",
              " 302057943679    1\n",
              " 302641566938    1\n",
              " 302663248291    1\n",
              " 302586752       1\n",
              " 303097634       1\n",
              " 303041147       1\n",
              " 302826956       1\n",
              " 301790421614    1\n",
              " PP2074442222    1\n",
              " 302610538       1\n",
              " 303134646       1\n",
              " 302913762       1\n",
              " 301801199919    1\n",
              " 302133863042    1\n",
              " 302110002047    1\n",
              " 302884141       1\n",
              " Name: rILoanId, Length: 159596, dtype: int64,\n",
              " 'rIdueDate': 2018-07-02 12:00:00 UTC    2160\n",
              " 2018-06-04 12:00:00 UTC    2050\n",
              " 2018-07-30 12:00:00 UTC    2032\n",
              " 2018-07-09 12:00:00 UTC    1879\n",
              " 2018-06-11 12:00:00 UTC    1752\n",
              " 2018-06-25 12:00:00 UTC    1719\n",
              " 2018-07-23 12:00:00 UTC    1552\n",
              " 2018-07-16 12:00:00 UTC    1536\n",
              " 2018-06-18 12:00:00 UTC    1495\n",
              " 2018-08-13 12:00:00 UTC    1379\n",
              " 2018-08-06 12:00:00 UTC    1294\n",
              " 2018-08-20 12:00:00 UTC    1177\n",
              " 2018-08-27 12:00:00 UTC    1167\n",
              " 2018-05-30 12:00:00 UTC    1147\n",
              " 2018-04-01 12:00:00 UTC    1038\n",
              " 2018-05-28 12:00:00 UTC     972\n",
              " 2018-05-02 12:00:00 UTC     947\n",
              " 2018-04-28 12:00:00 UTC     940\n",
              " 2018-02-05 12:00:00 UTC     889\n",
              " 2018-04-27 12:00:00 UTC     883\n",
              " 2018-08-01 12:00:00 UTC     856\n",
              " 2018-03-31 12:00:00 UTC     851\n",
              " 2018-08-03 12:00:00 UTC     850\n",
              " 2018-03-30 12:00:00 UTC     838\n",
              " 2018-04-04 12:00:00 UTC     834\n",
              " 2018-04-06 12:00:00 UTC     829\n",
              " 2018-03-02 12:00:00 UTC     824\n",
              " 2018-06-01 12:00:00 UTC     822\n",
              " 2018-07-12 12:00:00 UTC     819\n",
              " 2018-04-05 12:00:00 UTC     816\n",
              "                            ... \n",
              " 2018-08-14 12:00:00 UTC     221\n",
              " 2018-11-27 12:00:00 UTC     200\n",
              " 2018-11-06 12:00:00 UTC     197\n",
              " 2018-11-13 12:00:00 UTC     185\n",
              " 2018-11-20 12:00:00 UTC     164\n",
              " 2018-02-03 12:00:00 UTC     136\n",
              " 2018-10-01 12:00:00 UTC      18\n",
              " 2018-01-22 12:00:00 UTC       5\n",
              " 2018-08-04 12:00:00 UTC       3\n",
              " 2018-06-24 12:00:00 UTC       2\n",
              " 2018-07-28 12:00:00 UTC       2\n",
              " 2018-07-22 12:00:00 UTC       2\n",
              " 2018-06-02 12:00:00 UTC       2\n",
              " 2018-06-30 12:00:00 UTC       2\n",
              " 2018-06-17 12:00:00 UTC       1\n",
              " 2018-08-05 12:00:00 UTC       1\n",
              " 2018-08-18 12:00:00 UTC       1\n",
              " 2018-07-29 12:00:00 UTC       1\n",
              " 2018-06-09 12:00:00 UTC       1\n",
              " 2018-08-19 12:00:00 UTC       1\n",
              " 2018-07-01 12:00:00 UTC       1\n",
              " 2018-06-16 12:00:00 UTC       1\n",
              " 2018-06-23 12:00:00 UTC       1\n",
              " 2017-11-23 12:00:00 UTC       1\n",
              " 2017-12-22 12:00:00 UTC       1\n",
              " 2018-01-19 12:00:00 UTC       1\n",
              " 2017-11-22 12:00:00 UTC       1\n",
              " 2018-07-07 12:00:00 UTC       1\n",
              " 2018-01-17 12:00:00 UTC       1\n",
              " 2018-06-10 12:00:00 UTC       1\n",
              " Name: rIdueDate, Length: 301, dtype: int64,\n",
              " 'repaidDate': Null                       19471\n",
              " 2018-08-01 12:00:00 UTC        6\n",
              " 2019-02-15 12:00:00 UTC        5\n",
              " 2018-03-28 12:53:37 UTC        5\n",
              " 2018-05-02 12:39:49 UTC        4\n",
              " 2018-06-01 12:00:00 UTC        4\n",
              " 2018-09-28 12:00:00 UTC        4\n",
              " 2018-03-31 03:10:05 UTC        4\n",
              " 2018-09-14 12:00:00 UTC        4\n",
              " 2018-06-04 12:00:00 UTC        4\n",
              " 2018-07-26 01:01:17 UTC        3\n",
              " 2018-06-14 12:34:10 UTC        3\n",
              " 2018-07-02 12:48:58 UTC        3\n",
              " 2018-09-04 12:00:00 UTC        3\n",
              " 2018-07-03 12:00:00 UTC        3\n",
              " 2018-05-19 12:38:54 UTC        3\n",
              " 2018-02-01 12:29:33 UTC        3\n",
              " 2019-02-19 12:00:00 UTC        3\n",
              " 2018-02-16 12:31:15 UTC        3\n",
              " 2018-05-24 12:00:00 UTC        3\n",
              " 2018-03-06 12:23:25 UTC        3\n",
              " 2018-06-27 12:42:20 UTC        3\n",
              " 2018-04-07 12:52:40 UTC        3\n",
              " 2018-05-19 12:41:14 UTC        3\n",
              " 2018-11-12 12:00:00 UTC        3\n",
              " 2018-07-11 12:55:28 UTC        3\n",
              " 2018-08-09 12:32:46 UTC        3\n",
              " 2018-10-02 12:00:00 UTC        3\n",
              " 2018-03-24 12:26:57 UTC        3\n",
              " 2018-04-09 12:00:00 UTC        3\n",
              "                            ...  \n",
              " 2018-04-26 03:18:51 UTC        1\n",
              " 2018-05-22 04:38:06 UTC        1\n",
              " 2018-02-26 02:54:17 UTC        1\n",
              " 2018-04-23 12:34:24 UTC        1\n",
              " 2018-04-19 12:56:15 UTC        1\n",
              " 2018-02-21 02:08:15 UTC        1\n",
              " 2018-03-25 08:02:26 UTC        1\n",
              " 2018-05-31 10:29:33 UTC        1\n",
              " 2018-10-06 05:41:06 UTC        1\n",
              " 2018-04-04 06:03:49 UTC        1\n",
              " 2018-07-18 02:06:14 UTC        1\n",
              " 2018-09-08 10:34:13 UTC        1\n",
              " 2018-09-27 09:18:31 UTC        1\n",
              " 2018-08-27 09:49:42 UTC        1\n",
              " 2018-06-28 03:06:44 UTC        1\n",
              " 2018-06-08 03:21:44 UTC        1\n",
              " 2018-05-28 02:21:11 UTC        1\n",
              " 2018-08-20 08:26:19 UTC        1\n",
              " 2018-09-06 10:06:39 UTC        1\n",
              " 2018-04-25 06:29:24 UTC        1\n",
              " 2018-02-07 07:52:43 UTC        1\n",
              " 2018-07-03 01:02:59 UTC        1\n",
              " 2018-04-04 05:04:14 UTC        1\n",
              " 2018-05-11 06:24:41 UTC        1\n",
              " 2018-09-14 09:14:42 UTC        1\n",
              " 2018-08-02 05:54:05 UTC        1\n",
              " 2018-04-17 12:53:34 UTC        1\n",
              " 2018-05-30 08:04:36 UTC        1\n",
              " 2018-08-13 09:55:32 UTC        1\n",
              " 2018-08-13 01:17:02 UTC        1\n",
              " Name: repaidDate, Length: 138121, dtype: int64,\n",
              " 'settleDays':  0      33631\n",
              " -1      11971\n",
              " -2       7092\n",
              "  1       6621\n",
              " -3       5705\n",
              "  2       4013\n",
              " -4       3792\n",
              " -5       3512\n",
              "  4       3149\n",
              "  3       3048\n",
              " -7       2950\n",
              "  5       2634\n",
              " -6       2591\n",
              "  6       1849\n",
              "  8       1664\n",
              "  7       1662\n",
              " -8       1506\n",
              " -9       1418\n",
              "  9       1390\n",
              " -10      1302\n",
              "  10      1281\n",
              " -11      1200\n",
              " -12      1117\n",
              "  11      1089\n",
              " -13      1043\n",
              "  12       997\n",
              " -16       952\n",
              " -14       949\n",
              " -17       883\n",
              "  13       870\n",
              "         ...  \n",
              " -32        19\n",
              "  383       12\n",
              "  186        7\n",
              "  215        6\n",
              "  187        6\n",
              "  256        6\n",
              "  200        5\n",
              "  264        4\n",
              "  263        4\n",
              "  242        4\n",
              "  257        4\n",
              "  214        4\n",
              "  208        4\n",
              "  201        4\n",
              "  249        4\n",
              "  250        3\n",
              "  143        3\n",
              "  236        3\n",
              "  235        3\n",
              "  194        3\n",
              "  243        2\n",
              "  180        2\n",
              "  229        2\n",
              "  222        2\n",
              "  268        2\n",
              "  207        2\n",
              "  296        2\n",
              "  228        2\n",
              "  221        1\n",
              "  193        1\n",
              " Name: settleDays, Length: 419, dtype: int64}"
            ]
          },
          "metadata": {
            "tags": []
          },
          "execution_count": 22
        }
      ]
    },
    {
      "cell_type": "code",
      "metadata": {
        "id": "YDuHQb4Iu0Y9",
        "colab_type": "code",
        "outputId": "594f6a2d-53da-48b3-fe19-b1aafc7c4b0a",
        "colab": {
          "base_uri": "https://localhost:8080/",
          "height": 297
        }
      },
      "source": [
        "# checking for statistical analysis of numerical variables\n",
        "df.describe()"
      ],
      "execution_count": 0,
      "outputs": [
        {
          "output_type": "execute_result",
          "data": {
            "text/html": [
              "<div>\n",
              "<style scoped>\n",
              "    .dataframe tbody tr th:only-of-type {\n",
              "        vertical-align: middle;\n",
              "    }\n",
              "\n",
              "    .dataframe tbody tr th {\n",
              "        vertical-align: top;\n",
              "    }\n",
              "\n",
              "    .dataframe thead th {\n",
              "        text-align: right;\n",
              "    }\n",
              "</style>\n",
              "<table border=\"1\" class=\"dataframe\">\n",
              "  <thead>\n",
              "    <tr style=\"text-align: right;\">\n",
              "      <th></th>\n",
              "      <th>clientId</th>\n",
              "      <th>clientIncome</th>\n",
              "      <th>clientAge</th>\n",
              "      <th>loanNumber</th>\n",
              "      <th>loanAmount</th>\n",
              "      <th>interestRate</th>\n",
              "      <th>loanTerm</th>\n",
              "      <th>max_amount_taken</th>\n",
              "      <th>max_tenor_taken</th>\n",
              "      <th>settleDays</th>\n",
              "      <th>firstpaymentRatio</th>\n",
              "      <th>firstPaymentDefault</th>\n",
              "      <th>loanDefault</th>\n",
              "    </tr>\n",
              "  </thead>\n",
              "  <tbody>\n",
              "    <tr>\n",
              "      <th>count</th>\n",
              "      <td>1.595960e+05</td>\n",
              "      <td>1.595960e+05</td>\n",
              "      <td>159596.000000</td>\n",
              "      <td>159596.000000</td>\n",
              "      <td>159596.000000</td>\n",
              "      <td>159596.000000</td>\n",
              "      <td>159596.000000</td>\n",
              "      <td>159596.000000</td>\n",
              "      <td>159596.000000</td>\n",
              "      <td>159596.000000</td>\n",
              "      <td>159596.000000</td>\n",
              "      <td>159596.000000</td>\n",
              "      <td>159596.000000</td>\n",
              "    </tr>\n",
              "    <tr>\n",
              "      <th>mean</th>\n",
              "      <td>4.980082e+08</td>\n",
              "      <td>9.083906e+04</td>\n",
              "      <td>33.691847</td>\n",
              "      <td>3.556806</td>\n",
              "      <td>35324.184190</td>\n",
              "      <td>13.331235</td>\n",
              "      <td>85.385599</td>\n",
              "      <td>0.705275</td>\n",
              "      <td>0.915374</td>\n",
              "      <td>32.602127</td>\n",
              "      <td>0.097991</td>\n",
              "      <td>0.294268</td>\n",
              "      <td>0.279894</td>\n",
              "    </tr>\n",
              "    <tr>\n",
              "      <th>std</th>\n",
              "      <td>2.938655e+08</td>\n",
              "      <td>9.728033e+04</td>\n",
              "      <td>7.180870</td>\n",
              "      <td>2.471578</td>\n",
              "      <td>27840.824297</td>\n",
              "      <td>4.467938</td>\n",
              "      <td>39.323756</td>\n",
              "      <td>0.455921</td>\n",
              "      <td>0.278325</td>\n",
              "      <td>84.552571</td>\n",
              "      <td>0.278058</td>\n",
              "      <td>0.455714</td>\n",
              "      <td>0.448948</td>\n",
              "    </tr>\n",
              "    <tr>\n",
              "      <th>min</th>\n",
              "      <td>5.060000e+02</td>\n",
              "      <td>3.000000e+01</td>\n",
              "      <td>18.000000</td>\n",
              "      <td>1.000000</td>\n",
              "      <td>11000.000000</td>\n",
              "      <td>4.500000</td>\n",
              "      <td>60.000000</td>\n",
              "      <td>0.000000</td>\n",
              "      <td>0.000000</td>\n",
              "      <td>-32.000000</td>\n",
              "      <td>0.000000</td>\n",
              "      <td>0.000000</td>\n",
              "      <td>0.000000</td>\n",
              "    </tr>\n",
              "    <tr>\n",
              "      <th>25%</th>\n",
              "      <td>2.475166e+08</td>\n",
              "      <td>3.500000e+04</td>\n",
              "      <td>28.000000</td>\n",
              "      <td>2.000000</td>\n",
              "      <td>20000.000000</td>\n",
              "      <td>10.000000</td>\n",
              "      <td>60.000000</td>\n",
              "      <td>0.000000</td>\n",
              "      <td>1.000000</td>\n",
              "      <td>-2.000000</td>\n",
              "      <td>0.000000</td>\n",
              "      <td>0.000000</td>\n",
              "      <td>0.000000</td>\n",
              "    </tr>\n",
              "    <tr>\n",
              "      <th>50%</th>\n",
              "      <td>4.971904e+08</td>\n",
              "      <td>5.511621e+04</td>\n",
              "      <td>33.000000</td>\n",
              "      <td>3.000000</td>\n",
              "      <td>25500.000000</td>\n",
              "      <td>12.500000</td>\n",
              "      <td>60.000000</td>\n",
              "      <td>1.000000</td>\n",
              "      <td>1.000000</td>\n",
              "      <td>0.000000</td>\n",
              "      <td>0.000000</td>\n",
              "      <td>0.000000</td>\n",
              "      <td>0.000000</td>\n",
              "    </tr>\n",
              "    <tr>\n",
              "      <th>75%</th>\n",
              "      <td>7.463713e+08</td>\n",
              "      <td>1.050000e+05</td>\n",
              "      <td>38.000000</td>\n",
              "      <td>4.000000</td>\n",
              "      <td>37500.000000</td>\n",
              "      <td>15.000000</td>\n",
              "      <td>90.000000</td>\n",
              "      <td>1.000000</td>\n",
              "      <td>1.000000</td>\n",
              "      <td>13.000000</td>\n",
              "      <td>0.000000</td>\n",
              "      <td>1.000000</td>\n",
              "      <td>1.000000</td>\n",
              "    </tr>\n",
              "    <tr>\n",
              "      <th>max</th>\n",
              "      <td>9.365832e+09</td>\n",
              "      <td>3.925000e+06</td>\n",
              "      <td>138.000000</td>\n",
              "      <td>32.000000</td>\n",
              "      <td>500000.000000</td>\n",
              "      <td>20.000000</td>\n",
              "      <td>180.000000</td>\n",
              "      <td>1.000000</td>\n",
              "      <td>1.000000</td>\n",
              "      <td>386.000000</td>\n",
              "      <td>1.000000</td>\n",
              "      <td>1.000000</td>\n",
              "      <td>1.000000</td>\n",
              "    </tr>\n",
              "  </tbody>\n",
              "</table>\n",
              "</div>"
            ],
            "text/plain": [
              "           clientId  clientIncome      clientAge     loanNumber  \\\n",
              "count  1.595960e+05  1.595960e+05  159596.000000  159596.000000   \n",
              "mean   4.980082e+08  9.083906e+04      33.691847       3.556806   \n",
              "std    2.938655e+08  9.728033e+04       7.180870       2.471578   \n",
              "min    5.060000e+02  3.000000e+01      18.000000       1.000000   \n",
              "25%    2.475166e+08  3.500000e+04      28.000000       2.000000   \n",
              "50%    4.971904e+08  5.511621e+04      33.000000       3.000000   \n",
              "75%    7.463713e+08  1.050000e+05      38.000000       4.000000   \n",
              "max    9.365832e+09  3.925000e+06     138.000000      32.000000   \n",
              "\n",
              "          loanAmount   interestRate       loanTerm  max_amount_taken  \\\n",
              "count  159596.000000  159596.000000  159596.000000     159596.000000   \n",
              "mean    35324.184190      13.331235      85.385599          0.705275   \n",
              "std     27840.824297       4.467938      39.323756          0.455921   \n",
              "min     11000.000000       4.500000      60.000000          0.000000   \n",
              "25%     20000.000000      10.000000      60.000000          0.000000   \n",
              "50%     25500.000000      12.500000      60.000000          1.000000   \n",
              "75%     37500.000000      15.000000      90.000000          1.000000   \n",
              "max    500000.000000      20.000000     180.000000          1.000000   \n",
              "\n",
              "       max_tenor_taken     settleDays  firstpaymentRatio  firstPaymentDefault  \\\n",
              "count    159596.000000  159596.000000      159596.000000        159596.000000   \n",
              "mean          0.915374      32.602127           0.097991             0.294268   \n",
              "std           0.278325      84.552571           0.278058             0.455714   \n",
              "min           0.000000     -32.000000           0.000000             0.000000   \n",
              "25%           1.000000      -2.000000           0.000000             0.000000   \n",
              "50%           1.000000       0.000000           0.000000             0.000000   \n",
              "75%           1.000000      13.000000           0.000000             1.000000   \n",
              "max           1.000000     386.000000           1.000000             1.000000   \n",
              "\n",
              "         loanDefault  \n",
              "count  159596.000000  \n",
              "mean        0.279894  \n",
              "std         0.448948  \n",
              "min         0.000000  \n",
              "25%         0.000000  \n",
              "50%         0.000000  \n",
              "75%         1.000000  \n",
              "max         1.000000  "
            ]
          },
          "metadata": {
            "tags": []
          },
          "execution_count": 23
        }
      ]
    },
    {
      "cell_type": "code",
      "metadata": {
        "id": "Anls9LJ6vJeW",
        "colab_type": "code",
        "outputId": "cec13748-3466-4218-82bc-ea8d94c49cd0",
        "colab": {
          "base_uri": "https://localhost:8080/",
          "height": 191
        }
      },
      "source": [
        "# extracting numerical features\n",
        "num_var=df.select_dtypes(include=np.number)\n",
        "num_var.head()"
      ],
      "execution_count": 0,
      "outputs": [
        {
          "output_type": "execute_result",
          "data": {
            "text/html": [
              "<div>\n",
              "<style scoped>\n",
              "    .dataframe tbody tr th:only-of-type {\n",
              "        vertical-align: middle;\n",
              "    }\n",
              "\n",
              "    .dataframe tbody tr th {\n",
              "        vertical-align: top;\n",
              "    }\n",
              "\n",
              "    .dataframe thead th {\n",
              "        text-align: right;\n",
              "    }\n",
              "</style>\n",
              "<table border=\"1\" class=\"dataframe\">\n",
              "  <thead>\n",
              "    <tr style=\"text-align: right;\">\n",
              "      <th></th>\n",
              "      <th>clientId</th>\n",
              "      <th>clientIncome</th>\n",
              "      <th>clientAge</th>\n",
              "      <th>loanNumber</th>\n",
              "      <th>loanAmount</th>\n",
              "      <th>interestRate</th>\n",
              "      <th>loanTerm</th>\n",
              "      <th>max_amount_taken</th>\n",
              "      <th>max_tenor_taken</th>\n",
              "      <th>settleDays</th>\n",
              "      <th>firstpaymentRatio</th>\n",
              "      <th>firstPaymentDefault</th>\n",
              "      <th>loanDefault</th>\n",
              "    </tr>\n",
              "  </thead>\n",
              "  <tbody>\n",
              "    <tr>\n",
              "      <th>0</th>\n",
              "      <td>755398623</td>\n",
              "      <td>52500.0</td>\n",
              "      <td>29</td>\n",
              "      <td>6</td>\n",
              "      <td>16000</td>\n",
              "      <td>20.0</td>\n",
              "      <td>60</td>\n",
              "      <td>1</td>\n",
              "      <td>1</td>\n",
              "      <td>-12</td>\n",
              "      <td>0.0</td>\n",
              "      <td>0</td>\n",
              "      <td>0</td>\n",
              "    </tr>\n",
              "    <tr>\n",
              "      <th>1</th>\n",
              "      <td>915689736</td>\n",
              "      <td>52500.0</td>\n",
              "      <td>25</td>\n",
              "      <td>9</td>\n",
              "      <td>14500</td>\n",
              "      <td>15.0</td>\n",
              "      <td>60</td>\n",
              "      <td>0</td>\n",
              "      <td>1</td>\n",
              "      <td>-15</td>\n",
              "      <td>0.0</td>\n",
              "      <td>0</td>\n",
              "      <td>0</td>\n",
              "    </tr>\n",
              "    <tr>\n",
              "      <th>2</th>\n",
              "      <td>292629156</td>\n",
              "      <td>35000.0</td>\n",
              "      <td>32</td>\n",
              "      <td>2</td>\n",
              "      <td>19500</td>\n",
              "      <td>15.0</td>\n",
              "      <td>60</td>\n",
              "      <td>0</td>\n",
              "      <td>1</td>\n",
              "      <td>64</td>\n",
              "      <td>0.0</td>\n",
              "      <td>1</td>\n",
              "      <td>1</td>\n",
              "    </tr>\n",
              "    <tr>\n",
              "      <th>3</th>\n",
              "      <td>671710636</td>\n",
              "      <td>35000.0</td>\n",
              "      <td>28</td>\n",
              "      <td>4</td>\n",
              "      <td>19500</td>\n",
              "      <td>15.0</td>\n",
              "      <td>60</td>\n",
              "      <td>1</td>\n",
              "      <td>1</td>\n",
              "      <td>-10</td>\n",
              "      <td>0.0</td>\n",
              "      <td>0</td>\n",
              "      <td>0</td>\n",
              "    </tr>\n",
              "    <tr>\n",
              "      <th>4</th>\n",
              "      <td>367769827</td>\n",
              "      <td>35000.0</td>\n",
              "      <td>34</td>\n",
              "      <td>5</td>\n",
              "      <td>17500</td>\n",
              "      <td>12.5</td>\n",
              "      <td>60</td>\n",
              "      <td>1</td>\n",
              "      <td>1</td>\n",
              "      <td>12</td>\n",
              "      <td>0.0</td>\n",
              "      <td>1</td>\n",
              "      <td>1</td>\n",
              "    </tr>\n",
              "  </tbody>\n",
              "</table>\n",
              "</div>"
            ],
            "text/plain": [
              "    clientId  clientIncome  clientAge  loanNumber  loanAmount  interestRate  \\\n",
              "0  755398623       52500.0         29           6       16000          20.0   \n",
              "1  915689736       52500.0         25           9       14500          15.0   \n",
              "2  292629156       35000.0         32           2       19500          15.0   \n",
              "3  671710636       35000.0         28           4       19500          15.0   \n",
              "4  367769827       35000.0         34           5       17500          12.5   \n",
              "\n",
              "   loanTerm  max_amount_taken  max_tenor_taken  settleDays  firstpaymentRatio  \\\n",
              "0        60                 1                1         -12                0.0   \n",
              "1        60                 0                1         -15                0.0   \n",
              "2        60                 0                1          64                0.0   \n",
              "3        60                 1                1         -10                0.0   \n",
              "4        60                 1                1          12                0.0   \n",
              "\n",
              "   firstPaymentDefault  loanDefault  \n",
              "0                    0            0  \n",
              "1                    0            0  \n",
              "2                    1            1  \n",
              "3                    0            0  \n",
              "4                    1            1  "
            ]
          },
          "metadata": {
            "tags": []
          },
          "execution_count": 24
        }
      ]
    },
    {
      "cell_type": "code",
      "metadata": {
        "id": "-lpE2CG_w2gw",
        "colab_type": "code",
        "outputId": "10e0096f-9449-40e8-d3e0-07fd208ec5df",
        "colab": {
          "base_uri": "https://localhost:8080/",
          "height": 748
        }
      },
      "source": [
        "# carrying out detailed exploratory analysis on clientAge\n",
        "dict_values['clientAge']"
      ],
      "execution_count": 0,
      "outputs": [
        {
          "output_type": "execute_result",
          "data": {
            "text/plain": [
              "33     9301\n",
              "32     9204\n",
              "34     8899\n",
              "31     8854\n",
              "29     8485\n",
              "35     8460\n",
              "30     8298\n",
              "28     7978\n",
              "27     7214\n",
              "36     6969\n",
              "37     6897\n",
              "38     6479\n",
              "26     6394\n",
              "25     6020\n",
              "39     5350\n",
              "24     4747\n",
              "40     4431\n",
              "41     4090\n",
              "23     4006\n",
              "42     3760\n",
              "43     3175\n",
              "22     2977\n",
              "44     2486\n",
              "45     2340\n",
              "21     1696\n",
              "46     1663\n",
              "47     1648\n",
              "48     1529\n",
              "49     1229\n",
              "50     1118\n",
              "52      875\n",
              "51      805\n",
              "53      746\n",
              "54      598\n",
              "55      522\n",
              "56       94\n",
              "58       94\n",
              "57       75\n",
              "59       52\n",
              "60       23\n",
              "20       10\n",
              "18        3\n",
              "19        1\n",
              "138       1\n",
              "Name: clientAge, dtype: int64"
            ]
          },
          "metadata": {
            "tags": []
          },
          "execution_count": 26
        }
      ]
    },
    {
      "cell_type": "code",
      "metadata": {
        "id": "8zIFLHIOxPdy",
        "colab_type": "code",
        "colab": {}
      },
      "source": [
        "# checking the information, the outliers must be treated by finding the mean\n",
        "df.clientAge.replace({138: int(df.clientAge.mean())},inplace=True)"
      ],
      "execution_count": 0,
      "outputs": []
    },
    {
      "cell_type": "code",
      "metadata": {
        "id": "QmopglJ1x217",
        "colab_type": "code",
        "outputId": "f1b8c84d-2c59-4ec4-c160-c9bdd699c84d",
        "colab": {
          "base_uri": "https://localhost:8080/",
          "height": 732
        }
      },
      "source": [
        "# sorting the value count to check its distribution\n",
        "df.clientAge.value_counts().sort_values()"
      ],
      "execution_count": 0,
      "outputs": [
        {
          "output_type": "execute_result",
          "data": {
            "text/plain": [
              "19       1\n",
              "18       3\n",
              "20      10\n",
              "60      23\n",
              "59      52\n",
              "57      75\n",
              "58      94\n",
              "56      94\n",
              "55     522\n",
              "54     598\n",
              "53     746\n",
              "51     805\n",
              "52     875\n",
              "50    1118\n",
              "49    1229\n",
              "48    1529\n",
              "47    1648\n",
              "46    1663\n",
              "21    1696\n",
              "45    2340\n",
              "44    2486\n",
              "22    2977\n",
              "43    3175\n",
              "42    3760\n",
              "23    4006\n",
              "41    4090\n",
              "40    4431\n",
              "24    4747\n",
              "39    5350\n",
              "25    6020\n",
              "26    6394\n",
              "38    6479\n",
              "37    6897\n",
              "36    6969\n",
              "27    7214\n",
              "28    7978\n",
              "30    8298\n",
              "35    8460\n",
              "29    8485\n",
              "31    8854\n",
              "34    8899\n",
              "32    9204\n",
              "33    9302\n",
              "Name: clientAge, dtype: int64"
            ]
          },
          "metadata": {
            "tags": []
          },
          "execution_count": 28
        }
      ]
    },
    {
      "cell_type": "code",
      "metadata": {
        "id": "bRuUsP0RyAVF",
        "colab_type": "code",
        "outputId": "251d6bac-3270-4464-82a2-77c64e3704b5",
        "colab": {
          "base_uri": "https://localhost:8080/",
          "height": 281
        }
      },
      "source": [
        "# This section of code visualize and helps to understand the distribution of the clients age\n",
        "df.clientAge.plot(kind='hist',bins=4)\n"
      ],
      "execution_count": 0,
      "outputs": [
        {
          "output_type": "execute_result",
          "data": {
            "text/plain": [
              "<matplotlib.axes._subplots.AxesSubplot at 0x7f2055ba2780>"
            ]
          },
          "metadata": {
            "tags": []
          },
          "execution_count": 30
        },
        {
          "output_type": "display_data",
          "data": {
            "image/png": "[encoded data removed]",
            "text/plain": [
              "<Figure size 432x288 with 1 Axes>"
            ]
          },
          "metadata": {
            "tags": []
          }
        }
      ]
    },
    {
      "cell_type": "code",
      "metadata": {
        "id": "kPOAm3tLzFeP",
        "colab_type": "code",
        "outputId": "d134416b-6d21-45b2-a9b5-a15b8b6f7c58",
        "colab": {
          "base_uri": "https://localhost:8080/",
          "height": 328
        }
      },
      "source": [
        "# distribution plot\n",
        "ax = sns.distplot(df.clientAge,  kde=True);"
      ],
      "execution_count": 0,
      "outputs": [
        {
          "output_type": "stream",
          "text": [
            "/usr/local/lib/python3.6/dist-packages/matplotlib/axes/_axes.py:6521: MatplotlibDeprecationWarning: \n",
            "The 'normed' kwarg was deprecated in Matplotlib 2.1 and will be removed in 3.1. Use 'density' instead.\n",
            "  alternative=\"'density'\", removal=\"3.1\")\n"
          ],
          "name": "stderr"
        },
        {
          "output_type": "display_data",
          "data": {
            "image/png": "[encoded data removed]",
            "text/plain": [
              "<Figure size 432x288 with 1 Axes>"
            ]
          },
          "metadata": {
            "tags": []
          }
        }
      ]
    },
    {
      "cell_type": "code",
      "metadata": {
        "id": "UToru4FXzs5Z",
        "colab_type": "code",
        "colab": {}
      },
      "source": [
        "# create a new feature using client Age based on the observation above\n",
        "bins=[18,30,40,50,60]\n",
        "group=['Young','Adult','Elder','More-elderly']\n",
        "df['clientAge_bin']=pd.cut(df['clientAge'],bins,labels=group)"
      ],
      "execution_count": 0,
      "outputs": []
    },
    {
      "cell_type": "code",
      "metadata": {
        "id": "oskEsQAa0cVm",
        "colab_type": "code",
        "colab": {}
      },
      "source": [
        "# label encoding on the new features\n",
        "df['clientAge_bin']= df['clientAge_bin'].replace({'Young':0,'Adult':1,'Elder':2,'More-elderly':3})"
      ],
      "execution_count": 0,
      "outputs": []
    },
    {
      "cell_type": "code",
      "metadata": {
        "id": "JVgV2Lea0vhB",
        "colab_type": "code",
        "outputId": "c4af37f3-5fac-4316-a643-52f42abe6939",
        "colab": {
          "base_uri": "https://localhost:8080/",
          "height": 82
        }
      },
      "source": [
        "# calculating the mean income of each default category\n",
        "df.groupby('loanDefault').clientIncome.mean()"
      ],
      "execution_count": 0,
      "outputs": [
        {
          "output_type": "execute_result",
          "data": {
            "text/plain": [
              "loanDefault\n",
              "0    92973.982652\n",
              "1    85346.362523\n",
              "Name: clientIncome, dtype: float64"
            ]
          },
          "metadata": {
            "tags": []
          },
          "execution_count": 35
        }
      ]
    },
    {
      "cell_type": "code",
      "metadata": {
        "id": "tgl43K4k1AQw",
        "colab_type": "code",
        "outputId": "b2e4e1f7-7d29-4cc3-e841-47818e1bfe0d",
        "colab": {
          "base_uri": "https://localhost:8080/",
          "height": 290
        }
      },
      "source": [
        "# chart showing correlation between default category and income\n",
        "plt.title('Relationship between default category and income')\n",
        "df.groupby('loanDefault').clientIncome.mean().plot(kind='bar');"
      ],
      "execution_count": 0,
      "outputs": [
        {
          "output_type": "display_data",
          "data": {
            "image/png": "[encoded data removed]",
            "text/plain": [
              "<Figure size 432x288 with 1 Axes>"
            ]
          },
          "metadata": {
            "tags": []
          }
        }
      ]
    },
    {
      "cell_type": "code",
      "metadata": {
        "id": "W6lkMfFE1V52",
        "colab_type": "code",
        "outputId": "7140aa1c-52c5-49d4-d824-b34f7c5c820a",
        "colab": {
          "base_uri": "https://localhost:8080/",
          "height": 82
        }
      },
      "source": [
        "# calculating the mean income for delinquency\n",
        "df.groupby('firstPaymentDefault').clientIncome.mean()"
      ],
      "execution_count": 0,
      "outputs": [
        {
          "output_type": "execute_result",
          "data": {
            "text/plain": [
              "firstPaymentDefault\n",
              "0    93551.918985\n",
              "1    84332.897644\n",
              "Name: clientIncome, dtype: float64"
            ]
          },
          "metadata": {
            "tags": []
          },
          "execution_count": 37
        }
      ]
    },
    {
      "cell_type": "code",
      "metadata": {
        "id": "3kml-qhO1kRo",
        "colab_type": "code",
        "outputId": "16371fc8-d30c-401e-fbf2-dd7df5e7fc56",
        "colab": {
          "base_uri": "https://localhost:8080/",
          "height": 290
        }
      },
      "source": [
        "# chart showing correlation between default category and income\n",
        "plt.title('Relationship between default category and income')\n",
        "df.groupby('firstPaymentDefault').clientIncome.mean().plot(kind='bar');"
      ],
      "execution_count": 0,
      "outputs": [
        {
          "output_type": "display_data",
          "data": {
            "image/png": "[encoded data removed]",
            "text/plain": [
              "<Figure size 432x288 with 1 Axes>"
            ]
          },
          "metadata": {
            "tags": []
          }
        }
      ]
    },
    {
      "cell_type": "markdown",
      "metadata": {
        "id": "s2X2_na92BkS",
        "colab_type": "text"
      },
      "source": [
        "From the above, it can be affirmed indeed \"that correlation is not causation\" as client income can not be said to be a determinant of deliquency or loan default.\n",
        "Further Feature selection process is encouraged."
      ]
    },
    {
      "cell_type": "code",
      "metadata": {
        "id": "-CoRrqm51yH4",
        "colab_type": "code",
        "colab": {}
      },
      "source": [
        "#creating a new set of feature\n",
        "df['loanIncome_diff'] =df['clientIncome']-df['loanAmount']"
      ],
      "execution_count": 0,
      "outputs": []
    },
    {
      "cell_type": "code",
      "metadata": {
        "id": "LgUk__E63Nd7",
        "colab_type": "code",
        "colab": {}
      },
      "source": [
        "## creating a new features (categorical variable) to indicate if the loanIncome_diff is positive or negative\n",
        "df['amount_diff'] = 'eq'\n",
        "df.loc[df['loanIncome_diff'] > 0,'amount_diff'] = 'less'"
      ],
      "execution_count": 0,
      "outputs": []
    },
    {
      "cell_type": "code",
      "metadata": {
        "id": "R-GMT9kb3nbu",
        "colab_type": "code",
        "colab": {}
      },
      "source": [
        "# label encoding for amt_difference column\n",
        "df.amount_diff= df[\"amount_diff\"].replace({'eq':0,'less':1})"
      ],
      "execution_count": 0,
      "outputs": []
    },
    {
      "cell_type": "code",
      "metadata": {
        "id": "bbQ5NN2335XC",
        "colab_type": "code",
        "outputId": "682b3416-e5e0-4020-80b9-56d7b45e54cb",
        "colab": {
          "base_uri": "https://localhost:8080/",
          "height": 66
        }
      },
      "source": [
        "# check the distribution\n",
        "df.amount_diff.value_counts()"
      ],
      "execution_count": 0,
      "outputs": [
        {
          "output_type": "execute_result",
          "data": {
            "text/plain": [
              "1    124189\n",
              "0     35407\n",
              "Name: amount_diff, dtype: int64"
            ]
          },
          "metadata": {
            "tags": []
          },
          "execution_count": 45
        }
      ]
    },
    {
      "cell_type": "code",
      "metadata": {
        "id": "4iXkpVNZ6JVG",
        "colab_type": "code",
        "outputId": "ae25997a-78c0-4771-bbb8-a86ef2428961",
        "colab": {
          "base_uri": "https://localhost:8080/",
          "height": 115
        }
      },
      "source": [
        "# checking the new features for  increase in correlation with the target variable\n",
        "correlations_data = df.corr()['loanDefault'].sort_values()\n",
        "correlations_data.head()"
      ],
      "execution_count": 0,
      "outputs": [
        {
          "output_type": "execute_result",
          "data": {
            "text/plain": [
              "loanNumber      -0.080460\n",
              "clientAge       -0.048228\n",
              "clientAge_bin   -0.042138\n",
              "amount_diff     -0.036371\n",
              "clientIncome    -0.035201\n",
              "Name: loanDefault, dtype: float64"
            ]
          },
          "metadata": {
            "tags": []
          },
          "execution_count": 47
        }
      ]
    },
    {
      "cell_type": "markdown",
      "metadata": {
        "id": "iAN6GcHg6nQS",
        "colab_type": "text"
      },
      "source": [
        "From the information above, amount_diff is well correlated"
      ]
    },
    {
      "cell_type": "code",
      "metadata": {
        "id": "sOkquwKr6lCu",
        "colab_type": "code",
        "outputId": "1c8877f9-21d1-4417-aa9a-836becd8194b",
        "colab": {
          "base_uri": "https://localhost:8080/",
          "height": 553
        }
      },
      "source": [
        "# Carrying out a detail exploratory analysis on loanNumber\n",
        "df.loanNumber.value_counts().sort_values()"
      ],
      "execution_count": 0,
      "outputs": [
        {
          "output_type": "execute_result",
          "data": {
            "text/plain": [
              "32        2\n",
              "31        2\n",
              "30        2\n",
              "29        7\n",
              "28        8\n",
              "27       13\n",
              "26       14\n",
              "25       20\n",
              "24       24\n",
              "23       38\n",
              "22       50\n",
              "21       93\n",
              "20      113\n",
              "19      147\n",
              "18      190\n",
              "17      223\n",
              "16      301\n",
              "15      348\n",
              "14      430\n",
              "13      465\n",
              "12      605\n",
              "11      768\n",
              "10     1114\n",
              "9      1526\n",
              "8      2377\n",
              "7      4006\n",
              "1      6748\n",
              "6      7303\n",
              "5     12804\n",
              "4     22595\n",
              "3     39830\n",
              "2     57430\n",
              "Name: loanNumber, dtype: int64"
            ]
          },
          "metadata": {
            "tags": []
          },
          "execution_count": 48
        }
      ]
    },
    {
      "cell_type": "code",
      "metadata": {
        "id": "aN_z8Tfj7O9v",
        "colab_type": "code",
        "colab": {}
      },
      "source": [
        "# define a function to analyse columns based on count and percentage counts\n",
        "#print count for columns that only has few uniques\n",
        "def column_analyse(x,df = df): \n",
        "    print(df[x].value_counts(),\"\\n\",\n",
        "          df[x].value_counts()/len(df[x]))"
      ],
      "execution_count": 0,
      "outputs": []
    },
    {
      "cell_type": "code",
      "metadata": {
        "id": "jbr0pzda7hGY",
        "colab_type": "code",
        "outputId": "a6b22eaa-138b-4829-9102-4df6835f884a",
        "colab": {
          "base_uri": "https://localhost:8080/",
          "height": 1090
        }
      },
      "source": [
        "column_analyse('loanNumber')"
      ],
      "execution_count": 0,
      "outputs": [
        {
          "output_type": "stream",
          "text": [
            "2     57430\n",
            "3     39830\n",
            "4     22595\n",
            "5     12804\n",
            "6      7303\n",
            "1      6748\n",
            "7      4006\n",
            "8      2377\n",
            "9      1526\n",
            "10     1114\n",
            "11      768\n",
            "12      605\n",
            "13      465\n",
            "14      430\n",
            "15      348\n",
            "16      301\n",
            "17      223\n",
            "18      190\n",
            "19      147\n",
            "20      113\n",
            "21       93\n",
            "22       50\n",
            "23       38\n",
            "24       24\n",
            "25       20\n",
            "26       14\n",
            "27       13\n",
            "28        8\n",
            "29        7\n",
            "31        2\n",
            "30        2\n",
            "32        2\n",
            "Name: loanNumber, dtype: int64 \n",
            " 2     0.359846\n",
            "3     0.249568\n",
            "4     0.141576\n",
            "5     0.080228\n",
            "6     0.045759\n",
            "1     0.042282\n",
            "7     0.025101\n",
            "8     0.014894\n",
            "9     0.009562\n",
            "10    0.006980\n",
            "11    0.004812\n",
            "12    0.003791\n",
            "13    0.002914\n",
            "14    0.002694\n",
            "15    0.002181\n",
            "16    0.001886\n",
            "17    0.001397\n",
            "18    0.001191\n",
            "19    0.000921\n",
            "20    0.000708\n",
            "21    0.000583\n",
            "22    0.000313\n",
            "23    0.000238\n",
            "24    0.000150\n",
            "25    0.000125\n",
            "26    0.000088\n",
            "27    0.000081\n",
            "28    0.000050\n",
            "29    0.000044\n",
            "31    0.000013\n",
            "30    0.000013\n",
            "32    0.000013\n",
            "Name: loanNumber, dtype: float64\n"
          ],
          "name": "stdout"
        }
      ]
    },
    {
      "cell_type": "code",
      "metadata": {
        "id": "O1BDE6VX7oRb",
        "colab_type": "code",
        "outputId": "03590b10-4312-4e9a-ea26-3e9209de8e21",
        "colab": {
          "base_uri": "https://localhost:8080/",
          "height": 281
        }
      },
      "source": [
        "#visualizing the distribution\n",
        "df.loanNumber.plot(kind='hist',bins=5)"
      ],
      "execution_count": 0,
      "outputs": [
        {
          "output_type": "execute_result",
          "data": {
            "text/plain": [
              "<matplotlib.axes._subplots.AxesSubplot at 0x7f20556d12b0>"
            ]
          },
          "metadata": {
            "tags": []
          },
          "execution_count": 52
        },
        {
          "output_type": "display_data",
          "data": {
            "image/png": "[encoded data removed]",
            "text/plain": [
              "<Figure size 432x288 with 1 Axes>"
            ]
          },
          "metadata": {
            "tags": []
          }
        }
      ]
    },
    {
      "cell_type": "code",
      "metadata": {
        "id": "eDS-Gpt37ukO",
        "colab_type": "code",
        "colab": {}
      },
      "source": [
        "#new features from loanNumber \n",
        "df['reten_measure'] = 0\n",
        "df.loc[df['loanNumber'] > 5,'reten_measure'] = 1"
      ],
      "execution_count": 0,
      "outputs": []
    },
    {
      "cell_type": "code",
      "metadata": {
        "id": "IUMCeED08Pkc",
        "colab_type": "code",
        "outputId": "7053aa87-2aa7-4d2b-b77d-ea8d598e803f",
        "colab": {
          "base_uri": "https://localhost:8080/",
          "height": 115
        }
      },
      "source": [
        "# checking the new features for increase in correlation with the target variable\n",
        "correlations_data = df.corr()['loanDefault'].sort_values()\n",
        "correlations_data.head()"
      ],
      "execution_count": 0,
      "outputs": [
        {
          "output_type": "execute_result",
          "data": {
            "text/plain": [
              "loanNumber      -0.080460\n",
              "reten_measure   -0.075902\n",
              "clientAge       -0.048228\n",
              "clientAge_bin   -0.042138\n",
              "amount_diff     -0.036371\n",
              "Name: loanDefault, dtype: float64"
            ]
          },
          "metadata": {
            "tags": []
          },
          "execution_count": 55
        }
      ]
    },
    {
      "cell_type": "code",
      "metadata": {
        "id": "NA5AbN3C8nZQ",
        "colab_type": "code",
        "outputId": "19dd9ba7-9d4f-4e61-f8c1-9a940aab5095",
        "colab": {
          "base_uri": "https://localhost:8080/",
          "height": 277
        }
      },
      "source": [
        "# The statistical analysis of clientIncome to decide for a binning range\n",
        "df.clientIncome.describe(percentiles=[.01,.05,.1,.25,.4,.5,.75,.85,.95,.99])"
      ],
      "execution_count": 0,
      "outputs": [
        {
          "output_type": "execute_result",
          "data": {
            "text/plain": [
              "count    1.595960e+05\n",
              "mean     9.083906e+04\n",
              "std      9.728033e+04\n",
              "min      3.000000e+01\n",
              "1%       1.200000e+04\n",
              "5%       1.750000e+04\n",
              "10%      1.750000e+04\n",
              "25%      3.500000e+04\n",
              "40%      5.000000e+04\n",
              "50%      5.511621e+04\n",
              "75%      1.050000e+05\n",
              "85%      1.500000e+05\n",
              "95%      2.800000e+05\n",
              "99%      5.250000e+05\n",
              "max      3.925000e+06\n",
              "Name: clientIncome, dtype: float64"
            ]
          },
          "metadata": {
            "tags": []
          },
          "execution_count": 56
        }
      ]
    },
    {
      "cell_type": "code",
      "metadata": {
        "id": "6JJtyis475IP",
        "colab_type": "code",
        "outputId": "74092db9-c981-4ef3-865a-708b06bc75fd",
        "colab": {
          "base_uri": "https://localhost:8080/",
          "height": 328
        }
      },
      "source": [
        "# checking if the income is normally distributed and possible outlier\n",
        "ax = sns.distplot(df.clientIncome,  kde=True);"
      ],
      "execution_count": 0,
      "outputs": [
        {
          "output_type": "stream",
          "text": [
            "/usr/local/lib/python3.6/dist-packages/matplotlib/axes/_axes.py:6521: MatplotlibDeprecationWarning: \n",
            "The 'normed' kwarg was deprecated in Matplotlib 2.1 and will be removed in 3.1. Use 'density' instead.\n",
            "  alternative=\"'density'\", removal=\"3.1\")\n"
          ],
          "name": "stderr"
        },
        {
          "output_type": "display_data",
          "data": {
            "image/png": "[encoded data removed]",
            "text/plain": [
              "<Figure size 432x288 with 1 Axes>"
            ]
          },
          "metadata": {
            "tags": []
          }
        }
      ]
    },
    {
      "cell_type": "code",
      "metadata": {
        "id": "Sv0OKfTv8-UL",
        "colab_type": "code",
        "outputId": "a41765e3-5d5a-4dae-bad5-e1a55954c9e9",
        "colab": {
          "base_uri": "https://localhost:8080/",
          "height": 281
        }
      },
      "source": [
        "# checking income distribution for outliers\n",
        "a=sns.boxplot(y='clientIncome',data=df,notch=False);"
      ],
      "execution_count": 0,
      "outputs": [
        {
          "output_type": "stream",
          "text": [
            "/usr/local/lib/python3.6/dist-packages/seaborn/categorical.py:454: FutureWarning: remove_na is deprecated and is a private function. Do not use.\n",
            "  box_data = remove_na(group_data)\n"
          ],
          "name": "stderr"
        },
        {
          "output_type": "display_data",
          "data": {
            "image/png": "[encoded data removed]",
            "text/plain": [
              "<Figure size 432x288 with 1 Axes>"
            ]
          },
          "metadata": {
            "tags": []
          }
        }
      ]
    },
    {
      "cell_type": "code",
      "metadata": {
        "id": "fWqjrEQJ9K10",
        "colab_type": "code",
        "colab": {}
      },
      "source": [
        "# Log transformation to treat the outlier\n",
        "df['log_clientIncome'] = [np.log(x) for x in df['clientIncome']]\n",
        "\n"
      ],
      "execution_count": 0,
      "outputs": []
    },
    {
      "cell_type": "code",
      "metadata": {
        "id": "hGUDoJRm9g_T",
        "colab_type": "code",
        "outputId": "d9d3ef40-aaf6-4964-b160-0430f15e3d2a",
        "colab": {
          "base_uri": "https://localhost:8080/",
          "height": 191
        }
      },
      "source": [
        "# comparing both the original data and the transformed data\n",
        "df[['clientIncome','log_clientIncome']].head()"
      ],
      "execution_count": 0,
      "outputs": [
        {
          "output_type": "execute_result",
          "data": {
            "text/html": [
              "<div>\n",
              "<style scoped>\n",
              "    .dataframe tbody tr th:only-of-type {\n",
              "        vertical-align: middle;\n",
              "    }\n",
              "\n",
              "    .dataframe tbody tr th {\n",
              "        vertical-align: top;\n",
              "    }\n",
              "\n",
              "    .dataframe thead th {\n",
              "        text-align: right;\n",
              "    }\n",
              "</style>\n",
              "<table border=\"1\" class=\"dataframe\">\n",
              "  <thead>\n",
              "    <tr style=\"text-align: right;\">\n",
              "      <th></th>\n",
              "      <th>clientIncome</th>\n",
              "      <th>log_clientIncome</th>\n",
              "    </tr>\n",
              "  </thead>\n",
              "  <tbody>\n",
              "    <tr>\n",
              "      <th>0</th>\n",
              "      <td>52500.0</td>\n",
              "      <td>10.868568</td>\n",
              "    </tr>\n",
              "    <tr>\n",
              "      <th>1</th>\n",
              "      <td>52500.0</td>\n",
              "      <td>10.868568</td>\n",
              "    </tr>\n",
              "    <tr>\n",
              "      <th>2</th>\n",
              "      <td>35000.0</td>\n",
              "      <td>10.463103</td>\n",
              "    </tr>\n",
              "    <tr>\n",
              "      <th>3</th>\n",
              "      <td>35000.0</td>\n",
              "      <td>10.463103</td>\n",
              "    </tr>\n",
              "    <tr>\n",
              "      <th>4</th>\n",
              "      <td>35000.0</td>\n",
              "      <td>10.463103</td>\n",
              "    </tr>\n",
              "  </tbody>\n",
              "</table>\n",
              "</div>"
            ],
            "text/plain": [
              "   clientIncome  log_clientIncome\n",
              "0       52500.0         10.868568\n",
              "1       52500.0         10.868568\n",
              "2       35000.0         10.463103\n",
              "3       35000.0         10.463103\n",
              "4       35000.0         10.463103"
            ]
          },
          "metadata": {
            "tags": []
          },
          "execution_count": 60
        }
      ]
    },
    {
      "cell_type": "code",
      "metadata": {
        "id": "fhkHMR9C96dE",
        "colab_type": "code",
        "outputId": "d23ccdc1-85a8-450f-b669-037590ced4b5",
        "colab": {
          "base_uri": "https://localhost:8080/",
          "height": 333
        }
      },
      "source": [
        "# Visualizing the transformed data\n",
        "ax = sns.distplot(df.log_clientIncome,  kde=True);"
      ],
      "execution_count": 0,
      "outputs": [
        {
          "output_type": "stream",
          "text": [
            "/usr/local/lib/python3.6/dist-packages/matplotlib/axes/_axes.py:6521: MatplotlibDeprecationWarning: \n",
            "The 'normed' kwarg was deprecated in Matplotlib 2.1 and will be removed in 3.1. Use 'density' instead.\n",
            "  alternative=\"'density'\", removal=\"3.1\")\n"
          ],
          "name": "stderr"
        },
        {
          "output_type": "display_data",
          "data": {
            "image/png": "[encoded data removed]",
            "text/plain": [
              "<Figure size 432x288 with 1 Axes>"
            ]
          },
          "metadata": {
            "tags": []
          }
        }
      ]
    },
    {
      "cell_type": "markdown",
      "metadata": {
        "id": "2xcDJSn4-Vlp",
        "colab_type": "text"
      },
      "source": [
        "A new set of feature is created to normalize the clientIncome distribution"
      ]
    },
    {
      "cell_type": "code",
      "metadata": {
        "id": "csuFPfmE-gcp",
        "colab_type": "code",
        "colab": {}
      },
      "source": [
        "# create a new feature by binning client income based on the observation above\n",
        "bins=[0,50000,150000,500000,4000000]\n",
        "group=['Low','Average','High','Very High']\n",
        "df['clientIncome_bin']=pd.cut(df['clientIncome'],bins,labels=group)"
      ],
      "execution_count": 0,
      "outputs": []
    },
    {
      "cell_type": "code",
      "metadata": {
        "id": "rKUveO69-HUC",
        "colab_type": "code",
        "outputId": "10a9a28d-1404-4c9c-dcfe-e1a9e1bb3eca",
        "colab": {
          "base_uri": "https://localhost:8080/",
          "height": 1041
        }
      },
      "source": [
        "df.clientIncome_bin"
      ],
      "execution_count": 0,
      "outputs": [
        {
          "output_type": "execute_result",
          "data": {
            "text/plain": [
              "0         Average\n",
              "1         Average\n",
              "2             Low\n",
              "3             Low\n",
              "4             Low\n",
              "5             Low\n",
              "6             Low\n",
              "7            High\n",
              "8         Average\n",
              "9         Average\n",
              "10        Average\n",
              "11            Low\n",
              "12            Low\n",
              "13            Low\n",
              "14            Low\n",
              "15        Average\n",
              "16        Average\n",
              "17        Average\n",
              "18        Average\n",
              "19            Low\n",
              "20           High\n",
              "21            Low\n",
              "22            Low\n",
              "23            Low\n",
              "24        Average\n",
              "25        Average\n",
              "26           High\n",
              "27            Low\n",
              "28            Low\n",
              "29        Average\n",
              "           ...   \n",
              "159566        Low\n",
              "159567        Low\n",
              "159568       High\n",
              "159569        Low\n",
              "159570    Average\n",
              "159571    Average\n",
              "159572        Low\n",
              "159573        Low\n",
              "159574        Low\n",
              "159575       High\n",
              "159576        Low\n",
              "159577        Low\n",
              "159578        Low\n",
              "159579       High\n",
              "159580    Average\n",
              "159581        Low\n",
              "159582       High\n",
              "159583    Average\n",
              "159584    Average\n",
              "159585        Low\n",
              "159586    Average\n",
              "159587    Average\n",
              "159588        Low\n",
              "159589        Low\n",
              "159590        Low\n",
              "159591        Low\n",
              "159592        Low\n",
              "159593    Average\n",
              "159594       High\n",
              "159595        Low\n",
              "Name: clientIncome_bin, Length: 159596, dtype: category\n",
              "Categories (4, object): [Low < Average < High < Very High]"
            ]
          },
          "metadata": {
            "tags": []
          },
          "execution_count": 63
        }
      ]
    },
    {
      "cell_type": "code",
      "metadata": {
        "id": "vj7fkr9s-3at",
        "colab_type": "code",
        "colab": {}
      },
      "source": [
        "# label encoding process\n",
        "df['clientIncome_bin']= df['clientIncome_bin'].replace({'Low':0,'Average':1,'High':2,'Very High':3})"
      ],
      "execution_count": 0,
      "outputs": []
    },
    {
      "cell_type": "code",
      "metadata": {
        "id": "loevSPN8-_i9",
        "colab_type": "code",
        "outputId": "27915e61-9b0b-400a-a323-e2a58479e7ac",
        "colab": {
          "base_uri": "https://localhost:8080/",
          "height": 342
        }
      },
      "source": [
        "correlations_data = df.corr()['loanDefault'].sort_values()\n",
        "correlations_data"
      ],
      "execution_count": 0,
      "outputs": [
        {
          "output_type": "execute_result",
          "data": {
            "text/plain": [
              "loanNumber            -0.080460\n",
              "reten_measure         -0.075902\n",
              "log_clientIncome      -0.049367\n",
              "clientAge             -0.048228\n",
              "clientIncome_bin      -0.042590\n",
              "clientAge_bin         -0.042138\n",
              "amount_diff           -0.036371\n",
              "clientIncome          -0.035201\n",
              "loanIncome_diff       -0.031577\n",
              "loanAmount            -0.017319\n",
              "clientId               0.002682\n",
              "loanTerm               0.009177\n",
              "interestRate           0.079144\n",
              "max_amount_taken       0.100787\n",
              "max_tenor_taken        0.104165\n",
              "firstpaymentRatio      0.565268\n",
              "firstPaymentDefault    0.624008\n",
              "settleDays             0.626700\n",
              "loanDefault            1.000000\n",
              "Name: loanDefault, dtype: float64"
            ]
          },
          "metadata": {
            "tags": []
          },
          "execution_count": 65
        }
      ]
    },
    {
      "cell_type": "code",
      "metadata": {
        "id": "5jaZyaqy_LCO",
        "colab_type": "code",
        "outputId": "f4f4a9c6-b629-48df-8901-7aadaac16964",
        "colab": {
          "base_uri": "https://localhost:8080/",
          "height": 290
        }
      },
      "source": [
        "plt.title('Relationship between default category and income')\n",
        "df.groupby('firstPaymentDefault').loanAmount.mean().plot(kind='bar');"
      ],
      "execution_count": 0,
      "outputs": [
        {
          "output_type": "display_data",
          "data": {
            "image/png": "[encoded data removed]",
            "text/plain": [
              "<Figure size 432x288 with 1 Axes>"
            ]
          },
          "metadata": {
            "tags": []
          }
        }
      ]
    },
    {
      "cell_type": "code",
      "metadata": {
        "id": "_vevi10H_TNn",
        "colab_type": "code",
        "colab": {}
      },
      "source": [
        "# get a dictionary of value counts to make a quick check for outlier, mistyped parameter, recurring values\n",
        "dict_value = {a:b.value_counts() for a,b in df.items()}"
      ],
      "execution_count": 0,
      "outputs": []
    },
    {
      "cell_type": "code",
      "metadata": {
        "id": "1wZb4uzv_iZ1",
        "colab_type": "code",
        "outputId": "05730461-9bcf-42a7-d8eb-f7163f29c547",
        "colab": {
          "base_uri": "https://localhost:8080/",
          "height": 342
        }
      },
      "source": [
        "# update the numerical features dataframe\n",
        "num_var=df.select_dtypes(include=np.number)\n",
        "# get their dtypes\n",
        "num_var.dtypes"
      ],
      "execution_count": 0,
      "outputs": [
        {
          "output_type": "execute_result",
          "data": {
            "text/plain": [
              "clientId                 int64\n",
              "clientIncome           float64\n",
              "clientAge                int64\n",
              "loanNumber               int64\n",
              "loanAmount               int64\n",
              "interestRate           float64\n",
              "loanTerm                 int64\n",
              "max_amount_taken         int64\n",
              "max_tenor_taken          int64\n",
              "settleDays               int64\n",
              "firstpaymentRatio      float64\n",
              "firstPaymentDefault      int64\n",
              "loanDefault              int64\n",
              "clientAge_bin          float64\n",
              "loanIncome_diff        float64\n",
              "amount_diff              int64\n",
              "reten_measure            int64\n",
              "log_clientIncome       float64\n",
              "clientIncome_bin         int64\n",
              "dtype: object"
            ]
          },
          "metadata": {
            "tags": []
          },
          "execution_count": 68
        }
      ]
    },
    {
      "cell_type": "code",
      "metadata": {
        "id": "0-3N3b1lAVpv",
        "colab_type": "code",
        "outputId": "75409a1a-8e9e-45fb-f308-39077e110d03",
        "colab": {
          "base_uri": "https://localhost:8080/",
          "height": 342
        }
      },
      "source": [
        "# view number of unique observation\n",
        "num_var.nunique()"
      ],
      "execution_count": 0,
      "outputs": [
        {
          "output_type": "execute_result",
          "data": {
            "text/plain": [
              "clientId               91904\n",
              "clientIncome            9362\n",
              "clientAge                 43\n",
              "loanNumber                32\n",
              "loanAmount               483\n",
              "interestRate             133\n",
              "loanTerm                   3\n",
              "max_amount_taken           2\n",
              "max_tenor_taken            2\n",
              "settleDays               419\n",
              "firstpaymentRatio       4875\n",
              "firstPaymentDefault        2\n",
              "loanDefault                2\n",
              "clientAge_bin              4\n",
              "loanIncome_diff        12723\n",
              "amount_diff                2\n",
              "reten_measure              2\n",
              "log_clientIncome        9362\n",
              "clientIncome_bin           4\n",
              "dtype: int64"
            ]
          },
          "metadata": {
            "tags": []
          },
          "execution_count": 69
        }
      ]
    },
    {
      "cell_type": "code",
      "metadata": {
        "id": "PVjuNpK_ApSk",
        "colab_type": "code",
        "outputId": "324dedf6-6080-47ec-8723-8e08af59f602",
        "colab": {
          "base_uri": "https://localhost:8080/",
          "height": 342
        }
      },
      "source": [
        "num_var.corr()['loanDefault'].sort_values()"
      ],
      "execution_count": 0,
      "outputs": [
        {
          "output_type": "execute_result",
          "data": {
            "text/plain": [
              "loanNumber            -0.080460\n",
              "reten_measure         -0.075902\n",
              "log_clientIncome      -0.049367\n",
              "clientAge             -0.048228\n",
              "clientIncome_bin      -0.042590\n",
              "clientAge_bin         -0.042138\n",
              "amount_diff           -0.036371\n",
              "clientIncome          -0.035201\n",
              "loanIncome_diff       -0.031577\n",
              "loanAmount            -0.017319\n",
              "clientId               0.002682\n",
              "loanTerm               0.009177\n",
              "interestRate           0.079144\n",
              "max_amount_taken       0.100787\n",
              "max_tenor_taken        0.104165\n",
              "firstpaymentRatio      0.565268\n",
              "firstPaymentDefault    0.624008\n",
              "settleDays             0.626700\n",
              "loanDefault            1.000000\n",
              "Name: loanDefault, dtype: float64"
            ]
          },
          "metadata": {
            "tags": []
          },
          "execution_count": 70
        }
      ]
    },
    {
      "cell_type": "code",
      "metadata": {
        "id": "kqKKq4KODYNQ",
        "colab_type": "code",
        "outputId": "e1f6aa43-15d2-4036-bfb9-4c33eca24ba8",
        "colab": {
          "base_uri": "https://localhost:8080/",
          "height": 82
        }
      },
      "source": [
        "# checking the distribution of incomeVerified\n",
        "df.incomeVerified.value_counts()"
      ],
      "execution_count": 0,
      "outputs": [
        {
          "output_type": "execute_result",
          "data": {
            "text/plain": [
              "false    133286\n",
              "true      26207\n",
              "Null        103\n",
              "Name: incomeVerified, dtype: int64"
            ]
          },
          "metadata": {
            "tags": []
          },
          "execution_count": 75
        }
      ]
    },
    {
      "cell_type": "code",
      "metadata": {
        "id": "Rd9H-rtsDpr8",
        "colab_type": "code",
        "colab": {}
      },
      "source": [
        "# label encoding \n",
        "df['incomeVerified_encode']= df['incomeVerified'].replace({'False':0,'false':0,'true':1,'True':1,'Null':0})\n"
      ],
      "execution_count": 0,
      "outputs": []
    },
    {
      "cell_type": "code",
      "metadata": {
        "id": "tYMRteRNEKMH",
        "colab_type": "code",
        "outputId": "a0d09491-a633-4fdd-8778-99728a333bd5",
        "colab": {
          "base_uri": "https://localhost:8080/",
          "height": 66
        }
      },
      "source": [
        "# Checking for value count\n",
        "df['incomeVerified_encode'].value_counts()"
      ],
      "execution_count": 0,
      "outputs": [
        {
          "output_type": "execute_result",
          "data": {
            "text/plain": [
              "0    133389\n",
              "1     26207\n",
              "Name: incomeVerified_encode, dtype: int64"
            ]
          },
          "metadata": {
            "tags": []
          },
          "execution_count": 77
        }
      ]
    },
    {
      "cell_type": "code",
      "metadata": {
        "id": "QoXwKlaOEY-T",
        "colab_type": "code",
        "colab": {}
      },
      "source": [
        "# mask true for 1 and false for 0\n",
        "df['incomeVerified_encode']= df['incomeVerified_encode'].replace({False:0,True:1})"
      ],
      "execution_count": 0,
      "outputs": []
    },
    {
      "cell_type": "code",
      "metadata": {
        "id": "dQGuJzoiEjHC",
        "colab_type": "code",
        "outputId": "02889346-d006-4452-9d98-4ce6d462ffc6",
        "colab": {
          "base_uri": "https://localhost:8080/",
          "height": 66
        }
      },
      "source": [
        "# re-check value count\n",
        "df['incomeVerified_encode'].value_counts()"
      ],
      "execution_count": 0,
      "outputs": [
        {
          "output_type": "execute_result",
          "data": {
            "text/plain": [
              "0    133389\n",
              "1     26207\n",
              "Name: incomeVerified_encode, dtype: int64"
            ]
          },
          "metadata": {
            "tags": []
          },
          "execution_count": 79
        }
      ]
    },
    {
      "cell_type": "code",
      "metadata": {
        "id": "N4HKEBd0Et5_",
        "colab_type": "code",
        "outputId": "410b3713-66e7-42f0-caf9-c9cbc2a823b8",
        "colab": {
          "base_uri": "https://localhost:8080/",
          "height": 1828
        }
      },
      "source": [
        "# confriming if client truly has a phone contact or not\n",
        "df.loc[df.clientNumberPhoneContacts=='Null',['clientNumberPhoneContacts','clientAvgCallsPerDay']]"
      ],
      "execution_count": 0,
      "outputs": [
        {
          "output_type": "execute_result",
          "data": {
            "text/html": [
              "<div>\n",
              "<style scoped>\n",
              "    .dataframe tbody tr th:only-of-type {\n",
              "        vertical-align: middle;\n",
              "    }\n",
              "\n",
              "    .dataframe tbody tr th {\n",
              "        vertical-align: top;\n",
              "    }\n",
              "\n",
              "    .dataframe thead th {\n",
              "        text-align: right;\n",
              "    }\n",
              "</style>\n",
              "<table border=\"1\" class=\"dataframe\">\n",
              "  <thead>\n",
              "    <tr style=\"text-align: right;\">\n",
              "      <th></th>\n",
              "      <th>clientNumberPhoneContacts</th>\n",
              "      <th>clientAvgCallsPerDay</th>\n",
              "    </tr>\n",
              "  </thead>\n",
              "  <tbody>\n",
              "    <tr>\n",
              "      <th>10</th>\n",
              "      <td>Null</td>\n",
              "      <td>Null</td>\n",
              "    </tr>\n",
              "    <tr>\n",
              "      <th>64</th>\n",
              "      <td>Null</td>\n",
              "      <td>Null</td>\n",
              "    </tr>\n",
              "    <tr>\n",
              "      <th>93</th>\n",
              "      <td>Null</td>\n",
              "      <td>Null</td>\n",
              "    </tr>\n",
              "    <tr>\n",
              "      <th>184</th>\n",
              "      <td>Null</td>\n",
              "      <td>Null</td>\n",
              "    </tr>\n",
              "    <tr>\n",
              "      <th>220</th>\n",
              "      <td>Null</td>\n",
              "      <td>Null</td>\n",
              "    </tr>\n",
              "    <tr>\n",
              "      <th>278</th>\n",
              "      <td>Null</td>\n",
              "      <td>Null</td>\n",
              "    </tr>\n",
              "    <tr>\n",
              "      <th>339</th>\n",
              "      <td>Null</td>\n",
              "      <td>Null</td>\n",
              "    </tr>\n",
              "    <tr>\n",
              "      <th>371</th>\n",
              "      <td>Null</td>\n",
              "      <td>Null</td>\n",
              "    </tr>\n",
              "    <tr>\n",
              "      <th>378</th>\n",
              "      <td>Null</td>\n",
              "      <td>Null</td>\n",
              "    </tr>\n",
              "    <tr>\n",
              "      <th>379</th>\n",
              "      <td>Null</td>\n",
              "      <td>Null</td>\n",
              "    </tr>\n",
              "    <tr>\n",
              "      <th>406</th>\n",
              "      <td>Null</td>\n",
              "      <td>Null</td>\n",
              "    </tr>\n",
              "    <tr>\n",
              "      <th>436</th>\n",
              "      <td>Null</td>\n",
              "      <td>Null</td>\n",
              "    </tr>\n",
              "    <tr>\n",
              "      <th>437</th>\n",
              "      <td>Null</td>\n",
              "      <td>Null</td>\n",
              "    </tr>\n",
              "    <tr>\n",
              "      <th>505</th>\n",
              "      <td>Null</td>\n",
              "      <td>Null</td>\n",
              "    </tr>\n",
              "    <tr>\n",
              "      <th>574</th>\n",
              "      <td>Null</td>\n",
              "      <td>Null</td>\n",
              "    </tr>\n",
              "    <tr>\n",
              "      <th>595</th>\n",
              "      <td>Null</td>\n",
              "      <td>Null</td>\n",
              "    </tr>\n",
              "    <tr>\n",
              "      <th>632</th>\n",
              "      <td>Null</td>\n",
              "      <td>Null</td>\n",
              "    </tr>\n",
              "    <tr>\n",
              "      <th>642</th>\n",
              "      <td>Null</td>\n",
              "      <td>Null</td>\n",
              "    </tr>\n",
              "    <tr>\n",
              "      <th>646</th>\n",
              "      <td>Null</td>\n",
              "      <td>Null</td>\n",
              "    </tr>\n",
              "    <tr>\n",
              "      <th>723</th>\n",
              "      <td>Null</td>\n",
              "      <td>Null</td>\n",
              "    </tr>\n",
              "    <tr>\n",
              "      <th>744</th>\n",
              "      <td>Null</td>\n",
              "      <td>Null</td>\n",
              "    </tr>\n",
              "    <tr>\n",
              "      <th>764</th>\n",
              "      <td>Null</td>\n",
              "      <td>Null</td>\n",
              "    </tr>\n",
              "    <tr>\n",
              "      <th>784</th>\n",
              "      <td>Null</td>\n",
              "      <td>Null</td>\n",
              "    </tr>\n",
              "    <tr>\n",
              "      <th>832</th>\n",
              "      <td>Null</td>\n",
              "      <td>Null</td>\n",
              "    </tr>\n",
              "    <tr>\n",
              "      <th>858</th>\n",
              "      <td>Null</td>\n",
              "      <td>Null</td>\n",
              "    </tr>\n",
              "    <tr>\n",
              "      <th>876</th>\n",
              "      <td>Null</td>\n",
              "      <td>Null</td>\n",
              "    </tr>\n",
              "    <tr>\n",
              "      <th>888</th>\n",
              "      <td>Null</td>\n",
              "      <td>Null</td>\n",
              "    </tr>\n",
              "    <tr>\n",
              "      <th>904</th>\n",
              "      <td>Null</td>\n",
              "      <td>Null</td>\n",
              "    </tr>\n",
              "    <tr>\n",
              "      <th>906</th>\n",
              "      <td>Null</td>\n",
              "      <td>Null</td>\n",
              "    </tr>\n",
              "    <tr>\n",
              "      <th>911</th>\n",
              "      <td>Null</td>\n",
              "      <td>Null</td>\n",
              "    </tr>\n",
              "    <tr>\n",
              "      <th>...</th>\n",
              "      <td>...</td>\n",
              "      <td>...</td>\n",
              "    </tr>\n",
              "    <tr>\n",
              "      <th>156373</th>\n",
              "      <td>Null</td>\n",
              "      <td>Null</td>\n",
              "    </tr>\n",
              "    <tr>\n",
              "      <th>156659</th>\n",
              "      <td>Null</td>\n",
              "      <td>Null</td>\n",
              "    </tr>\n",
              "    <tr>\n",
              "      <th>157110</th>\n",
              "      <td>Null</td>\n",
              "      <td>Null</td>\n",
              "    </tr>\n",
              "    <tr>\n",
              "      <th>157175</th>\n",
              "      <td>Null</td>\n",
              "      <td>Null</td>\n",
              "    </tr>\n",
              "    <tr>\n",
              "      <th>157490</th>\n",
              "      <td>Null</td>\n",
              "      <td>Null</td>\n",
              "    </tr>\n",
              "    <tr>\n",
              "      <th>157825</th>\n",
              "      <td>Null</td>\n",
              "      <td>Null</td>\n",
              "    </tr>\n",
              "    <tr>\n",
              "      <th>157888</th>\n",
              "      <td>Null</td>\n",
              "      <td>0</td>\n",
              "    </tr>\n",
              "    <tr>\n",
              "      <th>158012</th>\n",
              "      <td>Null</td>\n",
              "      <td>Null</td>\n",
              "    </tr>\n",
              "    <tr>\n",
              "      <th>158065</th>\n",
              "      <td>Null</td>\n",
              "      <td>Null</td>\n",
              "    </tr>\n",
              "    <tr>\n",
              "      <th>158080</th>\n",
              "      <td>Null</td>\n",
              "      <td>Null</td>\n",
              "    </tr>\n",
              "    <tr>\n",
              "      <th>158133</th>\n",
              "      <td>Null</td>\n",
              "      <td>Null</td>\n",
              "    </tr>\n",
              "    <tr>\n",
              "      <th>158280</th>\n",
              "      <td>Null</td>\n",
              "      <td>Null</td>\n",
              "    </tr>\n",
              "    <tr>\n",
              "      <th>158282</th>\n",
              "      <td>Null</td>\n",
              "      <td>Null</td>\n",
              "    </tr>\n",
              "    <tr>\n",
              "      <th>158305</th>\n",
              "      <td>Null</td>\n",
              "      <td>Null</td>\n",
              "    </tr>\n",
              "    <tr>\n",
              "      <th>158395</th>\n",
              "      <td>Null</td>\n",
              "      <td>Null</td>\n",
              "    </tr>\n",
              "    <tr>\n",
              "      <th>158499</th>\n",
              "      <td>Null</td>\n",
              "      <td>Null</td>\n",
              "    </tr>\n",
              "    <tr>\n",
              "      <th>158634</th>\n",
              "      <td>Null</td>\n",
              "      <td>Null</td>\n",
              "    </tr>\n",
              "    <tr>\n",
              "      <th>158738</th>\n",
              "      <td>Null</td>\n",
              "      <td>Null</td>\n",
              "    </tr>\n",
              "    <tr>\n",
              "      <th>158775</th>\n",
              "      <td>Null</td>\n",
              "      <td>Null</td>\n",
              "    </tr>\n",
              "    <tr>\n",
              "      <th>158786</th>\n",
              "      <td>Null</td>\n",
              "      <td>Null</td>\n",
              "    </tr>\n",
              "    <tr>\n",
              "      <th>158812</th>\n",
              "      <td>Null</td>\n",
              "      <td>Null</td>\n",
              "    </tr>\n",
              "    <tr>\n",
              "      <th>158813</th>\n",
              "      <td>Null</td>\n",
              "      <td>Null</td>\n",
              "    </tr>\n",
              "    <tr>\n",
              "      <th>158837</th>\n",
              "      <td>Null</td>\n",
              "      <td>Null</td>\n",
              "    </tr>\n",
              "    <tr>\n",
              "      <th>158841</th>\n",
              "      <td>Null</td>\n",
              "      <td>Null</td>\n",
              "    </tr>\n",
              "    <tr>\n",
              "      <th>158914</th>\n",
              "      <td>Null</td>\n",
              "      <td>Null</td>\n",
              "    </tr>\n",
              "    <tr>\n",
              "      <th>158926</th>\n",
              "      <td>Null</td>\n",
              "      <td>Null</td>\n",
              "    </tr>\n",
              "    <tr>\n",
              "      <th>159208</th>\n",
              "      <td>Null</td>\n",
              "      <td>Null</td>\n",
              "    </tr>\n",
              "    <tr>\n",
              "      <th>159480</th>\n",
              "      <td>Null</td>\n",
              "      <td>Null</td>\n",
              "    </tr>\n",
              "    <tr>\n",
              "      <th>159525</th>\n",
              "      <td>Null</td>\n",
              "      <td>Null</td>\n",
              "    </tr>\n",
              "    <tr>\n",
              "      <th>159531</th>\n",
              "      <td>Null</td>\n",
              "      <td>Null</td>\n",
              "    </tr>\n",
              "  </tbody>\n",
              "</table>\n",
              "<p>2708 rows × 2 columns</p>\n",
              "</div>"
            ],
            "text/plain": [
              "       clientNumberPhoneContacts clientAvgCallsPerDay\n",
              "10                          Null                 Null\n",
              "64                          Null                 Null\n",
              "93                          Null                 Null\n",
              "184                         Null                 Null\n",
              "220                         Null                 Null\n",
              "278                         Null                 Null\n",
              "339                         Null                 Null\n",
              "371                         Null                 Null\n",
              "378                         Null                 Null\n",
              "379                         Null                 Null\n",
              "406                         Null                 Null\n",
              "436                         Null                 Null\n",
              "437                         Null                 Null\n",
              "505                         Null                 Null\n",
              "574                         Null                 Null\n",
              "595                         Null                 Null\n",
              "632                         Null                 Null\n",
              "642                         Null                 Null\n",
              "646                         Null                 Null\n",
              "723                         Null                 Null\n",
              "744                         Null                 Null\n",
              "764                         Null                 Null\n",
              "784                         Null                 Null\n",
              "832                         Null                 Null\n",
              "858                         Null                 Null\n",
              "876                         Null                 Null\n",
              "888                         Null                 Null\n",
              "904                         Null                 Null\n",
              "906                         Null                 Null\n",
              "911                         Null                 Null\n",
              "...                          ...                  ...\n",
              "156373                      Null                 Null\n",
              "156659                      Null                 Null\n",
              "157110                      Null                 Null\n",
              "157175                      Null                 Null\n",
              "157490                      Null                 Null\n",
              "157825                      Null                 Null\n",
              "157888                      Null                    0\n",
              "158012                      Null                 Null\n",
              "158065                      Null                 Null\n",
              "158080                      Null                 Null\n",
              "158133                      Null                 Null\n",
              "158280                      Null                 Null\n",
              "158282                      Null                 Null\n",
              "158305                      Null                 Null\n",
              "158395                      Null                 Null\n",
              "158499                      Null                 Null\n",
              "158634                      Null                 Null\n",
              "158738                      Null                 Null\n",
              "158775                      Null                 Null\n",
              "158786                      Null                 Null\n",
              "158812                      Null                 Null\n",
              "158813                      Null                 Null\n",
              "158837                      Null                 Null\n",
              "158841                      Null                 Null\n",
              "158914                      Null                 Null\n",
              "158926                      Null                 Null\n",
              "159208                      Null                 Null\n",
              "159480                      Null                 Null\n",
              "159525                      Null                 Null\n",
              "159531                      Null                 Null\n",
              "\n",
              "[2708 rows x 2 columns]"
            ]
          },
          "metadata": {
            "tags": []
          },
          "execution_count": 80
        }
      ]
    },
    {
      "cell_type": "code",
      "metadata": {
        "id": "BfXTDHm9E_R9",
        "colab_type": "code",
        "outputId": "46ce7d52-d1a5-48e3-db7b-f1ce0b65d3b3",
        "colab": {
          "base_uri": "https://localhost:8080/",
          "height": 1828
        }
      },
      "source": [
        "# check if when call per day is 0, the client phone number is null\n",
        "df.loc[df.clientAvgCallsPerDay=='0',['clientNumberPhoneContacts','clientAvgCallsPerDay']]"
      ],
      "execution_count": 0,
      "outputs": [
        {
          "output_type": "execute_result",
          "data": {
            "text/html": [
              "<div>\n",
              "<style scoped>\n",
              "    .dataframe tbody tr th:only-of-type {\n",
              "        vertical-align: middle;\n",
              "    }\n",
              "\n",
              "    .dataframe tbody tr th {\n",
              "        vertical-align: top;\n",
              "    }\n",
              "\n",
              "    .dataframe thead th {\n",
              "        text-align: right;\n",
              "    }\n",
              "</style>\n",
              "<table border=\"1\" class=\"dataframe\">\n",
              "  <thead>\n",
              "    <tr style=\"text-align: right;\">\n",
              "      <th></th>\n",
              "      <th>clientNumberPhoneContacts</th>\n",
              "      <th>clientAvgCallsPerDay</th>\n",
              "    </tr>\n",
              "  </thead>\n",
              "  <tbody>\n",
              "    <tr>\n",
              "      <th>59</th>\n",
              "      <td>14</td>\n",
              "      <td>0</td>\n",
              "    </tr>\n",
              "    <tr>\n",
              "      <th>140</th>\n",
              "      <td>1</td>\n",
              "      <td>0</td>\n",
              "    </tr>\n",
              "    <tr>\n",
              "      <th>173</th>\n",
              "      <td>288</td>\n",
              "      <td>0</td>\n",
              "    </tr>\n",
              "    <tr>\n",
              "      <th>177</th>\n",
              "      <td>185</td>\n",
              "      <td>0</td>\n",
              "    </tr>\n",
              "    <tr>\n",
              "      <th>208</th>\n",
              "      <td>178</td>\n",
              "      <td>0</td>\n",
              "    </tr>\n",
              "    <tr>\n",
              "      <th>234</th>\n",
              "      <td>142</td>\n",
              "      <td>0</td>\n",
              "    </tr>\n",
              "    <tr>\n",
              "      <th>361</th>\n",
              "      <td>197</td>\n",
              "      <td>0</td>\n",
              "    </tr>\n",
              "    <tr>\n",
              "      <th>454</th>\n",
              "      <td>507</td>\n",
              "      <td>0</td>\n",
              "    </tr>\n",
              "    <tr>\n",
              "      <th>565</th>\n",
              "      <td>5</td>\n",
              "      <td>0</td>\n",
              "    </tr>\n",
              "    <tr>\n",
              "      <th>594</th>\n",
              "      <td>1</td>\n",
              "      <td>0</td>\n",
              "    </tr>\n",
              "    <tr>\n",
              "      <th>617</th>\n",
              "      <td>1</td>\n",
              "      <td>0</td>\n",
              "    </tr>\n",
              "    <tr>\n",
              "      <th>628</th>\n",
              "      <td>263</td>\n",
              "      <td>0</td>\n",
              "    </tr>\n",
              "    <tr>\n",
              "      <th>691</th>\n",
              "      <td>351</td>\n",
              "      <td>0</td>\n",
              "    </tr>\n",
              "    <tr>\n",
              "      <th>825</th>\n",
              "      <td>79</td>\n",
              "      <td>0</td>\n",
              "    </tr>\n",
              "    <tr>\n",
              "      <th>836</th>\n",
              "      <td>101</td>\n",
              "      <td>0</td>\n",
              "    </tr>\n",
              "    <tr>\n",
              "      <th>1044</th>\n",
              "      <td>14</td>\n",
              "      <td>0</td>\n",
              "    </tr>\n",
              "    <tr>\n",
              "      <th>1136</th>\n",
              "      <td>392</td>\n",
              "      <td>0</td>\n",
              "    </tr>\n",
              "    <tr>\n",
              "      <th>1249</th>\n",
              "      <td>148</td>\n",
              "      <td>0</td>\n",
              "    </tr>\n",
              "    <tr>\n",
              "      <th>1304</th>\n",
              "      <td>788</td>\n",
              "      <td>0</td>\n",
              "    </tr>\n",
              "    <tr>\n",
              "      <th>1434</th>\n",
              "      <td>676</td>\n",
              "      <td>0</td>\n",
              "    </tr>\n",
              "    <tr>\n",
              "      <th>1441</th>\n",
              "      <td>200</td>\n",
              "      <td>0</td>\n",
              "    </tr>\n",
              "    <tr>\n",
              "      <th>1450</th>\n",
              "      <td>5</td>\n",
              "      <td>0</td>\n",
              "    </tr>\n",
              "    <tr>\n",
              "      <th>1467</th>\n",
              "      <td>180</td>\n",
              "      <td>0</td>\n",
              "    </tr>\n",
              "    <tr>\n",
              "      <th>1500</th>\n",
              "      <td>462</td>\n",
              "      <td>0</td>\n",
              "    </tr>\n",
              "    <tr>\n",
              "      <th>1560</th>\n",
              "      <td>376</td>\n",
              "      <td>0</td>\n",
              "    </tr>\n",
              "    <tr>\n",
              "      <th>1562</th>\n",
              "      <td>774</td>\n",
              "      <td>0</td>\n",
              "    </tr>\n",
              "    <tr>\n",
              "      <th>1583</th>\n",
              "      <td>1238</td>\n",
              "      <td>0</td>\n",
              "    </tr>\n",
              "    <tr>\n",
              "      <th>1587</th>\n",
              "      <td>116</td>\n",
              "      <td>0</td>\n",
              "    </tr>\n",
              "    <tr>\n",
              "      <th>1594</th>\n",
              "      <td>487</td>\n",
              "      <td>0</td>\n",
              "    </tr>\n",
              "    <tr>\n",
              "      <th>1596</th>\n",
              "      <td>835</td>\n",
              "      <td>0</td>\n",
              "    </tr>\n",
              "    <tr>\n",
              "      <th>...</th>\n",
              "      <td>...</td>\n",
              "      <td>...</td>\n",
              "    </tr>\n",
              "    <tr>\n",
              "      <th>158639</th>\n",
              "      <td>788</td>\n",
              "      <td>0</td>\n",
              "    </tr>\n",
              "    <tr>\n",
              "      <th>158678</th>\n",
              "      <td>62</td>\n",
              "      <td>0</td>\n",
              "    </tr>\n",
              "    <tr>\n",
              "      <th>158680</th>\n",
              "      <td>324</td>\n",
              "      <td>0</td>\n",
              "    </tr>\n",
              "    <tr>\n",
              "      <th>158685</th>\n",
              "      <td>8</td>\n",
              "      <td>0</td>\n",
              "    </tr>\n",
              "    <tr>\n",
              "      <th>158688</th>\n",
              "      <td>3</td>\n",
              "      <td>0</td>\n",
              "    </tr>\n",
              "    <tr>\n",
              "      <th>158710</th>\n",
              "      <td>1393</td>\n",
              "      <td>0</td>\n",
              "    </tr>\n",
              "    <tr>\n",
              "      <th>158723</th>\n",
              "      <td>18</td>\n",
              "      <td>0</td>\n",
              "    </tr>\n",
              "    <tr>\n",
              "      <th>158746</th>\n",
              "      <td>313</td>\n",
              "      <td>0</td>\n",
              "    </tr>\n",
              "    <tr>\n",
              "      <th>158757</th>\n",
              "      <td>358</td>\n",
              "      <td>0</td>\n",
              "    </tr>\n",
              "    <tr>\n",
              "      <th>158774</th>\n",
              "      <td>395</td>\n",
              "      <td>0</td>\n",
              "    </tr>\n",
              "    <tr>\n",
              "      <th>158784</th>\n",
              "      <td>415</td>\n",
              "      <td>0</td>\n",
              "    </tr>\n",
              "    <tr>\n",
              "      <th>158787</th>\n",
              "      <td>17</td>\n",
              "      <td>0</td>\n",
              "    </tr>\n",
              "    <tr>\n",
              "      <th>158842</th>\n",
              "      <td>648</td>\n",
              "      <td>0</td>\n",
              "    </tr>\n",
              "    <tr>\n",
              "      <th>158856</th>\n",
              "      <td>338</td>\n",
              "      <td>0</td>\n",
              "    </tr>\n",
              "    <tr>\n",
              "      <th>159007</th>\n",
              "      <td>242</td>\n",
              "      <td>0</td>\n",
              "    </tr>\n",
              "    <tr>\n",
              "      <th>159019</th>\n",
              "      <td>1482</td>\n",
              "      <td>0</td>\n",
              "    </tr>\n",
              "    <tr>\n",
              "      <th>159046</th>\n",
              "      <td>580</td>\n",
              "      <td>0</td>\n",
              "    </tr>\n",
              "    <tr>\n",
              "      <th>159088</th>\n",
              "      <td>3</td>\n",
              "      <td>0</td>\n",
              "    </tr>\n",
              "    <tr>\n",
              "      <th>159093</th>\n",
              "      <td>7</td>\n",
              "      <td>0</td>\n",
              "    </tr>\n",
              "    <tr>\n",
              "      <th>159098</th>\n",
              "      <td>213</td>\n",
              "      <td>0</td>\n",
              "    </tr>\n",
              "    <tr>\n",
              "      <th>159182</th>\n",
              "      <td>466</td>\n",
              "      <td>0</td>\n",
              "    </tr>\n",
              "    <tr>\n",
              "      <th>159253</th>\n",
              "      <td>251</td>\n",
              "      <td>0</td>\n",
              "    </tr>\n",
              "    <tr>\n",
              "      <th>159262</th>\n",
              "      <td>30</td>\n",
              "      <td>0</td>\n",
              "    </tr>\n",
              "    <tr>\n",
              "      <th>159349</th>\n",
              "      <td>378</td>\n",
              "      <td>0</td>\n",
              "    </tr>\n",
              "    <tr>\n",
              "      <th>159439</th>\n",
              "      <td>200</td>\n",
              "      <td>0</td>\n",
              "    </tr>\n",
              "    <tr>\n",
              "      <th>159446</th>\n",
              "      <td>46</td>\n",
              "      <td>0</td>\n",
              "    </tr>\n",
              "    <tr>\n",
              "      <th>159504</th>\n",
              "      <td>349</td>\n",
              "      <td>0</td>\n",
              "    </tr>\n",
              "    <tr>\n",
              "      <th>159535</th>\n",
              "      <td>244</td>\n",
              "      <td>0</td>\n",
              "    </tr>\n",
              "    <tr>\n",
              "      <th>159584</th>\n",
              "      <td>981</td>\n",
              "      <td>0</td>\n",
              "    </tr>\n",
              "    <tr>\n",
              "      <th>159585</th>\n",
              "      <td>262</td>\n",
              "      <td>0</td>\n",
              "    </tr>\n",
              "  </tbody>\n",
              "</table>\n",
              "<p>3639 rows × 2 columns</p>\n",
              "</div>"
            ],
            "text/plain": [
              "       clientNumberPhoneContacts clientAvgCallsPerDay\n",
              "59                            14                    0\n",
              "140                            1                    0\n",
              "173                          288                    0\n",
              "177                          185                    0\n",
              "208                          178                    0\n",
              "234                          142                    0\n",
              "361                          197                    0\n",
              "454                          507                    0\n",
              "565                            5                    0\n",
              "594                            1                    0\n",
              "617                            1                    0\n",
              "628                          263                    0\n",
              "691                          351                    0\n",
              "825                           79                    0\n",
              "836                          101                    0\n",
              "1044                          14                    0\n",
              "1136                         392                    0\n",
              "1249                         148                    0\n",
              "1304                         788                    0\n",
              "1434                         676                    0\n",
              "1441                         200                    0\n",
              "1450                           5                    0\n",
              "1467                         180                    0\n",
              "1500                         462                    0\n",
              "1560                         376                    0\n",
              "1562                         774                    0\n",
              "1583                        1238                    0\n",
              "1587                         116                    0\n",
              "1594                         487                    0\n",
              "1596                         835                    0\n",
              "...                          ...                  ...\n",
              "158639                       788                    0\n",
              "158678                        62                    0\n",
              "158680                       324                    0\n",
              "158685                         8                    0\n",
              "158688                         3                    0\n",
              "158710                      1393                    0\n",
              "158723                        18                    0\n",
              "158746                       313                    0\n",
              "158757                       358                    0\n",
              "158774                       395                    0\n",
              "158784                       415                    0\n",
              "158787                        17                    0\n",
              "158842                       648                    0\n",
              "158856                       338                    0\n",
              "159007                       242                    0\n",
              "159019                      1482                    0\n",
              "159046                       580                    0\n",
              "159088                         3                    0\n",
              "159093                         7                    0\n",
              "159098                       213                    0\n",
              "159182                       466                    0\n",
              "159253                       251                    0\n",
              "159262                        30                    0\n",
              "159349                       378                    0\n",
              "159439                       200                    0\n",
              "159446                        46                    0\n",
              "159504                       349                    0\n",
              "159535                       244                    0\n",
              "159584                       981                    0\n",
              "159585                       262                    0\n",
              "\n",
              "[3639 rows x 2 columns]"
            ]
          },
          "metadata": {
            "tags": []
          },
          "execution_count": 82
        }
      ]
    },
    {
      "cell_type": "code",
      "metadata": {
        "id": "-Kfg1ANcFIcf",
        "colab_type": "code",
        "outputId": "30f584f4-7bef-417d-f320-cb7cb03cf3bf",
        "colab": {
          "base_uri": "https://localhost:8080/",
          "height": 438
        }
      },
      "source": [
        "# extract categorical features\n",
        "cat_var = df.select_dtypes(include=['O','category'])\n",
        "cat_var.head()"
      ],
      "execution_count": 0,
      "outputs": [
        {
          "output_type": "execute_result",
          "data": {
            "text/html": [
              "<div>\n",
              "<style scoped>\n",
              "    .dataframe tbody tr th:only-of-type {\n",
              "        vertical-align: middle;\n",
              "    }\n",
              "\n",
              "    .dataframe tbody tr th {\n",
              "        vertical-align: top;\n",
              "    }\n",
              "\n",
              "    .dataframe thead th {\n",
              "        text-align: right;\n",
              "    }\n",
              "</style>\n",
              "<table border=\"1\" class=\"dataframe\">\n",
              "  <thead>\n",
              "    <tr style=\"text-align: right;\">\n",
              "      <th></th>\n",
              "      <th>incomeVerified</th>\n",
              "      <th>clientGender</th>\n",
              "      <th>clientMaritalStatus</th>\n",
              "      <th>clientLoanPurpose</th>\n",
              "      <th>clientResidentialStauts</th>\n",
              "      <th>clientState</th>\n",
              "      <th>clientTimeAtEmployer</th>\n",
              "      <th>clientNumberPhoneContacts</th>\n",
              "      <th>clientAvgCallsPerDay</th>\n",
              "      <th>applicationDate</th>\n",
              "      <th>approvalDate</th>\n",
              "      <th>declinedDate</th>\n",
              "      <th>disbursementDate</th>\n",
              "      <th>RPdueDate</th>\n",
              "      <th>paidAt</th>\n",
              "      <th>rILoanId</th>\n",
              "      <th>repaidDate</th>\n",
              "      <th>rIdueDate</th>\n",
              "    </tr>\n",
              "  </thead>\n",
              "  <tbody>\n",
              "    <tr>\n",
              "      <th>0</th>\n",
              "      <td>false</td>\n",
              "      <td>FEMALE</td>\n",
              "      <td>Single</td>\n",
              "      <td>business</td>\n",
              "      <td>Rented</td>\n",
              "      <td>KANO</td>\n",
              "      <td>7</td>\n",
              "      <td>257</td>\n",
              "      <td>153</td>\n",
              "      <td>2018-07-12</td>\n",
              "      <td>2018-07-12</td>\n",
              "      <td>Null</td>\n",
              "      <td>2018-07-12</td>\n",
              "      <td>2018-09-10 06:35:11 UTC</td>\n",
              "      <td>2018-09-04 11:54:00 UTC</td>\n",
              "      <td>302039538823</td>\n",
              "      <td>2018-08-01 11:30:31 UTC</td>\n",
              "      <td>2018-08-13 12:00:00 UTC</td>\n",
              "    </tr>\n",
              "    <tr>\n",
              "      <th>1</th>\n",
              "      <td>false</td>\n",
              "      <td>MALE</td>\n",
              "      <td>Single</td>\n",
              "      <td>business</td>\n",
              "      <td>Rented</td>\n",
              "      <td>LAGOS</td>\n",
              "      <td>21</td>\n",
              "      <td>3964</td>\n",
              "      <td>269.42641509433963</td>\n",
              "      <td>2018-08-22</td>\n",
              "      <td>2018-08-22</td>\n",
              "      <td>Null</td>\n",
              "      <td>2018-08-22</td>\n",
              "      <td>2018-10-21 07:13:29 UTC</td>\n",
              "      <td>2018-09-06 04:44:04 UTC</td>\n",
              "      <td>302251936174</td>\n",
              "      <td>2018-09-06 05:34:55 UTC</td>\n",
              "      <td>2018-09-21 12:00:00 UTC</td>\n",
              "    </tr>\n",
              "    <tr>\n",
              "      <th>2</th>\n",
              "      <td>false</td>\n",
              "      <td>MALE</td>\n",
              "      <td>Single</td>\n",
              "      <td>education</td>\n",
              "      <td>Rented</td>\n",
              "      <td>ANAMBRA</td>\n",
              "      <td>29</td>\n",
              "      <td>1140</td>\n",
              "      <td>77.14782608695653</td>\n",
              "      <td>2018-08-25</td>\n",
              "      <td>2018-08-25</td>\n",
              "      <td>Null</td>\n",
              "      <td>2018-08-25</td>\n",
              "      <td>2018-10-23 11:00:00 UTC</td>\n",
              "      <td>Null</td>\n",
              "      <td>302270229003</td>\n",
              "      <td>2018-11-27 01:33:56 UTC</td>\n",
              "      <td>2018-09-24 12:00:00 UTC</td>\n",
              "    </tr>\n",
              "    <tr>\n",
              "      <th>3</th>\n",
              "      <td>false</td>\n",
              "      <td>FEMALE</td>\n",
              "      <td>Married</td>\n",
              "      <td>business</td>\n",
              "      <td>Own Residence</td>\n",
              "      <td>OSUN</td>\n",
              "      <td>36+</td>\n",
              "      <td>2764</td>\n",
              "      <td>31.678111587982833</td>\n",
              "      <td>2018-06-19</td>\n",
              "      <td>2018-06-19</td>\n",
              "      <td>Null</td>\n",
              "      <td>2018-06-19</td>\n",
              "      <td>2018-08-18 04:21:05 UTC</td>\n",
              "      <td>2018-07-10 11:23:31 UTC</td>\n",
              "      <td>301929229685</td>\n",
              "      <td>2018-07-09 06:48:44 UTC</td>\n",
              "      <td>2018-07-19 12:00:00 UTC</td>\n",
              "    </tr>\n",
              "    <tr>\n",
              "      <th>4</th>\n",
              "      <td>false</td>\n",
              "      <td>MALE</td>\n",
              "      <td>Married</td>\n",
              "      <td>medical</td>\n",
              "      <td>Rented</td>\n",
              "      <td>ONDO</td>\n",
              "      <td>36+</td>\n",
              "      <td>504</td>\n",
              "      <td>3</td>\n",
              "      <td>2018-06-02</td>\n",
              "      <td>2018-06-02</td>\n",
              "      <td>Null</td>\n",
              "      <td>2018-06-02</td>\n",
              "      <td>2018-08-01 07:31:40 UTC</td>\n",
              "      <td>2018-08-09 06:05:37 UTC</td>\n",
              "      <td>301841795739</td>\n",
              "      <td>2018-07-14 02:28:10 UTC</td>\n",
              "      <td>2018-07-02 12:00:00 UTC</td>\n",
              "    </tr>\n",
              "  </tbody>\n",
              "</table>\n",
              "</div>"
            ],
            "text/plain": [
              "  incomeVerified clientGender clientMaritalStatus clientLoanPurpose  \\\n",
              "0          false       FEMALE              Single          business   \n",
              "1          false         MALE              Single          business   \n",
              "2          false         MALE              Single         education   \n",
              "3          false       FEMALE             Married          business   \n",
              "4          false         MALE             Married           medical   \n",
              "\n",
              "  clientResidentialStauts clientState clientTimeAtEmployer  \\\n",
              "0                  Rented        KANO                    7   \n",
              "1                  Rented       LAGOS                   21   \n",
              "2                  Rented     ANAMBRA                   29   \n",
              "3           Own Residence        OSUN                  36+   \n",
              "4                  Rented        ONDO                  36+   \n",
              "\n",
              "  clientNumberPhoneContacts clientAvgCallsPerDay applicationDate approvalDate  \\\n",
              "0                       257                  153      2018-07-12   2018-07-12   \n",
              "1                      3964   269.42641509433963      2018-08-22   2018-08-22   \n",
              "2                      1140    77.14782608695653      2018-08-25   2018-08-25   \n",
              "3                      2764   31.678111587982833      2018-06-19   2018-06-19   \n",
              "4                       504                    3      2018-06-02   2018-06-02   \n",
              "\n",
              "  declinedDate disbursementDate                RPdueDate  \\\n",
              "0         Null       2018-07-12  2018-09-10 06:35:11 UTC   \n",
              "1         Null       2018-08-22  2018-10-21 07:13:29 UTC   \n",
              "2         Null       2018-08-25  2018-10-23 11:00:00 UTC   \n",
              "3         Null       2018-06-19  2018-08-18 04:21:05 UTC   \n",
              "4         Null       2018-06-02  2018-08-01 07:31:40 UTC   \n",
              "\n",
              "                    paidAt      rILoanId               repaidDate  \\\n",
              "0  2018-09-04 11:54:00 UTC  302039538823  2018-08-01 11:30:31 UTC   \n",
              "1  2018-09-06 04:44:04 UTC  302251936174  2018-09-06 05:34:55 UTC   \n",
              "2                     Null  302270229003  2018-11-27 01:33:56 UTC   \n",
              "3  2018-07-10 11:23:31 UTC  301929229685  2018-07-09 06:48:44 UTC   \n",
              "4  2018-08-09 06:05:37 UTC  301841795739  2018-07-14 02:28:10 UTC   \n",
              "\n",
              "                 rIdueDate  \n",
              "0  2018-08-13 12:00:00 UTC  \n",
              "1  2018-09-21 12:00:00 UTC  \n",
              "2  2018-09-24 12:00:00 UTC  \n",
              "3  2018-07-19 12:00:00 UTC  \n",
              "4  2018-07-02 12:00:00 UTC  "
            ]
          },
          "metadata": {
            "tags": []
          },
          "execution_count": 83
        }
      ]
    },
    {
      "cell_type": "code",
      "metadata": {
        "id": "5Y0VQtzbFeoE",
        "colab_type": "code",
        "outputId": "5e77d8b6-5657-48f4-830d-6aa78d24dfa4",
        "colab": {
          "base_uri": "https://localhost:8080/",
          "height": 1025
        }
      },
      "source": [
        "# check for distribution\n",
        "df.clientNumberPhoneContacts.value_counts()"
      ],
      "execution_count": 0,
      "outputs": [
        {
          "output_type": "execute_result",
          "data": {
            "text/plain": [
              "Null     2708\n",
              "200       216\n",
              "400       186\n",
              "310       166\n",
              "350       149\n",
              "542       148\n",
              "360       147\n",
              "600       146\n",
              "476       145\n",
              "325       145\n",
              "356       144\n",
              "314       142\n",
              "376       142\n",
              "301       142\n",
              "417       141\n",
              "395       141\n",
              "388       140\n",
              "269       140\n",
              "410       139\n",
              "317       139\n",
              "541       139\n",
              "398       139\n",
              "293       138\n",
              "330       137\n",
              "414       137\n",
              "455       137\n",
              "344       137\n",
              "592       137\n",
              "347       136\n",
              "211       136\n",
              "         ... \n",
              "5176        1\n",
              "5040        1\n",
              "20467       1\n",
              "7469        1\n",
              "9789        1\n",
              "6249        1\n",
              "7216        1\n",
              "9752        1\n",
              "13744       1\n",
              "5807        1\n",
              "12117       1\n",
              "13649       1\n",
              "9156        1\n",
              "5509        1\n",
              "6361        1\n",
              "6170        1\n",
              "9636        1\n",
              "5106        1\n",
              "9355        1\n",
              "5949        1\n",
              "8857        1\n",
              "8785        1\n",
              "9542        1\n",
              "9875        1\n",
              "4444        1\n",
              "7509        1\n",
              "9501        1\n",
              "7405        1\n",
              "7933        1\n",
              "11991       1\n",
              "Name: clientNumberPhoneContacts, Length: 7378, dtype: int64"
            ]
          },
          "metadata": {
            "tags": []
          },
          "execution_count": 84
        }
      ]
    },
    {
      "cell_type": "code",
      "metadata": {
        "id": "u1sElIOTFPaM",
        "colab_type": "code",
        "colab": {}
      },
      "source": [
        "#change clientNumberPhoneContacts to numeric type\n",
        "def change_to_numeric(x):\n",
        "  if x == 'Null': \n",
        "    return 0\n",
        "  else: \n",
        "    return int(x)\n",
        "  \n",
        "df.clientNumberPhoneContacts=df.clientNumberPhoneContacts.apply(change_to_numeric)\n",
        "\n"
      ],
      "execution_count": 0,
      "outputs": []
    },
    {
      "cell_type": "code",
      "metadata": {
        "id": "tTwNhEsaGCvS",
        "colab_type": "code",
        "outputId": "64bd6f0c-5702-42f8-b42e-432cb7915340",
        "colab": {
          "base_uri": "https://localhost:8080/",
          "height": 1025
        }
      },
      "source": [
        "# check for the each value count\n",
        "df.clientNumberPhoneContacts.value_counts()"
      ],
      "execution_count": 0,
      "outputs": [
        {
          "output_type": "execute_result",
          "data": {
            "text/plain": [
              "0        2709\n",
              "200       216\n",
              "400       186\n",
              "310       166\n",
              "350       149\n",
              "542       148\n",
              "360       147\n",
              "600       146\n",
              "476       145\n",
              "325       145\n",
              "356       144\n",
              "376       142\n",
              "314       142\n",
              "301       142\n",
              "395       141\n",
              "417       141\n",
              "388       140\n",
              "269       140\n",
              "398       139\n",
              "317       139\n",
              "410       139\n",
              "541       139\n",
              "293       138\n",
              "455       137\n",
              "344       137\n",
              "414       137\n",
              "592       137\n",
              "330       137\n",
              "347       136\n",
              "299       136\n",
              "         ... \n",
              "6212        1\n",
              "4433        1\n",
              "5653        1\n",
              "7597        1\n",
              "9875        1\n",
              "5877        1\n",
              "7956        1\n",
              "5909        1\n",
              "5201        1\n",
              "6113        1\n",
              "5073        1\n",
              "7924        1\n",
              "4945        1\n",
              "7469        1\n",
              "15060       1\n",
              "4817        1\n",
              "8348        1\n",
              "6864        1\n",
              "10337       1\n",
              "4378        1\n",
              "6736        1\n",
              "60595       1\n",
              "4506        1\n",
              "10434       1\n",
              "5493        1\n",
              "12662       1\n",
              "5292        1\n",
              "11435       1\n",
              "10781       1\n",
              "5981        1\n",
              "Name: clientNumberPhoneContacts, Length: 7377, dtype: int64"
            ]
          },
          "metadata": {
            "tags": []
          },
          "execution_count": 86
        }
      ]
    },
    {
      "cell_type": "code",
      "metadata": {
        "id": "uEBXfMdhGGAb",
        "colab_type": "code",
        "outputId": "9b13633e-2e43-4e63-d9e2-6d863a1d0c20",
        "colab": {
          "base_uri": "https://localhost:8080/",
          "height": 33
        }
      },
      "source": [
        "# check the new dtype\n",
        "df.clientNumberPhoneContacts.dtype"
      ],
      "execution_count": 0,
      "outputs": [
        {
          "output_type": "execute_result",
          "data": {
            "text/plain": [
              "dtype('int64')"
            ]
          },
          "metadata": {
            "tags": []
          },
          "execution_count": 87
        }
      ]
    },
    {
      "cell_type": "code",
      "metadata": {
        "id": "UksVlCxSGMbC",
        "colab_type": "code",
        "outputId": "6b1f517f-8c8c-4e70-d95a-8ad29474646c",
        "colab": {
          "base_uri": "https://localhost:8080/",
          "height": 1025
        }
      },
      "source": [
        "df.clientAvgCallsPerDay.value_counts()"
      ],
      "execution_count": 0,
      "outputs": [
        {
          "output_type": "execute_result",
          "data": {
            "text/plain": [
              "0                     3639\n",
              "Null                  2687\n",
              "1                      899\n",
              "2                      672\n",
              "3                      592\n",
              "4                      454\n",
              "7                      387\n",
              "5                      383\n",
              "6                      358\n",
              "8                      288\n",
              "9                      276\n",
              "10                     260\n",
              "12                     249\n",
              "11                     246\n",
              "14                     208\n",
              "13                     205\n",
              "15                     201\n",
              "18                     195\n",
              "17                     176\n",
              "20                     164\n",
              "19                     163\n",
              "21                     162\n",
              "16                     155\n",
              "23                     155\n",
              "22                     149\n",
              "26                     139\n",
              "29                     137\n",
              "28                     136\n",
              "25                     130\n",
              "24                     126\n",
              "                      ... \n",
              "57.563876651982376       1\n",
              "43.78688524590164        1\n",
              "17.99421965317919        1\n",
              "54.82962962962963        1\n",
              "2.4324324324324325       1\n",
              "20.646017699115045       1\n",
              "2.0273224043715845       1\n",
              "36.10655737704918        1\n",
              "21.483333333333334       1\n",
              "485.8181818181818        1\n",
              "68.19838056680162        1\n",
              "36.28605200945626        1\n",
              "109.46039603960396       1\n",
              "40.4040404040404         1\n",
              "0.8881118881118881       1\n",
              "55.76986301369863        1\n",
              "26.439862542955325       1\n",
              "528.2932330827068        1\n",
              "68.71014492753623        1\n",
              "59.7891156462585         1\n",
              "17.80094786729858        1\n",
              "1.717741935483871        1\n",
              "106.78571428571429       1\n",
              "128.3360655737705        1\n",
              "7.474747474747475        1\n",
              "35.424107142857146       1\n",
              "23.788617886178862       1\n",
              "75.68075117370893        1\n",
              "129.29457364341084       1\n",
              "6.927899686520377        1\n",
              "Name: clientAvgCallsPerDay, Length: 100307, dtype: int64"
            ]
          },
          "metadata": {
            "tags": []
          },
          "execution_count": 88
        }
      ]
    },
    {
      "cell_type": "code",
      "metadata": {
        "id": "wGSrqAaEGTpc",
        "colab_type": "code",
        "colab": {}
      },
      "source": [
        "#change clientAvgCallsPerDay to numeric type\n",
        "def change_to_numeric1(x):\n",
        "  if x == 'Null': \n",
        "    return 0\n",
        "  else: \n",
        "    return float(x)\n"
      ],
      "execution_count": 0,
      "outputs": []
    },
    {
      "cell_type": "code",
      "metadata": {
        "id": "ivMeDr91GdGv",
        "colab_type": "code",
        "colab": {}
      },
      "source": [
        "# repeat same step for clientAvgCallsPerDay by considering all Null as 0\n",
        "df.clientAvgCallsPerDay = df.clientAvgCallsPerDay.apply(change_to_numeric1)"
      ],
      "execution_count": 0,
      "outputs": []
    },
    {
      "cell_type": "code",
      "metadata": {
        "id": "EUOxUVOiGkXi",
        "colab_type": "code",
        "outputId": "59c7ff2e-65af-4259-96fe-3fa48412240f",
        "colab": {
          "base_uri": "https://localhost:8080/",
          "height": 33
        }
      },
      "source": [
        "df.clientAvgCallsPerDay.dtype"
      ],
      "execution_count": 0,
      "outputs": [
        {
          "output_type": "execute_result",
          "data": {
            "text/plain": [
              "dtype('float64')"
            ]
          },
          "metadata": {
            "tags": []
          },
          "execution_count": 91
        }
      ]
    },
    {
      "cell_type": "code",
      "metadata": {
        "id": "ZqXmoiVGGpv8",
        "colab_type": "code",
        "outputId": "9691e198-94b2-4151-a474-6ae88fe1b355",
        "colab": {
          "base_uri": "https://localhost:8080/",
          "height": 391
        }
      },
      "source": [
        "num_var=df.select_dtypes('number')\n",
        "num_var.corr()['loanDefault'].sort_values()"
      ],
      "execution_count": 0,
      "outputs": [
        {
          "output_type": "execute_result",
          "data": {
            "text/plain": [
              "loanNumber                  -0.080460\n",
              "reten_measure               -0.075902\n",
              "incomeVerified_encode       -0.049548\n",
              "log_clientIncome            -0.049367\n",
              "clientAge                   -0.048228\n",
              "clientIncome_bin            -0.042590\n",
              "clientAge_bin               -0.042138\n",
              "amount_diff                 -0.036371\n",
              "clientIncome                -0.035201\n",
              "loanIncome_diff             -0.031577\n",
              "clientNumberPhoneContacts   -0.028477\n",
              "clientAvgCallsPerDay        -0.027286\n",
              "loanAmount                  -0.017319\n",
              "clientId                     0.002682\n",
              "loanTerm                     0.009177\n",
              "interestRate                 0.079144\n",
              "max_amount_taken             0.100787\n",
              "max_tenor_taken              0.104165\n",
              "firstpaymentRatio            0.565268\n",
              "firstPaymentDefault          0.624008\n",
              "settleDays                   0.626700\n",
              "loanDefault                  1.000000\n",
              "Name: loanDefault, dtype: float64"
            ]
          },
          "metadata": {
            "tags": []
          },
          "execution_count": 92
        }
      ]
    },
    {
      "cell_type": "code",
      "metadata": {
        "id": "TIPaa3yiG4IW",
        "colab_type": "code",
        "colab": {}
      },
      "source": [
        "# creating new features\n",
        "df['contactedPerDay'] = df['clientAvgCallsPerDay']/df['clientNumberPhoneContacts']"
      ],
      "execution_count": 0,
      "outputs": []
    },
    {
      "cell_type": "code",
      "metadata": {
        "id": "CNV6P0BXHBa9",
        "colab_type": "code",
        "outputId": "40ecaea6-5595-4d26-fc16-2b271565431b",
        "colab": {
          "base_uri": "https://localhost:8080/",
          "height": 1025
        }
      },
      "source": [
        "df['contactedPerDay']"
      ],
      "execution_count": 0,
      "outputs": [
        {
          "output_type": "execute_result",
          "data": {
            "text/plain": [
              "0         0.595331\n",
              "1         0.067968\n",
              "2         0.067674\n",
              "3         0.011461\n",
              "4         0.005952\n",
              "5         0.065725\n",
              "6         0.002060\n",
              "7         0.069042\n",
              "8         0.019014\n",
              "9         0.030374\n",
              "10             NaN\n",
              "11        0.043922\n",
              "12        0.007807\n",
              "13        0.382049\n",
              "14        0.043428\n",
              "15        0.054745\n",
              "16        0.001770\n",
              "17        0.024865\n",
              "18        0.088436\n",
              "19        0.058140\n",
              "20        0.046360\n",
              "21        0.062649\n",
              "22        0.011623\n",
              "23        0.086823\n",
              "24        0.029932\n",
              "25        0.133772\n",
              "26        0.098972\n",
              "27        0.052553\n",
              "28        0.001661\n",
              "29        0.004011\n",
              "            ...   \n",
              "159566    0.259615\n",
              "159567    0.002340\n",
              "159568    0.031732\n",
              "159569    0.007530\n",
              "159570    0.013996\n",
              "159571    1.416327\n",
              "159572    0.106540\n",
              "159573    0.041491\n",
              "159574    1.375000\n",
              "159575    0.014497\n",
              "159576    0.016944\n",
              "159577    0.056495\n",
              "159578    0.045455\n",
              "159579    0.061177\n",
              "159580    0.284739\n",
              "159581    0.016065\n",
              "159582    0.054419\n",
              "159583    0.331776\n",
              "159584    0.000000\n",
              "159585    0.000000\n",
              "159586    0.118786\n",
              "159587    0.139089\n",
              "159588    0.019766\n",
              "159589    0.048826\n",
              "159590    0.040503\n",
              "159591    0.060149\n",
              "159592    0.006731\n",
              "159593    0.001330\n",
              "159594    0.026401\n",
              "159595    0.023213\n",
              "Name: contactedPerDay, Length: 159596, dtype: float64"
            ]
          },
          "metadata": {
            "tags": []
          },
          "execution_count": 94
        }
      ]
    },
    {
      "cell_type": "code",
      "metadata": {
        "id": "8mVn5S4RHO3R",
        "colab_type": "code",
        "outputId": "a31fc4e9-e947-48c3-9b4f-14e7445a9de2",
        "colab": {
          "base_uri": "https://localhost:8080/",
          "height": 407
        }
      },
      "source": [
        "num_var=df.select_dtypes('number')\n",
        "num_var.corr()['loanDefault'].sort_values()"
      ],
      "execution_count": 0,
      "outputs": [
        {
          "output_type": "execute_result",
          "data": {
            "text/plain": [
              "loanNumber                  -0.080460\n",
              "reten_measure               -0.075902\n",
              "incomeVerified_encode       -0.049548\n",
              "log_clientIncome            -0.049367\n",
              "clientAge                   -0.048228\n",
              "clientIncome_bin            -0.042590\n",
              "clientAge_bin               -0.042138\n",
              "amount_diff                 -0.036371\n",
              "clientIncome                -0.035201\n",
              "loanIncome_diff             -0.031577\n",
              "clientNumberPhoneContacts   -0.028477\n",
              "clientAvgCallsPerDay        -0.027286\n",
              "loanAmount                  -0.017319\n",
              "clientId                     0.002682\n",
              "contactedPerDay              0.006054\n",
              "loanTerm                     0.009177\n",
              "interestRate                 0.079144\n",
              "max_amount_taken             0.100787\n",
              "max_tenor_taken              0.104165\n",
              "firstpaymentRatio            0.565268\n",
              "firstPaymentDefault          0.624008\n",
              "settleDays                   0.626700\n",
              "loanDefault                  1.000000\n",
              "Name: loanDefault, dtype: float64"
            ]
          },
          "metadata": {
            "tags": []
          },
          "execution_count": 95
        }
      ]
    },
    {
      "cell_type": "code",
      "metadata": {
        "id": "LAiRh6xHHvHU",
        "colab_type": "code",
        "outputId": "d6482017-e823-4853-932c-493c6a7a1853",
        "colab": {
          "base_uri": "https://localhost:8080/",
          "height": 700
        }
      },
      "source": [
        "df.clientTimeAtEmployer.value_counts()"
      ],
      "execution_count": 0,
      "outputs": [
        {
          "output_type": "execute_result",
          "data": {
            "text/plain": [
              "36+     87294\n",
              "Null     4194\n",
              "0        3373\n",
              "24       2926\n",
              "12       2643\n",
              "3        2391\n",
              "2        2358\n",
              "13       2356\n",
              "1        2325\n",
              "4        2295\n",
              "5        2202\n",
              "6        2142\n",
              "7        2039\n",
              "9        1991\n",
              "8        1910\n",
              "15       1886\n",
              "14       1882\n",
              "16       1860\n",
              "25       1847\n",
              "11       1813\n",
              "17       1767\n",
              "26       1763\n",
              "10       1741\n",
              "27       1731\n",
              "23       1704\n",
              "28       1688\n",
              "18       1673\n",
              "22       1582\n",
              "29       1576\n",
              "20       1562\n",
              "21       1513\n",
              "19       1510\n",
              "31       1425\n",
              "30       1418\n",
              "32       1375\n",
              "34       1287\n",
              "35       1282\n",
              "33       1268\n",
              "-6          2\n",
              "-7          1\n",
              "-5          1\n",
              "Name: clientTimeAtEmployer, dtype: int64"
            ]
          },
          "metadata": {
            "tags": []
          },
          "execution_count": 96
        }
      ]
    },
    {
      "cell_type": "code",
      "metadata": {
        "id": "d88qH5ZSH9Bj",
        "colab_type": "code",
        "colab": {}
      },
      "source": [
        "#change clientTimeAtEmployer to numeric type\n",
        "def change_to_numeric2(x):\n",
        "  if x == 'Null': \n",
        "    return 0\n",
        "  elif x == '36+': return 36\n",
        "  elif '-' in x: return 0\n",
        "  else: \n",
        "    return float(x)"
      ],
      "execution_count": 0,
      "outputs": []
    },
    {
      "cell_type": "code",
      "metadata": {
        "id": "J3rgZ7GwIEUM",
        "colab_type": "code",
        "colab": {}
      },
      "source": [
        "# apply the transformation on the column\n",
        "df.clientTimeAtEmployer=df.clientTimeAtEmployer.apply(change_to_numeric2)"
      ],
      "execution_count": 0,
      "outputs": []
    },
    {
      "cell_type": "code",
      "metadata": {
        "id": "-gwkOtWjIMdt",
        "colab_type": "code",
        "outputId": "a7330488-d3c4-47ef-f95e-c7aa1346c666",
        "colab": {
          "base_uri": "https://localhost:8080/",
          "height": 33
        }
      },
      "source": [
        "df.clientTimeAtEmployer.dtype"
      ],
      "execution_count": 0,
      "outputs": [
        {
          "output_type": "execute_result",
          "data": {
            "text/plain": [
              "dtype('float64')"
            ]
          },
          "metadata": {
            "tags": []
          },
          "execution_count": 99
        }
      ]
    },
    {
      "cell_type": "code",
      "metadata": {
        "id": "dFtNF1wyIPos",
        "colab_type": "code",
        "outputId": "7a7e0714-4f9c-4a88-c50d-8996e50c37b1",
        "colab": {
          "base_uri": "https://localhost:8080/",
          "height": 281
        }
      },
      "source": [
        "df.clientTimeAtEmployer.plot(kind='hist',bins=4)"
      ],
      "execution_count": 0,
      "outputs": [
        {
          "output_type": "execute_result",
          "data": {
            "text/plain": [
              "<matplotlib.axes._subplots.AxesSubplot at 0x7f20555e34e0>"
            ]
          },
          "metadata": {
            "tags": []
          },
          "execution_count": 100
        },
        {
          "output_type": "display_data",
          "data": {
            "image/png": "[encoded data removed]",
            "text/plain": [
              "<Figure size 432x288 with 1 Axes>"
            ]
          },
          "metadata": {
            "tags": []
          }
        }
      ]
    },
    {
      "cell_type": "code",
      "metadata": {
        "id": "f5X3hkKDIcRw",
        "colab_type": "code",
        "colab": {}
      },
      "source": [
        "# create a new feature by binning clientTimeAtEmployer based on the year\n",
        "bins=[0,12,24,35,36]\n",
        "group=['one','two','three','more']\n",
        "df['clientTimeAtEmployer_year']=pd.cut(df['clientTimeAtEmployer'],bins,labels=group)\n"
      ],
      "execution_count": 0,
      "outputs": []
    },
    {
      "cell_type": "code",
      "metadata": {
        "id": "1t0xj0XHItFP",
        "colab_type": "code",
        "outputId": "ab0a9f16-e058-4234-e2e3-024a5e973b67",
        "colab": {
          "base_uri": "https://localhost:8080/",
          "height": 33
        }
      },
      "source": [
        "df['clientTimeAtEmployer_year'].dtypes"
      ],
      "execution_count": 0,
      "outputs": [
        {
          "output_type": "execute_result",
          "data": {
            "text/plain": [
              "CategoricalDtype(categories=['one', 'two', 'three', 'more'], ordered=True)"
            ]
          },
          "metadata": {
            "tags": []
          },
          "execution_count": 102
        }
      ]
    },
    {
      "cell_type": "code",
      "metadata": {
        "id": "GqruQZJrIxIh",
        "colab_type": "code",
        "outputId": "51b58de5-ee99-4346-a449-35a698b8683b",
        "colab": {
          "base_uri": "https://localhost:8080/",
          "height": 423
        }
      },
      "source": [
        "num_var=df.select_dtypes('number')\n",
        "num_var.corr()['loanDefault'].sort_values()"
      ],
      "execution_count": 0,
      "outputs": [
        {
          "output_type": "execute_result",
          "data": {
            "text/plain": [
              "loanNumber                  -0.080460\n",
              "reten_measure               -0.075902\n",
              "incomeVerified_encode       -0.049548\n",
              "log_clientIncome            -0.049367\n",
              "clientAge                   -0.048228\n",
              "clientIncome_bin            -0.042590\n",
              "clientAge_bin               -0.042138\n",
              "amount_diff                 -0.036371\n",
              "clientIncome                -0.035201\n",
              "loanIncome_diff             -0.031577\n",
              "clientNumberPhoneContacts   -0.028477\n",
              "clientAvgCallsPerDay        -0.027286\n",
              "loanAmount                  -0.017319\n",
              "clientTimeAtEmployer        -0.005699\n",
              "clientId                     0.002682\n",
              "contactedPerDay              0.006054\n",
              "loanTerm                     0.009177\n",
              "interestRate                 0.079144\n",
              "max_amount_taken             0.100787\n",
              "max_tenor_taken              0.104165\n",
              "firstpaymentRatio            0.565268\n",
              "firstPaymentDefault          0.624008\n",
              "settleDays                   0.626700\n",
              "loanDefault                  1.000000\n",
              "Name: loanDefault, dtype: float64"
            ]
          },
          "metadata": {
            "tags": []
          },
          "execution_count": 103
        }
      ]
    },
    {
      "cell_type": "code",
      "metadata": {
        "id": "yA2pIbx-JBc-",
        "colab_type": "code",
        "outputId": "4707b601-fd16-462d-e051-4f5d4ebd6e4e",
        "colab": {
          "base_uri": "https://localhost:8080/",
          "height": 683
        }
      },
      "source": [
        "df.clientState.value_counts()"
      ],
      "execution_count": 0,
      "outputs": [
        {
          "output_type": "execute_result",
          "data": {
            "text/plain": [
              "LAGOS          60666\n",
              "OGUN           14798\n",
              "ABUJA          13999\n",
              "OYO            12731\n",
              "RIVERS          7829\n",
              "DELTA           5081\n",
              "KWARA           3969\n",
              "OSUN            3816\n",
              "ONDO            3571\n",
              "KADUNA          3496\n",
              "EDO             2663\n",
              "NIGER           2462\n",
              "BENUE           2043\n",
              "EKITI           2023\n",
              "AKWA IBOM       1960\n",
              "KOGI            1896\n",
              "PLATEAU         1715\n",
              "CROSS RIVER     1608\n",
              "NASARAWA        1589\n",
              "ENUGU           1566\n",
              "ANAMBRA         1496\n",
              "ABIA            1426\n",
              "IMO             1287\n",
              "KANO            1233\n",
              "BAYELSA         1179\n",
              "ADAMAWA          569\n",
              "BAUCHI           418\n",
              "SOKOTO           398\n",
              "EBONYI           392\n",
              "TARABA           336\n",
              "KEBBI            279\n",
              "GOMBE            265\n",
              "KATSINA          248\n",
              "ZAMFARA          221\n",
              "BORNO            210\n",
              "YOBE              83\n",
              "JIGAWA            72\n",
              "LAGOS              1\n",
              "Null               1\n",
              "OJO                1\n",
              "Name: clientState, dtype: int64"
            ]
          },
          "metadata": {
            "tags": []
          },
          "execution_count": 104
        }
      ]
    },
    {
      "cell_type": "code",
      "metadata": {
        "id": "boE-PQE4JJ2g",
        "colab_type": "code",
        "colab": {}
      },
      "source": [
        "# remove trailing space and treat mistype inpute\n",
        "df.clientState=(df.clientState.str.strip()\n",
        "                 .replace({'Null':'LAGOS','OJO':'LAGOS'}))"
      ],
      "execution_count": 0,
      "outputs": []
    },
    {
      "cell_type": "code",
      "metadata": {
        "id": "VgFzMh4jJVzl",
        "colab_type": "code",
        "colab": {}
      },
      "source": [
        "# create dictionary for geo-political zones by state\n",
        "dictionary = {'SW':['OGUN','OYO','EKITI','OSUN','ONDO'],'SE':['ANAMBRA','EBONYI','ENUGU','IMO','ABIA'],\n",
        "       'SS':['EDO','RIVERS','DELTA','BAYELSA','AKWA IBOM','CROSS RIVER'],\n",
        "      'NC':['BENUE','ABUJA','KOGI','KWARA','NASARAWA','NIGER','PLATEAU'],'NE':['ADAMAWA','BAUCHI','BORNO','GOMBE','TARABA','YOBE'],\n",
        "      'NW':['JIGAWA','KADUNA','KANO','KATSINA','KEBBI','SOKOTO','ZAMFARA'],'LAGOS':'LAGOS'}"
      ],
      "execution_count": 0,
      "outputs": []
    },
    {
      "cell_type": "code",
      "metadata": {
        "id": "JvxAFwERJZ8W",
        "colab_type": "code",
        "colab": {}
      },
      "source": [
        "# a function to map state into zone\n",
        "def transform_state(x):\n",
        "  if x in dictionary['SW']:return 'SW'\n",
        "  elif x in dictionary['SS']: return 'SS'\n",
        "  elif x in dictionary['SE']: return 'SE'\n",
        "  elif x in dictionary['NC']: return 'NC'\n",
        "  elif x in dictionary['NW']: return 'NW'\n",
        "  elif x in dictionary['NE']: return 'NE'\n",
        "  else: return 'LAGOS'"
      ],
      "execution_count": 0,
      "outputs": []
    },
    {
      "cell_type": "code",
      "metadata": {
        "id": "1QUEkjmbJvDc",
        "colab_type": "code",
        "colab": {}
      },
      "source": [
        "# apply the function\n",
        "df.clientState=df.clientState.apply(transform_state)"
      ],
      "execution_count": 0,
      "outputs": []
    },
    {
      "cell_type": "code",
      "metadata": {
        "id": "aSO1K3X4K50a",
        "colab_type": "code",
        "outputId": "4122e13a-5f8f-4d9e-9cb0-fcb8589e1719",
        "colab": {
          "base_uri": "https://localhost:8080/",
          "height": 147
        }
      },
      "source": [
        "df.clientState.value_counts()"
      ],
      "execution_count": 0,
      "outputs": [
        {
          "output_type": "execute_result",
          "data": {
            "text/plain": [
              "LAGOS    60669\n",
              "SW       36939\n",
              "NC       27673\n",
              "SS       20320\n",
              "SE        6167\n",
              "NW        5947\n",
              "NE        1881\n",
              "Name: clientState, dtype: int64"
            ]
          },
          "metadata": {
            "tags": []
          },
          "execution_count": 123
        }
      ]
    },
    {
      "cell_type": "code",
      "metadata": {
        "id": "3vAjB8hZLDa0",
        "colab_type": "code",
        "colab": {}
      },
      "source": [
        "# label encoding process\n",
        "df['clientState_encode']= df['clientState'].replace({'LAGOS':0,'SW':1,'NC':2,'SS':3,'SE':4,'NW':5,'NE':6})"
      ],
      "execution_count": 0,
      "outputs": []
    },
    {
      "cell_type": "code",
      "metadata": {
        "id": "gL6OD0u1LMHK",
        "colab_type": "code",
        "colab": {}
      },
      "source": [
        "from datetime import datetime"
      ],
      "execution_count": 0,
      "outputs": []
    },
    {
      "cell_type": "code",
      "metadata": {
        "id": "Fb-b1Q9HLgtB",
        "colab_type": "code",
        "colab": {}
      },
      "source": [
        "# change to date data type\n",
        "df['applicationDate'] = pd.to_datetime(df['applicationDate'],errors='coerce')"
      ],
      "execution_count": 0,
      "outputs": []
    },
    {
      "cell_type": "code",
      "metadata": {
        "id": "HEhMLPSFLrcd",
        "colab_type": "code",
        "colab": {}
      },
      "source": [
        "# change others datetime to date\n",
        "date_column = ['approvalDate','disbursementDate','rIdueDate','paidAt','declinedDate']\n",
        "for dt in date_column:\n",
        "  df[dt] = pd.to_datetime(df[dt],errors='coerce')"
      ],
      "execution_count": 0,
      "outputs": []
    },
    {
      "cell_type": "code",
      "metadata": {
        "id": "vQhM9dClPXXv",
        "colab_type": "code",
        "outputId": "b670e6db-376c-422e-a53e-51b535417910",
        "colab": {
          "base_uri": "https://localhost:8080/",
          "height": 82
        }
      },
      "source": [
        "# check for categorical varibale left\n",
        "cat_var=df.select_dtypes(include=['O','category'])\n",
        "cat_var.columns"
      ],
      "execution_count": 0,
      "outputs": [
        {
          "output_type": "execute_result",
          "data": {
            "text/plain": [
              "Index(['incomeVerified', 'clientGender', 'clientMaritalStatus',\n",
              "       'clientLoanPurpose', 'clientResidentialStauts', 'clientState',\n",
              "       'RPdueDate', 'rILoanId', 'repaidDate', 'clientTimeAtEmployer_year'],\n",
              "      dtype='object')"
            ]
          },
          "metadata": {
            "tags": []
          },
          "execution_count": 134
        }
      ]
    },
    {
      "cell_type": "code",
      "metadata": {
        "id": "MzWn_CYZPHcH",
        "colab_type": "code",
        "outputId": "6c8dea51-082f-4e18-f97c-06dae918539e",
        "colab": {
          "base_uri": "https://localhost:8080/",
          "height": 2542
        }
      },
      "source": [
        "plot_bars(df,['incomeVerified', 'clientGender', 'clientMaritalStatus',\n",
        "       'clientLoanPurpose', 'clientResidentialStauts', 'clientState'])"
      ],
      "execution_count": 0,
      "outputs": [
        {
          "output_type": "display_data",
          "data": {
            "image/png": "[encoded data removed]",
            "text/plain": [
              "<Figure size 864x432 with 1 Axes>"
            ]
          },
          "metadata": {
            "tags": []
          }
        },
        {
          "output_type": "display_data",
          "data": {
            "image/png": "[encoded data removed]",
            "text/plain": [
              "<Figure size 864x432 with 1 Axes>"
            ]
          },
          "metadata": {
            "tags": []
          }
        },
        {
          "output_type": "display_data",
          "data": {
            "image/png": "[encoded data removed]",
            "text/plain": [
              "<Figure size 864x432 with 1 Axes>"
            ]
          },
          "metadata": {
            "tags": []
          }
        },
        {
          "output_type": "display_data",
          "data": {
            "image/png": "[encoded data removed]",
            "text/plain": [
              "<Figure size 864x432 with 1 Axes>"
            ]
          },
          "metadata": {
            "tags": []
          }
        },
        {
          "output_type": "display_data",
          "data": {
            "image/png": "[encoded data removed]",
            "text/plain": [
              "<Figure size 864x432 with 1 Axes>"
            ]
          },
          "metadata": {
            "tags": []
          }
        },
        {
          "output_type": "display_data",
          "data": {
            "image/png": "[encoded data removed]",
            "text/plain": [
              "<Figure size 864x432 with 1 Axes>"
            ]
          },
          "metadata": {
            "tags": []
          }
        }
      ]
    },
    {
      "cell_type": "code",
      "metadata": {
        "id": "nU-9l3_iP0qb",
        "colab_type": "code",
        "outputId": "c1f98660-9c00-48a2-ac30-d77649a8e451",
        "colab": {
          "base_uri": "https://localhost:8080/",
          "height": 33
        }
      },
      "source": [
        "# check dtype of date time object\n",
        "df.applicationDate.dtype"
      ],
      "execution_count": 0,
      "outputs": [
        {
          "output_type": "execute_result",
          "data": {
            "text/plain": [
              "dtype('<M8[ns]')"
            ]
          },
          "metadata": {
            "tags": []
          },
          "execution_count": 136
        }
      ]
    },
    {
      "cell_type": "code",
      "metadata": {
        "id": "2MlaF51VQGW3",
        "colab_type": "code",
        "outputId": "1f533f5a-2dca-4d01-c80a-e1b79c0b58d1",
        "colab": {
          "base_uri": "https://localhost:8080/",
          "height": 33
        }
      },
      "source": [
        "df.disbursementDate.dtype"
      ],
      "execution_count": 0,
      "outputs": [
        {
          "output_type": "execute_result",
          "data": {
            "text/plain": [
              "dtype('<M8[ns]')"
            ]
          },
          "metadata": {
            "tags": []
          },
          "execution_count": 137
        }
      ]
    },
    {
      "cell_type": "code",
      "metadata": {
        "id": "W5XDi_K9QNOG",
        "colab_type": "code",
        "outputId": "e4f0a8ff-ac46-4bac-c551-b0eca4402b14",
        "colab": {
          "base_uri": "https://localhost:8080/",
          "height": 700
        }
      },
      "source": [
        "# get number of unique observation\n",
        "df.nunique()"
      ],
      "execution_count": 0,
      "outputs": [
        {
          "output_type": "execute_result",
          "data": {
            "text/plain": [
              "clientId                      91904\n",
              "clientIncome                   9362\n",
              "incomeVerified                    3\n",
              "clientAge                        43\n",
              "clientGender                      2\n",
              "clientMaritalStatus               6\n",
              "clientLoanPurpose                 5\n",
              "clientResidentialStauts           6\n",
              "clientState                       7\n",
              "clientTimeAtEmployer             37\n",
              "clientNumberPhoneContacts      7377\n",
              "clientAvgCallsPerDay         100306\n",
              "loanNumber                       32\n",
              "applicationDate                 316\n",
              "approvalDate                    316\n",
              "declinedDate                      5\n",
              "disbursementDate                305\n",
              "RPdueDate                    157900\n",
              "paidAt                       125481\n",
              "loanAmount                      483\n",
              "interestRate                    133\n",
              "loanTerm                          3\n",
              "max_amount_taken                  2\n",
              "max_tenor_taken                   2\n",
              "rILoanId                     159596\n",
              "repaidDate                   138121\n",
              "rIdueDate                       301\n",
              "settleDays                      419\n",
              "firstpaymentRatio              4875\n",
              "firstPaymentDefault               2\n",
              "loanDefault                       2\n",
              "clientAge_bin                     4\n",
              "loanIncome_diff               12723\n",
              "amount_diff                       2\n",
              "reten_measure                     2\n",
              "log_clientIncome               9362\n",
              "clientIncome_bin                  4\n",
              "incomeVerified_encode             2\n",
              "contactedPerDay              123696\n",
              "clientTimeAtEmployer_year         4\n",
              "clientState_encode                7\n",
              "dtype: int64"
            ]
          },
          "metadata": {
            "tags": []
          },
          "execution_count": 138
        }
      ]
    },
    {
      "cell_type": "code",
      "metadata": {
        "id": "ZIWh55o_QVio",
        "colab_type": "code",
        "outputId": "e1fcd0bf-861b-4bbc-ff49-351736f46459",
        "colab": {
          "base_uri": "https://localhost:8080/",
          "height": 33
        }
      },
      "source": [
        "df.approvalDate.dtype"
      ],
      "execution_count": 0,
      "outputs": [
        {
          "output_type": "execute_result",
          "data": {
            "text/plain": [
              "dtype('<M8[ns]')"
            ]
          },
          "metadata": {
            "tags": []
          },
          "execution_count": 139
        }
      ]
    },
    {
      "cell_type": "code",
      "metadata": {
        "id": "XejeHAxqQhVu",
        "colab_type": "code",
        "outputId": "382c1bfa-27cc-4722-b532-661d8c925060",
        "colab": {
          "base_uri": "https://localhost:8080/",
          "height": 1025
        }
      },
      "source": [
        "#checking if all loan are approved same day as day of application\n",
        "df.applicationDate - df.approvalDate"
      ],
      "execution_count": 0,
      "outputs": [
        {
          "output_type": "execute_result",
          "data": {
            "text/plain": [
              "0        0 days\n",
              "1        0 days\n",
              "2        0 days\n",
              "3        0 days\n",
              "4        0 days\n",
              "5        0 days\n",
              "6        0 days\n",
              "7        0 days\n",
              "8        0 days\n",
              "9        0 days\n",
              "10       0 days\n",
              "11       0 days\n",
              "12       0 days\n",
              "13       0 days\n",
              "14       0 days\n",
              "15       0 days\n",
              "16       0 days\n",
              "17       0 days\n",
              "18       0 days\n",
              "19       0 days\n",
              "20       0 days\n",
              "21       0 days\n",
              "22       0 days\n",
              "23       0 days\n",
              "24       0 days\n",
              "25       0 days\n",
              "26       0 days\n",
              "27       0 days\n",
              "28       0 days\n",
              "29       0 days\n",
              "          ...  \n",
              "159566   0 days\n",
              "159567   0 days\n",
              "159568   0 days\n",
              "159569   0 days\n",
              "159570   0 days\n",
              "159571   0 days\n",
              "159572   0 days\n",
              "159573   0 days\n",
              "159574   0 days\n",
              "159575   0 days\n",
              "159576   0 days\n",
              "159577   0 days\n",
              "159578   0 days\n",
              "159579   0 days\n",
              "159580   0 days\n",
              "159581   0 days\n",
              "159582   0 days\n",
              "159583   0 days\n",
              "159584   0 days\n",
              "159585   0 days\n",
              "159586   0 days\n",
              "159587   0 days\n",
              "159588   0 days\n",
              "159589   0 days\n",
              "159590   0 days\n",
              "159591   0 days\n",
              "159592   0 days\n",
              "159593   0 days\n",
              "159594   0 days\n",
              "159595   0 days\n",
              "Length: 159596, dtype: timedelta64[ns]"
            ]
          },
          "metadata": {
            "tags": []
          },
          "execution_count": 141
        }
      ]
    },
    {
      "cell_type": "code",
      "metadata": {
        "id": "43gcxm_ZQsjQ",
        "colab_type": "code",
        "outputId": "e214fab7-2117-4541-a45e-a9ac6a6b975d",
        "colab": {
          "base_uri": "https://localhost:8080/",
          "height": 272
        }
      },
      "source": [
        "cat_var = df.select_dtypes(include=['O','category'])\n",
        "cat_var.head()"
      ],
      "execution_count": 0,
      "outputs": [
        {
          "output_type": "execute_result",
          "data": {
            "text/html": [
              "<div>\n",
              "<style scoped>\n",
              "    .dataframe tbody tr th:only-of-type {\n",
              "        vertical-align: middle;\n",
              "    }\n",
              "\n",
              "    .dataframe tbody tr th {\n",
              "        vertical-align: top;\n",
              "    }\n",
              "\n",
              "    .dataframe thead th {\n",
              "        text-align: right;\n",
              "    }\n",
              "</style>\n",
              "<table border=\"1\" class=\"dataframe\">\n",
              "  <thead>\n",
              "    <tr style=\"text-align: right;\">\n",
              "      <th></th>\n",
              "      <th>incomeVerified</th>\n",
              "      <th>clientGender</th>\n",
              "      <th>clientMaritalStatus</th>\n",
              "      <th>clientLoanPurpose</th>\n",
              "      <th>clientResidentialStauts</th>\n",
              "      <th>clientState</th>\n",
              "      <th>RPdueDate</th>\n",
              "      <th>rILoanId</th>\n",
              "      <th>repaidDate</th>\n",
              "      <th>clientTimeAtEmployer_year</th>\n",
              "    </tr>\n",
              "  </thead>\n",
              "  <tbody>\n",
              "    <tr>\n",
              "      <th>0</th>\n",
              "      <td>false</td>\n",
              "      <td>FEMALE</td>\n",
              "      <td>Single</td>\n",
              "      <td>business</td>\n",
              "      <td>Rented</td>\n",
              "      <td>NW</td>\n",
              "      <td>2018-09-10 06:35:11 UTC</td>\n",
              "      <td>302039538823</td>\n",
              "      <td>2018-08-01 11:30:31 UTC</td>\n",
              "      <td>one</td>\n",
              "    </tr>\n",
              "    <tr>\n",
              "      <th>1</th>\n",
              "      <td>false</td>\n",
              "      <td>MALE</td>\n",
              "      <td>Single</td>\n",
              "      <td>business</td>\n",
              "      <td>Rented</td>\n",
              "      <td>LAGOS</td>\n",
              "      <td>2018-10-21 07:13:29 UTC</td>\n",
              "      <td>302251936174</td>\n",
              "      <td>2018-09-06 05:34:55 UTC</td>\n",
              "      <td>two</td>\n",
              "    </tr>\n",
              "    <tr>\n",
              "      <th>2</th>\n",
              "      <td>false</td>\n",
              "      <td>MALE</td>\n",
              "      <td>Single</td>\n",
              "      <td>education</td>\n",
              "      <td>Rented</td>\n",
              "      <td>SE</td>\n",
              "      <td>2018-10-23 11:00:00 UTC</td>\n",
              "      <td>302270229003</td>\n",
              "      <td>2018-11-27 01:33:56 UTC</td>\n",
              "      <td>three</td>\n",
              "    </tr>\n",
              "    <tr>\n",
              "      <th>3</th>\n",
              "      <td>false</td>\n",
              "      <td>FEMALE</td>\n",
              "      <td>Married</td>\n",
              "      <td>business</td>\n",
              "      <td>Own Residence</td>\n",
              "      <td>SW</td>\n",
              "      <td>2018-08-18 04:21:05 UTC</td>\n",
              "      <td>301929229685</td>\n",
              "      <td>2018-07-09 06:48:44 UTC</td>\n",
              "      <td>more</td>\n",
              "    </tr>\n",
              "    <tr>\n",
              "      <th>4</th>\n",
              "      <td>false</td>\n",
              "      <td>MALE</td>\n",
              "      <td>Married</td>\n",
              "      <td>medical</td>\n",
              "      <td>Rented</td>\n",
              "      <td>SW</td>\n",
              "      <td>2018-08-01 07:31:40 UTC</td>\n",
              "      <td>301841795739</td>\n",
              "      <td>2018-07-14 02:28:10 UTC</td>\n",
              "      <td>more</td>\n",
              "    </tr>\n",
              "  </tbody>\n",
              "</table>\n",
              "</div>"
            ],
            "text/plain": [
              "  incomeVerified clientGender clientMaritalStatus clientLoanPurpose  \\\n",
              "0          false       FEMALE              Single          business   \n",
              "1          false         MALE              Single          business   \n",
              "2          false         MALE              Single         education   \n",
              "3          false       FEMALE             Married          business   \n",
              "4          false         MALE             Married           medical   \n",
              "\n",
              "  clientResidentialStauts clientState                RPdueDate      rILoanId  \\\n",
              "0                  Rented          NW  2018-09-10 06:35:11 UTC  302039538823   \n",
              "1                  Rented       LAGOS  2018-10-21 07:13:29 UTC  302251936174   \n",
              "2                  Rented          SE  2018-10-23 11:00:00 UTC  302270229003   \n",
              "3           Own Residence          SW  2018-08-18 04:21:05 UTC  301929229685   \n",
              "4                  Rented          SW  2018-08-01 07:31:40 UTC  301841795739   \n",
              "\n",
              "                repaidDate clientTimeAtEmployer_year  \n",
              "0  2018-08-01 11:30:31 UTC                       one  \n",
              "1  2018-09-06 05:34:55 UTC                       two  \n",
              "2  2018-11-27 01:33:56 UTC                     three  \n",
              "3  2018-07-09 06:48:44 UTC                      more  \n",
              "4  2018-07-14 02:28:10 UTC                      more  "
            ]
          },
          "metadata": {
            "tags": []
          },
          "execution_count": 143
        }
      ]
    },
    {
      "cell_type": "code",
      "metadata": {
        "id": "QAuWjRpMRBDT",
        "colab_type": "code",
        "colab": {}
      },
      "source": [
        "# Feature engineering\n",
        "# creating a new feature called deliquency_duration which is the time between dueDate and paidAt date\n",
        "interval=df.rIdueDate - df.paidAt\n",
        "df['deliquency_duration'] = interval.dt.days"
      ],
      "execution_count": 0,
      "outputs": []
    },
    {
      "cell_type": "code",
      "metadata": {
        "id": "WDRPH8vdRQZz",
        "colab_type": "code",
        "outputId": "bcb63d1c-8b30-486e-a7c8-18d81a0e36d5",
        "colab": {
          "base_uri": "https://localhost:8080/",
          "height": 1025
        }
      },
      "source": [
        "df.deliquency_duration"
      ],
      "execution_count": 0,
      "outputs": [
        {
          "output_type": "execute_result",
          "data": {
            "text/plain": [
              "0         -22.0\n",
              "1          15.0\n",
              "2           NaN\n",
              "3           9.0\n",
              "4         -38.0\n",
              "5         -44.0\n",
              "6         -18.0\n",
              "7         -45.0\n",
              "8         -17.0\n",
              "9        -104.0\n",
              "10          NaN\n",
              "11          NaN\n",
              "12        -48.0\n",
              "13         19.0\n",
              "14          NaN\n",
              "15          NaN\n",
              "16       -202.0\n",
              "17       -170.0\n",
              "18        -84.0\n",
              "19       -107.0\n",
              "20          NaN\n",
              "21          NaN\n",
              "22          NaN\n",
              "23        -80.0\n",
              "24         23.0\n",
              "25        -51.0\n",
              "26        -28.0\n",
              "27          NaN\n",
              "28         25.0\n",
              "29        -53.0\n",
              "          ...  \n",
              "159566    -26.0\n",
              "159567    -60.0\n",
              "159568    -29.0\n",
              "159569    -34.0\n",
              "159570   -103.0\n",
              "159571     -4.0\n",
              "159572      1.0\n",
              "159573    -29.0\n",
              "159574      1.0\n",
              "159575    -30.0\n",
              "159576    -29.0\n",
              "159577     -8.0\n",
              "159578      1.0\n",
              "159579    -56.0\n",
              "159580      1.0\n",
              "159581      NaN\n",
              "159582      1.0\n",
              "159583    -35.0\n",
              "159584    -60.0\n",
              "159585      NaN\n",
              "159586    -64.0\n",
              "159587    -10.0\n",
              "159588      1.0\n",
              "159589      1.0\n",
              "159590    -47.0\n",
              "159591      NaN\n",
              "159592    -60.0\n",
              "159593   -150.0\n",
              "159594    -35.0\n",
              "159595    -32.0\n",
              "Name: deliquency_duration, Length: 159596, dtype: float64"
            ]
          },
          "metadata": {
            "tags": []
          },
          "execution_count": 146
        }
      ]
    },
    {
      "cell_type": "code",
      "metadata": {
        "id": "yc9kyXYvRYwZ",
        "colab_type": "code",
        "colab": {}
      },
      "source": [
        "#  change any non-value which implies that client defualt with a duration of 360\n",
        "df.deliquency_duration.fillna(360,inplace=True)"
      ],
      "execution_count": 0,
      "outputs": []
    },
    {
      "cell_type": "code",
      "metadata": {
        "id": "V4wMFBiyRhe1",
        "colab_type": "code",
        "outputId": "66403487-c0c0-45e9-f5cd-414c8a700e3a",
        "colab": {
          "base_uri": "https://localhost:8080/",
          "height": 147
        }
      },
      "source": [
        "num_var.columns"
      ],
      "execution_count": 0,
      "outputs": [
        {
          "output_type": "execute_result",
          "data": {
            "text/plain": [
              "Index(['clientId', 'clientIncome', 'clientAge', 'clientTimeAtEmployer',\n",
              "       'clientNumberPhoneContacts', 'clientAvgCallsPerDay', 'loanNumber',\n",
              "       'loanAmount', 'interestRate', 'loanTerm', 'max_amount_taken',\n",
              "       'max_tenor_taken', 'settleDays', 'firstpaymentRatio',\n",
              "       'firstPaymentDefault', 'loanDefault', 'clientAge_bin',\n",
              "       'loanIncome_diff', 'amount_diff', 'reten_measure', 'log_clientIncome',\n",
              "       'clientIncome_bin', 'incomeVerified_encode', 'contactedPerDay'],\n",
              "      dtype='object')"
            ]
          },
          "metadata": {
            "tags": []
          },
          "execution_count": 148
        }
      ]
    },
    {
      "cell_type": "code",
      "metadata": {
        "id": "NBvhyGwQRt-A",
        "colab_type": "code",
        "colab": {}
      },
      "source": [
        "# Creating a new feature\n",
        "df['intstall_paymnt']=(df['loanAmount']/df['loanTerm'])*1000"
      ],
      "execution_count": 0,
      "outputs": []
    },
    {
      "cell_type": "code",
      "metadata": {
        "id": "_5q6WvulSOj2",
        "colab_type": "code",
        "colab": {}
      },
      "source": [
        "#feature creation\n",
        "df['BalanceIncome']=df['clientIncome']-(df['intstall_paymnt'])"
      ],
      "execution_count": 0,
      "outputs": []
    },
    {
      "cell_type": "code",
      "metadata": {
        "id": "ah6v5f3OSnTs",
        "colab_type": "code",
        "outputId": "631e3b75-86df-496c-b7b5-f18af3f22d07",
        "colab": {
          "base_uri": "https://localhost:8080/",
          "height": 488
        }
      },
      "source": [
        "num_var=df.select_dtypes('number')\n",
        "num_var.corr()['loanDefault'].sort_values()"
      ],
      "execution_count": 0,
      "outputs": [
        {
          "output_type": "execute_result",
          "data": {
            "text/plain": [
              "loanNumber                  -0.080460\n",
              "reten_measure               -0.075902\n",
              "incomeVerified_encode       -0.049548\n",
              "log_clientIncome            -0.049367\n",
              "clientAge                   -0.048228\n",
              "intstall_paymnt             -0.045617\n",
              "clientIncome_bin            -0.042590\n",
              "clientAge_bin               -0.042138\n",
              "amount_diff                 -0.036371\n",
              "clientIncome                -0.035201\n",
              "loanIncome_diff             -0.031577\n",
              "clientNumberPhoneContacts   -0.028477\n",
              "clientAvgCallsPerDay        -0.027286\n",
              "loanAmount                  -0.017319\n",
              "clientTimeAtEmployer        -0.005699\n",
              "clientId                     0.002682\n",
              "contactedPerDay              0.006054\n",
              "loanTerm                     0.009177\n",
              "clientState_encode           0.010520\n",
              "BalanceIncome                0.029169\n",
              "interestRate                 0.079144\n",
              "max_amount_taken             0.100787\n",
              "max_tenor_taken              0.104165\n",
              "firstpaymentRatio            0.565268\n",
              "firstPaymentDefault          0.624008\n",
              "settleDays                   0.626700\n",
              "deliquency_duration          0.679552\n",
              "loanDefault                  1.000000\n",
              "Name: loanDefault, dtype: float64"
            ]
          },
          "metadata": {
            "tags": []
          },
          "execution_count": 152
        }
      ]
    },
    {
      "cell_type": "code",
      "metadata": {
        "id": "lASSN42iSzMX",
        "colab_type": "code",
        "outputId": "dc119960-8b9d-49af-a474-ed9313cee8e5",
        "colab": {
          "base_uri": "https://localhost:8080/",
          "height": 131
        }
      },
      "source": [
        "# check for distribution in marital status\n",
        "df.clientMaritalStatus.value_counts()"
      ],
      "execution_count": 0,
      "outputs": [
        {
          "output_type": "execute_result",
          "data": {
            "text/plain": [
              "Married      85492\n",
              "Single       71361\n",
              "Separated     1795\n",
              "Widowed        939\n",
              "Null             6\n",
              "Divorced         3\n",
              "Name: clientMaritalStatus, dtype: int64"
            ]
          },
          "metadata": {
            "tags": []
          },
          "execution_count": 153
        }
      ]
    },
    {
      "cell_type": "code",
      "metadata": {
        "id": "H4ANlO0tS9QW",
        "colab_type": "code",
        "outputId": "77d2eefb-0790-400c-e9b3-b8a057251a98",
        "colab": {
          "base_uri": "https://localhost:8080/",
          "height": 50
        }
      },
      "source": [
        "df.clientMaritalStatus.unique()"
      ],
      "execution_count": 0,
      "outputs": [
        {
          "output_type": "execute_result",
          "data": {
            "text/plain": [
              "array(['Single', 'Married', 'Separated', 'Widowed', 'Divorced', 'Null'],\n",
              "      dtype=object)"
            ]
          },
          "metadata": {
            "tags": []
          },
          "execution_count": 154
        }
      ]
    },
    {
      "cell_type": "code",
      "metadata": {
        "id": "QrgZX-rkTB9F",
        "colab_type": "code",
        "outputId": "dd73f42c-0248-40e9-908d-00dec667e06f",
        "colab": {
          "base_uri": "https://localhost:8080/",
          "height": 50
        }
      },
      "source": [
        "df.clientMaritalStatus.mode()"
      ],
      "execution_count": 0,
      "outputs": [
        {
          "output_type": "execute_result",
          "data": {
            "text/plain": [
              "0    Married\n",
              "dtype: object"
            ]
          },
          "metadata": {
            "tags": []
          },
          "execution_count": 155
        }
      ]
    },
    {
      "cell_type": "code",
      "metadata": {
        "id": "Ts6wxp_6TPs8",
        "colab_type": "code",
        "colab": {}
      },
      "source": [
        "# replace null value with modal value which is 'Married'\n",
        "df.clientMaritalStatus.replace('Null','Married',inplace=True)\n"
      ],
      "execution_count": 0,
      "outputs": []
    },
    {
      "cell_type": "code",
      "metadata": {
        "id": "sLEzwCavTWwI",
        "colab_type": "code",
        "outputId": "1b1aa378-17f1-4611-d7f1-6bac6b1d1b0e",
        "colab": {
          "base_uri": "https://localhost:8080/",
          "height": 115
        }
      },
      "source": [
        "df.clientMaritalStatus.value_counts()"
      ],
      "execution_count": 0,
      "outputs": [
        {
          "output_type": "execute_result",
          "data": {
            "text/plain": [
              "Married      85498\n",
              "Single       71361\n",
              "Separated     1795\n",
              "Widowed        939\n",
              "Divorced         3\n",
              "Name: clientMaritalStatus, dtype: int64"
            ]
          },
          "metadata": {
            "tags": []
          },
          "execution_count": 157
        }
      ]
    },
    {
      "cell_type": "code",
      "metadata": {
        "id": "Htw7pHUwTeSm",
        "colab_type": "code",
        "colab": {}
      },
      "source": [
        "# let transform others marital status except married to one group\n",
        "df[\"marital_status_decode\"] = 'Married'\n",
        "df.loc[df[\"clientMaritalStatus\"]!='Married' ,\"marital_status_decode\"] = 'others'"
      ],
      "execution_count": 0,
      "outputs": []
    },
    {
      "cell_type": "code",
      "metadata": {
        "id": "GAIV7n8CTr7p",
        "colab_type": "code",
        "outputId": "a7d2dfb8-eac0-4d6b-8f69-dedf696c4ff4",
        "colab": {
          "base_uri": "https://localhost:8080/",
          "height": 66
        }
      },
      "source": [
        "df[\"marital_status_decode\"].value_counts()"
      ],
      "execution_count": 0,
      "outputs": [
        {
          "output_type": "execute_result",
          "data": {
            "text/plain": [
              "Married    85498\n",
              "others     74098\n",
              "Name: marital_status_decode, dtype: int64"
            ]
          },
          "metadata": {
            "tags": []
          },
          "execution_count": 160
        }
      ]
    },
    {
      "cell_type": "code",
      "metadata": {
        "id": "bHhnU1TlTyJg",
        "colab_type": "code",
        "outputId": "86f1aa3d-a487-4f1a-dff0-f1a7fecc1d3e",
        "colab": {
          "base_uri": "https://localhost:8080/",
          "height": 131
        }
      },
      "source": [
        "df.clientResidentialStauts.value_counts()"
      ],
      "execution_count": 0,
      "outputs": [
        {
          "output_type": "execute_result",
          "data": {
            "text/plain": [
              "Rented               100534\n",
              "Own Residence         26406\n",
              "Family Owned          25668\n",
              "Employer Provided      5589\n",
              "Null                   1136\n",
              "Temp. Residence         263\n",
              "Name: clientResidentialStauts, dtype: int64"
            ]
          },
          "metadata": {
            "tags": []
          },
          "execution_count": 161
        }
      ]
    },
    {
      "cell_type": "code",
      "metadata": {
        "id": "sWZCIp1CUGfw",
        "colab_type": "code",
        "outputId": "c6d890ce-b00c-4710-ef34-febb6b7498cf",
        "colab": {
          "base_uri": "https://localhost:8080/",
          "height": 215
        }
      },
      "source": [
        "# get a descriptive summary of object type and categorical \n",
        "df.describe(include=['O','category'])"
      ],
      "execution_count": 0,
      "outputs": [
        {
          "output_type": "execute_result",
          "data": {
            "text/html": [
              "<div>\n",
              "<style scoped>\n",
              "    .dataframe tbody tr th:only-of-type {\n",
              "        vertical-align: middle;\n",
              "    }\n",
              "\n",
              "    .dataframe tbody tr th {\n",
              "        vertical-align: top;\n",
              "    }\n",
              "\n",
              "    .dataframe thead th {\n",
              "        text-align: right;\n",
              "    }\n",
              "</style>\n",
              "<table border=\"1\" class=\"dataframe\">\n",
              "  <thead>\n",
              "    <tr style=\"text-align: right;\">\n",
              "      <th></th>\n",
              "      <th>incomeVerified</th>\n",
              "      <th>clientGender</th>\n",
              "      <th>clientMaritalStatus</th>\n",
              "      <th>clientLoanPurpose</th>\n",
              "      <th>clientResidentialStauts</th>\n",
              "      <th>clientState</th>\n",
              "      <th>RPdueDate</th>\n",
              "      <th>rILoanId</th>\n",
              "      <th>repaidDate</th>\n",
              "      <th>clientTimeAtEmployer_year</th>\n",
              "      <th>marital_status_decode</th>\n",
              "    </tr>\n",
              "  </thead>\n",
              "  <tbody>\n",
              "    <tr>\n",
              "      <th>count</th>\n",
              "      <td>159596</td>\n",
              "      <td>159596</td>\n",
              "      <td>159596</td>\n",
              "      <td>159596</td>\n",
              "      <td>159596</td>\n",
              "      <td>159596</td>\n",
              "      <td>159596</td>\n",
              "      <td>159596</td>\n",
              "      <td>159596</td>\n",
              "      <td>152025</td>\n",
              "      <td>159596</td>\n",
              "    </tr>\n",
              "    <tr>\n",
              "      <th>unique</th>\n",
              "      <td>3</td>\n",
              "      <td>2</td>\n",
              "      <td>5</td>\n",
              "      <td>5</td>\n",
              "      <td>6</td>\n",
              "      <td>7</td>\n",
              "      <td>157900</td>\n",
              "      <td>159596</td>\n",
              "      <td>138121</td>\n",
              "      <td>4</td>\n",
              "      <td>2</td>\n",
              "    </tr>\n",
              "    <tr>\n",
              "      <th>top</th>\n",
              "      <td>false</td>\n",
              "      <td>MALE</td>\n",
              "      <td>Married</td>\n",
              "      <td>business</td>\n",
              "      <td>Rented</td>\n",
              "      <td>LAGOS</td>\n",
              "      <td>2018-10-23 11:00:00 UTC</td>\n",
              "      <td>302499578641</td>\n",
              "      <td>Null</td>\n",
              "      <td>more</td>\n",
              "      <td>Married</td>\n",
              "    </tr>\n",
              "    <tr>\n",
              "      <th>freq</th>\n",
              "      <td>133286</td>\n",
              "      <td>109666</td>\n",
              "      <td>85498</td>\n",
              "      <td>78976</td>\n",
              "      <td>100534</td>\n",
              "      <td>60669</td>\n",
              "      <td>95</td>\n",
              "      <td>1</td>\n",
              "      <td>19471</td>\n",
              "      <td>87294</td>\n",
              "      <td>85498</td>\n",
              "    </tr>\n",
              "  </tbody>\n",
              "</table>\n",
              "</div>"
            ],
            "text/plain": [
              "       incomeVerified clientGender clientMaritalStatus clientLoanPurpose  \\\n",
              "count          159596       159596              159596            159596   \n",
              "unique              3            2                   5                 5   \n",
              "top             false         MALE             Married          business   \n",
              "freq           133286       109666               85498             78976   \n",
              "\n",
              "       clientResidentialStauts clientState                RPdueDate  \\\n",
              "count                   159596      159596                   159596   \n",
              "unique                       6           7                   157900   \n",
              "top                     Rented       LAGOS  2018-10-23 11:00:00 UTC   \n",
              "freq                    100534       60669                       95   \n",
              "\n",
              "            rILoanId repaidDate clientTimeAtEmployer_year  \\\n",
              "count         159596     159596                    152025   \n",
              "unique        159596     138121                         4   \n",
              "top     302499578641       Null                      more   \n",
              "freq               1      19471                     87294   \n",
              "\n",
              "       marital_status_decode  \n",
              "count                 159596  \n",
              "unique                     2  \n",
              "top                  Married  \n",
              "freq                   85498  "
            ]
          },
          "metadata": {
            "tags": []
          },
          "execution_count": 162
        }
      ]
    },
    {
      "cell_type": "code",
      "metadata": {
        "id": "akidGqi2Ud9U",
        "colab_type": "code",
        "outputId": "9106eb50-55d1-4c21-8293-ac2e3ece60f2",
        "colab": {
          "base_uri": "https://localhost:8080/",
          "height": 33
        }
      },
      "source": [
        "df.clientResidentialStauts.dtype"
      ],
      "execution_count": 0,
      "outputs": [
        {
          "output_type": "execute_result",
          "data": {
            "text/plain": [
              "dtype('O')"
            ]
          },
          "metadata": {
            "tags": []
          },
          "execution_count": 163
        }
      ]
    },
    {
      "cell_type": "code",
      "metadata": {
        "id": "-ARBj_mvUpvI",
        "colab_type": "code",
        "outputId": "f8cdb2de-e5ad-4c35-8ce9-b4363fbf588d",
        "colab": {
          "base_uri": "https://localhost:8080/",
          "height": 98
        }
      },
      "source": [
        "df.select_dtypes(include=['O','category']).columns"
      ],
      "execution_count": 0,
      "outputs": [
        {
          "output_type": "execute_result",
          "data": {
            "text/plain": [
              "Index(['incomeVerified', 'clientGender', 'clientMaritalStatus',\n",
              "       'clientLoanPurpose', 'clientResidentialStauts', 'clientState',\n",
              "       'RPdueDate', 'rILoanId', 'repaidDate', 'clientTimeAtEmployer_year',\n",
              "       'marital_status_decode'],\n",
              "      dtype='object')"
            ]
          },
          "metadata": {
            "tags": []
          },
          "execution_count": 164
        }
      ]
    },
    {
      "cell_type": "code",
      "metadata": {
        "id": "ZzZaBfiwUx6B",
        "colab_type": "code",
        "outputId": "92f6b45f-0989-4c71-df25-3b790a255fef",
        "colab": {
          "base_uri": "https://localhost:8080/",
          "height": 98
        }
      },
      "source": [
        "cat_var = df.select_dtypes(include=['O','category'])\n",
        "cat_var.columns"
      ],
      "execution_count": 0,
      "outputs": [
        {
          "output_type": "execute_result",
          "data": {
            "text/plain": [
              "Index(['incomeVerified', 'clientGender', 'clientMaritalStatus',\n",
              "       'clientLoanPurpose', 'clientResidentialStauts', 'clientState',\n",
              "       'RPdueDate', 'rILoanId', 'repaidDate', 'clientTimeAtEmployer_year',\n",
              "       'marital_status_decode'],\n",
              "      dtype='object')"
            ]
          },
          "metadata": {
            "tags": []
          },
          "execution_count": 165
        }
      ]
    },
    {
      "cell_type": "code",
      "metadata": {
        "id": "kfDgOqxDVOjd",
        "colab_type": "code",
        "outputId": "bd93bc79-a384-41a8-8244-4e7acad27137",
        "colab": {
          "base_uri": "https://localhost:8080/",
          "height": 180
        }
      },
      "source": [
        "num_var.columns"
      ],
      "execution_count": 0,
      "outputs": [
        {
          "output_type": "execute_result",
          "data": {
            "text/plain": [
              "Index(['clientId', 'clientIncome', 'clientAge', 'clientTimeAtEmployer',\n",
              "       'clientNumberPhoneContacts', 'clientAvgCallsPerDay', 'loanNumber',\n",
              "       'loanAmount', 'interestRate', 'loanTerm', 'max_amount_taken',\n",
              "       'max_tenor_taken', 'settleDays', 'firstpaymentRatio',\n",
              "       'firstPaymentDefault', 'loanDefault', 'clientAge_bin',\n",
              "       'loanIncome_diff', 'amount_diff', 'reten_measure', 'log_clientIncome',\n",
              "       'clientIncome_bin', 'incomeVerified_encode', 'contactedPerDay',\n",
              "       'clientState_encode', 'deliquency_duration', 'intstall_paymnt',\n",
              "       'BalanceIncome'],\n",
              "      dtype='object')"
            ]
          },
          "metadata": {
            "tags": []
          },
          "execution_count": 167
        }
      ]
    },
    {
      "cell_type": "code",
      "metadata": {
        "id": "vm_3sAU8VY_j",
        "colab_type": "code",
        "outputId": "73a3aa0c-173e-46bb-8351-5c4231a7cf75",
        "colab": {
          "base_uri": "https://localhost:8080/",
          "height": 488
        }
      },
      "source": [
        "# Find all correlations and sort \n",
        "correlations_data = df.corr()['loanDefault'].sort_values()\n",
        "\n",
        "\n",
        "print(correlations_data)\n"
      ],
      "execution_count": 0,
      "outputs": [
        {
          "output_type": "stream",
          "text": [
            "loanNumber                  -0.080460\n",
            "reten_measure               -0.075902\n",
            "incomeVerified_encode       -0.049548\n",
            "log_clientIncome            -0.049367\n",
            "clientAge                   -0.048228\n",
            "intstall_paymnt             -0.045617\n",
            "clientIncome_bin            -0.042590\n",
            "clientAge_bin               -0.042138\n",
            "amount_diff                 -0.036371\n",
            "clientIncome                -0.035201\n",
            "loanIncome_diff             -0.031577\n",
            "clientNumberPhoneContacts   -0.028477\n",
            "clientAvgCallsPerDay        -0.027286\n",
            "loanAmount                  -0.017319\n",
            "clientTimeAtEmployer        -0.005699\n",
            "clientId                     0.002682\n",
            "contactedPerDay              0.006054\n",
            "loanTerm                     0.009177\n",
            "clientState_encode           0.010520\n",
            "BalanceIncome                0.029169\n",
            "interestRate                 0.079144\n",
            "max_amount_taken             0.100787\n",
            "max_tenor_taken              0.104165\n",
            "firstpaymentRatio            0.565268\n",
            "firstPaymentDefault          0.624008\n",
            "settleDays                   0.626700\n",
            "deliquency_duration          0.679552\n",
            "loanDefault                  1.000000\n",
            "Name: loanDefault, dtype: float64\n"
          ],
          "name": "stdout"
        }
      ]
    },
    {
      "cell_type": "code",
      "metadata": {
        "id": "x6BD1JKjVl9r",
        "colab_type": "code",
        "outputId": "5936cc3a-10a5-435a-ff8a-abce218b9b83",
        "colab": {
          "base_uri": "https://localhost:8080/",
          "height": 180
        }
      },
      "source": [
        "# Select the numeric columns\n",
        "numeric_subset = df.select_dtypes('number')\n",
        "\n",
        "# Create columns with log of numeric columns\n",
        "for col in numeric_subset.columns:\n",
        "    # Skip the Energy Star Score column\n",
        "    if col == 'loanDefault':\n",
        "        next\n",
        "    else:\n",
        "        numeric_subset['log_' + col] = np.log(numeric_subset[col])\n",
        "        \n"
      ],
      "execution_count": 0,
      "outputs": [
        {
          "output_type": "stream",
          "text": [
            "/usr/local/lib/python3.6/dist-packages/ipykernel_launcher.py:9: SettingWithCopyWarning: \n",
            "A value is trying to be set on a copy of a slice from a DataFrame.\n",
            "Try using .loc[row_indexer,col_indexer] = value instead\n",
            "\n",
            "See the caveats in the documentation: http://pandas.pydata.org/pandas-docs/stable/indexing.html#indexing-view-versus-copy\n",
            "  if __name__ == '__main__':\n",
            "/usr/local/lib/python3.6/dist-packages/ipykernel_launcher.py:9: RuntimeWarning: divide by zero encountered in log\n",
            "  if __name__ == '__main__':\n",
            "/usr/local/lib/python3.6/dist-packages/ipykernel_launcher.py:9: RuntimeWarning: invalid value encountered in log\n",
            "  if __name__ == '__main__':\n"
          ],
          "name": "stderr"
        }
      ]
    },
    {
      "cell_type": "code",
      "metadata": {
        "id": "rv2ISVarVyaJ",
        "colab_type": "code",
        "outputId": "2c7d529f-643f-466e-bebd-f6ab82e11b67",
        "colab": {
          "base_uri": "https://localhost:8080/",
          "height": 911
        }
      },
      "source": [
        "# Find all correlations and sort \n",
        "corr_num = numeric_subset.corr()['loanDefault'].sort_values()\n",
        "\n",
        "\n",
        "print(corr_num)"
      ],
      "execution_count": 0,
      "outputs": [
        {
          "output_type": "stream",
          "text": [
            "loanNumber                      -0.080460\n",
            "reten_measure                   -0.075902\n",
            "log_loanNumber                  -0.069431\n",
            "log_clientAge                   -0.053085\n",
            "log_log_clientIncome            -0.049881\n",
            "incomeVerified_encode           -0.049548\n",
            "log_clientIncome                -0.049367\n",
            "clientAge                       -0.048228\n",
            "intstall_paymnt                 -0.045617\n",
            "log_intstall_paymnt             -0.043000\n",
            "clientIncome_bin                -0.042590\n",
            "clientAge_bin                   -0.042138\n",
            "log_clientAvgCallsPerDay        -0.038175\n",
            "amount_diff                     -0.036371\n",
            "log_clientState_encode          -0.036343\n",
            "log_clientNumberPhoneContacts   -0.036292\n",
            "clientIncome                    -0.035201\n",
            "log_loanIncome_diff             -0.035142\n",
            "loanIncome_diff                 -0.031577\n",
            "clientNumberPhoneContacts       -0.028477\n",
            "clientAvgCallsPerDay            -0.027286\n",
            "log_loanAmount                  -0.021814\n",
            "log_clientIncome_bin            -0.020768\n",
            "loanAmount                      -0.017319\n",
            "log_contactedPerDay             -0.012371\n",
            "clientTimeAtEmployer            -0.005699\n",
            "log_clientAge_bin               -0.000388\n",
            "log_clientId                     0.000969\n",
            "clientId                         0.002682\n",
            "contactedPerDay                  0.006054\n",
            "log_clientTimeAtEmployer         0.008525\n",
            "log_loanTerm                     0.008770\n",
            "loanTerm                         0.009177\n",
            "clientState_encode               0.010520\n",
            "BalanceIncome                    0.029169\n",
            "log_BalanceIncome                0.040166\n",
            "log_interestRate                 0.069271\n",
            "interestRate                     0.079144\n",
            "max_amount_taken                 0.100787\n",
            "max_tenor_taken                  0.104165\n",
            "firstpaymentRatio                0.565268\n",
            "firstPaymentDefault              0.624008\n",
            "settleDays                       0.626700\n",
            "log_settleDays                   0.641947\n",
            "deliquency_duration              0.679552\n",
            "log_deliquency_duration          0.947438\n",
            "loanDefault                      1.000000\n",
            "log_max_amount_taken                  NaN\n",
            "log_max_tenor_taken                   NaN\n",
            "log_firstpaymentRatio                 NaN\n",
            "log_firstPaymentDefault               NaN\n",
            "log_amount_diff                       NaN\n",
            "log_reten_measure                     NaN\n",
            "log_incomeVerified_encode             NaN\n",
            "Name: loanDefault, dtype: float64\n"
          ],
          "name": "stdout"
        }
      ]
    },
    {
      "cell_type": "code",
      "metadata": {
        "id": "sqNlKJpRV5-t",
        "colab_type": "code",
        "outputId": "887ddf70-8fd2-468f-af37-e52c778b2d29",
        "colab": {
          "base_uri": "https://localhost:8080/",
          "height": 33
        }
      },
      "source": [
        "# Dropping any column with all na values\n",
        "numeric_subset  = numeric_subset.dropna(axis=1, how = 'all')\n",
        "numeric_subset.shape"
      ],
      "execution_count": 0,
      "outputs": [
        {
          "output_type": "execute_result",
          "data": {
            "text/plain": [
              "(159596, 54)"
            ]
          },
          "metadata": {
            "tags": []
          },
          "execution_count": 171
        }
      ]
    },
    {
      "cell_type": "code",
      "metadata": {
        "id": "VzjWgswFWSe6",
        "colab_type": "code",
        "outputId": "9e8fb654-cafb-435f-89b8-3635e25c964a",
        "colab": {
          "base_uri": "https://localhost:8080/",
          "height": 1647
        }
      },
      "source": [
        "# get correlation between variables and set those less than 0.025 to 0  \n",
        "c_corr=numeric_subset.corr().applymap(lambda x: x if abs(x)>0.025 else 0)\n",
        "c_corr"
      ],
      "execution_count": 0,
      "outputs": [
        {
          "output_type": "execute_result",
          "data": {
            "text/html": [
              "<div>\n",
              "<style scoped>\n",
              "    .dataframe tbody tr th:only-of-type {\n",
              "        vertical-align: middle;\n",
              "    }\n",
              "\n",
              "    .dataframe tbody tr th {\n",
              "        vertical-align: top;\n",
              "    }\n",
              "\n",
              "    .dataframe thead th {\n",
              "        text-align: right;\n",
              "    }\n",
              "</style>\n",
              "<table border=\"1\" class=\"dataframe\">\n",
              "  <thead>\n",
              "    <tr style=\"text-align: right;\">\n",
              "      <th></th>\n",
              "      <th>clientId</th>\n",
              "      <th>clientIncome</th>\n",
              "      <th>clientAge</th>\n",
              "      <th>clientTimeAtEmployer</th>\n",
              "      <th>clientNumberPhoneContacts</th>\n",
              "      <th>clientAvgCallsPerDay</th>\n",
              "      <th>loanNumber</th>\n",
              "      <th>loanAmount</th>\n",
              "      <th>interestRate</th>\n",
              "      <th>loanTerm</th>\n",
              "      <th>...</th>\n",
              "      <th>log_amount_diff</th>\n",
              "      <th>log_reten_measure</th>\n",
              "      <th>log_log_clientIncome</th>\n",
              "      <th>log_clientIncome_bin</th>\n",
              "      <th>log_incomeVerified_encode</th>\n",
              "      <th>log_contactedPerDay</th>\n",
              "      <th>log_clientState_encode</th>\n",
              "      <th>log_deliquency_duration</th>\n",
              "      <th>log_intstall_paymnt</th>\n",
              "      <th>log_BalanceIncome</th>\n",
              "    </tr>\n",
              "  </thead>\n",
              "  <tbody>\n",
              "    <tr>\n",
              "      <th>clientId</th>\n",
              "      <td>1.000000</td>\n",
              "      <td>0.000000</td>\n",
              "      <td>0.000000</td>\n",
              "      <td>0.000000</td>\n",
              "      <td>0.000000</td>\n",
              "      <td>0.000000</td>\n",
              "      <td>0.000000</td>\n",
              "      <td>0.000000</td>\n",
              "      <td>0.000000</td>\n",
              "      <td>0.000000</td>\n",
              "      <td>...</td>\n",
              "      <td>0</td>\n",
              "      <td>0</td>\n",
              "      <td>0.000000</td>\n",
              "      <td>0.000000</td>\n",
              "      <td>0</td>\n",
              "      <td>0.000000</td>\n",
              "      <td>0.000000</td>\n",
              "      <td>0.000000</td>\n",
              "      <td>0.000000</td>\n",
              "      <td>0.000000</td>\n",
              "    </tr>\n",
              "    <tr>\n",
              "      <th>clientIncome</th>\n",
              "      <td>0.000000</td>\n",
              "      <td>1.000000</td>\n",
              "      <td>0.174696</td>\n",
              "      <td>0.125280</td>\n",
              "      <td>0.049122</td>\n",
              "      <td>0.063294</td>\n",
              "      <td>0.000000</td>\n",
              "      <td>0.287372</td>\n",
              "      <td>-0.127846</td>\n",
              "      <td>0.073712</td>\n",
              "      <td>...</td>\n",
              "      <td>0</td>\n",
              "      <td>0</td>\n",
              "      <td>0.828855</td>\n",
              "      <td>0.845663</td>\n",
              "      <td>0</td>\n",
              "      <td>0.048673</td>\n",
              "      <td>0.025928</td>\n",
              "      <td>-0.057763</td>\n",
              "      <td>0.318678</td>\n",
              "      <td>0.455612</td>\n",
              "    </tr>\n",
              "    <tr>\n",
              "      <th>clientAge</th>\n",
              "      <td>0.000000</td>\n",
              "      <td>0.174696</td>\n",
              "      <td>1.000000</td>\n",
              "      <td>0.339582</td>\n",
              "      <td>0.079686</td>\n",
              "      <td>-0.095028</td>\n",
              "      <td>-0.046518</td>\n",
              "      <td>0.146243</td>\n",
              "      <td>-0.160300</td>\n",
              "      <td>0.073489</td>\n",
              "      <td>...</td>\n",
              "      <td>0</td>\n",
              "      <td>0</td>\n",
              "      <td>0.223868</td>\n",
              "      <td>0.102829</td>\n",
              "      <td>0</td>\n",
              "      <td>-0.162331</td>\n",
              "      <td>-0.045693</td>\n",
              "      <td>0.000000</td>\n",
              "      <td>0.198091</td>\n",
              "      <td>-0.092608</td>\n",
              "    </tr>\n",
              "    <tr>\n",
              "      <th>clientTimeAtEmployer</th>\n",
              "      <td>0.000000</td>\n",
              "      <td>0.125280</td>\n",
              "      <td>0.339582</td>\n",
              "      <td>1.000000</td>\n",
              "      <td>0.034022</td>\n",
              "      <td>-0.077688</td>\n",
              "      <td>-0.042551</td>\n",
              "      <td>0.080959</td>\n",
              "      <td>-0.092005</td>\n",
              "      <td>0.044473</td>\n",
              "      <td>...</td>\n",
              "      <td>0</td>\n",
              "      <td>0</td>\n",
              "      <td>0.172744</td>\n",
              "      <td>0.061954</td>\n",
              "      <td>0</td>\n",
              "      <td>-0.109962</td>\n",
              "      <td>-0.051322</td>\n",
              "      <td>0.000000</td>\n",
              "      <td>0.114812</td>\n",
              "      <td>0.000000</td>\n",
              "    </tr>\n",
              "    <tr>\n",
              "      <th>clientNumberPhoneContacts</th>\n",
              "      <td>0.000000</td>\n",
              "      <td>0.049122</td>\n",
              "      <td>0.079686</td>\n",
              "      <td>0.034022</td>\n",
              "      <td>1.000000</td>\n",
              "      <td>0.261702</td>\n",
              "      <td>0.126658</td>\n",
              "      <td>0.157566</td>\n",
              "      <td>-0.183935</td>\n",
              "      <td>0.143265</td>\n",
              "      <td>...</td>\n",
              "      <td>0</td>\n",
              "      <td>0</td>\n",
              "      <td>0.044558</td>\n",
              "      <td>0.053907</td>\n",
              "      <td>0</td>\n",
              "      <td>-0.293491</td>\n",
              "      <td>0.000000</td>\n",
              "      <td>0.000000</td>\n",
              "      <td>0.104646</td>\n",
              "      <td>0.000000</td>\n",
              "    </tr>\n",
              "    <tr>\n",
              "      <th>clientAvgCallsPerDay</th>\n",
              "      <td>0.000000</td>\n",
              "      <td>0.063294</td>\n",
              "      <td>-0.095028</td>\n",
              "      <td>-0.077688</td>\n",
              "      <td>0.261702</td>\n",
              "      <td>1.000000</td>\n",
              "      <td>0.067146</td>\n",
              "      <td>0.087068</td>\n",
              "      <td>-0.088065</td>\n",
              "      <td>0.064188</td>\n",
              "      <td>...</td>\n",
              "      <td>0</td>\n",
              "      <td>0</td>\n",
              "      <td>0.060951</td>\n",
              "      <td>0.054328</td>\n",
              "      <td>0</td>\n",
              "      <td>0.441246</td>\n",
              "      <td>0.000000</td>\n",
              "      <td>-0.047102</td>\n",
              "      <td>0.062652</td>\n",
              "      <td>0.000000</td>\n",
              "    </tr>\n",
              "    <tr>\n",
              "      <th>loanNumber</th>\n",
              "      <td>0.000000</td>\n",
              "      <td>0.000000</td>\n",
              "      <td>-0.046518</td>\n",
              "      <td>-0.042551</td>\n",
              "      <td>0.126658</td>\n",
              "      <td>0.067146</td>\n",
              "      <td>1.000000</td>\n",
              "      <td>0.228146</td>\n",
              "      <td>-0.300269</td>\n",
              "      <td>0.250372</td>\n",
              "      <td>...</td>\n",
              "      <td>0</td>\n",
              "      <td>0</td>\n",
              "      <td>0.000000</td>\n",
              "      <td>0.000000</td>\n",
              "      <td>0</td>\n",
              "      <td>-0.041611</td>\n",
              "      <td>0.000000</td>\n",
              "      <td>-0.044169</td>\n",
              "      <td>0.134230</td>\n",
              "      <td>0.000000</td>\n",
              "    </tr>\n",
              "    <tr>\n",
              "      <th>loanAmount</th>\n",
              "      <td>0.000000</td>\n",
              "      <td>0.287372</td>\n",
              "      <td>0.146243</td>\n",
              "      <td>0.080959</td>\n",
              "      <td>0.157566</td>\n",
              "      <td>0.087068</td>\n",
              "      <td>0.228146</td>\n",
              "      <td>1.000000</td>\n",
              "      <td>-0.621150</td>\n",
              "      <td>0.676446</td>\n",
              "      <td>...</td>\n",
              "      <td>0</td>\n",
              "      <td>0</td>\n",
              "      <td>0.288939</td>\n",
              "      <td>0.191333</td>\n",
              "      <td>0</td>\n",
              "      <td>0.000000</td>\n",
              "      <td>0.030801</td>\n",
              "      <td>0.105775</td>\n",
              "      <td>0.668652</td>\n",
              "      <td>-0.115511</td>\n",
              "    </tr>\n",
              "    <tr>\n",
              "      <th>interestRate</th>\n",
              "      <td>0.000000</td>\n",
              "      <td>-0.127846</td>\n",
              "      <td>-0.160300</td>\n",
              "      <td>-0.092005</td>\n",
              "      <td>-0.183935</td>\n",
              "      <td>-0.088065</td>\n",
              "      <td>-0.300269</td>\n",
              "      <td>-0.621150</td>\n",
              "      <td>1.000000</td>\n",
              "      <td>-0.739680</td>\n",
              "      <td>...</td>\n",
              "      <td>0</td>\n",
              "      <td>0</td>\n",
              "      <td>-0.187537</td>\n",
              "      <td>-0.063665</td>\n",
              "      <td>0</td>\n",
              "      <td>0.029623</td>\n",
              "      <td>0.000000</td>\n",
              "      <td>-0.025485</td>\n",
              "      <td>-0.367474</td>\n",
              "      <td>0.086190</td>\n",
              "    </tr>\n",
              "    <tr>\n",
              "      <th>loanTerm</th>\n",
              "      <td>0.000000</td>\n",
              "      <td>0.073712</td>\n",
              "      <td>0.073489</td>\n",
              "      <td>0.044473</td>\n",
              "      <td>0.143265</td>\n",
              "      <td>0.064188</td>\n",
              "      <td>0.250372</td>\n",
              "      <td>0.676446</td>\n",
              "      <td>-0.739680</td>\n",
              "      <td>1.000000</td>\n",
              "      <td>...</td>\n",
              "      <td>0</td>\n",
              "      <td>0</td>\n",
              "      <td>0.120678</td>\n",
              "      <td>0.034086</td>\n",
              "      <td>0</td>\n",
              "      <td>-0.035109</td>\n",
              "      <td>0.000000</td>\n",
              "      <td>0.191294</td>\n",
              "      <td>0.082398</td>\n",
              "      <td>0.000000</td>\n",
              "    </tr>\n",
              "    <tr>\n",
              "      <th>max_amount_taken</th>\n",
              "      <td>0.000000</td>\n",
              "      <td>0.034118</td>\n",
              "      <td>0.040045</td>\n",
              "      <td>0.040738</td>\n",
              "      <td>-0.061803</td>\n",
              "      <td>-0.038749</td>\n",
              "      <td>-0.223031</td>\n",
              "      <td>0.031585</td>\n",
              "      <td>0.219889</td>\n",
              "      <td>-0.124663</td>\n",
              "      <td>...</td>\n",
              "      <td>0</td>\n",
              "      <td>0</td>\n",
              "      <td>0.000000</td>\n",
              "      <td>0.055935</td>\n",
              "      <td>0</td>\n",
              "      <td>0.000000</td>\n",
              "      <td>0.000000</td>\n",
              "      <td>0.102870</td>\n",
              "      <td>0.215868</td>\n",
              "      <td>-0.028063</td>\n",
              "    </tr>\n",
              "    <tr>\n",
              "      <th>max_tenor_taken</th>\n",
              "      <td>0.000000</td>\n",
              "      <td>-0.067240</td>\n",
              "      <td>0.000000</td>\n",
              "      <td>0.000000</td>\n",
              "      <td>-0.060655</td>\n",
              "      <td>-0.045181</td>\n",
              "      <td>-0.159891</td>\n",
              "      <td>0.000000</td>\n",
              "      <td>0.150607</td>\n",
              "      <td>0.090900</td>\n",
              "      <td>...</td>\n",
              "      <td>0</td>\n",
              "      <td>0</td>\n",
              "      <td>-0.095936</td>\n",
              "      <td>0.000000</td>\n",
              "      <td>0</td>\n",
              "      <td>0.000000</td>\n",
              "      <td>0.000000</td>\n",
              "      <td>0.179589</td>\n",
              "      <td>-0.056716</td>\n",
              "      <td>0.000000</td>\n",
              "    </tr>\n",
              "    <tr>\n",
              "      <th>settleDays</th>\n",
              "      <td>0.000000</td>\n",
              "      <td>-0.028847</td>\n",
              "      <td>-0.058566</td>\n",
              "      <td>0.000000</td>\n",
              "      <td>-0.026158</td>\n",
              "      <td>-0.026336</td>\n",
              "      <td>-0.070104</td>\n",
              "      <td>-0.051881</td>\n",
              "      <td>0.116105</td>\n",
              "      <td>-0.047970</td>\n",
              "      <td>...</td>\n",
              "      <td>0</td>\n",
              "      <td>0</td>\n",
              "      <td>-0.047389</td>\n",
              "      <td>0.000000</td>\n",
              "      <td>0</td>\n",
              "      <td>0.000000</td>\n",
              "      <td>-0.048519</td>\n",
              "      <td>0.618777</td>\n",
              "      <td>-0.037275</td>\n",
              "      <td>0.050665</td>\n",
              "    </tr>\n",
              "    <tr>\n",
              "      <th>firstpaymentRatio</th>\n",
              "      <td>0.000000</td>\n",
              "      <td>0.000000</td>\n",
              "      <td>-0.044000</td>\n",
              "      <td>0.000000</td>\n",
              "      <td>-0.038213</td>\n",
              "      <td>-0.030077</td>\n",
              "      <td>-0.081390</td>\n",
              "      <td>-0.052564</td>\n",
              "      <td>0.110921</td>\n",
              "      <td>-0.059454</td>\n",
              "      <td>...</td>\n",
              "      <td>0</td>\n",
              "      <td>0</td>\n",
              "      <td>-0.029298</td>\n",
              "      <td>0.000000</td>\n",
              "      <td>0</td>\n",
              "      <td>0.000000</td>\n",
              "      <td>-0.049747</td>\n",
              "      <td>0.579242</td>\n",
              "      <td>0.000000</td>\n",
              "      <td>0.030503</td>\n",
              "    </tr>\n",
              "    <tr>\n",
              "      <th>firstPaymentDefault</th>\n",
              "      <td>0.000000</td>\n",
              "      <td>-0.043187</td>\n",
              "      <td>-0.060479</td>\n",
              "      <td>0.000000</td>\n",
              "      <td>-0.034384</td>\n",
              "      <td>-0.027991</td>\n",
              "      <td>-0.057771</td>\n",
              "      <td>-0.069293</td>\n",
              "      <td>0.128876</td>\n",
              "      <td>-0.064178</td>\n",
              "      <td>...</td>\n",
              "      <td>0</td>\n",
              "      <td>0</td>\n",
              "      <td>-0.065257</td>\n",
              "      <td>0.000000</td>\n",
              "      <td>0</td>\n",
              "      <td>0.000000</td>\n",
              "      <td>-0.038684</td>\n",
              "      <td>0.777232</td>\n",
              "      <td>-0.045943</td>\n",
              "      <td>0.056459</td>\n",
              "    </tr>\n",
              "    <tr>\n",
              "      <th>loanDefault</th>\n",
              "      <td>0.000000</td>\n",
              "      <td>-0.035201</td>\n",
              "      <td>-0.048228</td>\n",
              "      <td>0.000000</td>\n",
              "      <td>-0.028477</td>\n",
              "      <td>-0.027286</td>\n",
              "      <td>-0.080460</td>\n",
              "      <td>0.000000</td>\n",
              "      <td>0.079144</td>\n",
              "      <td>0.000000</td>\n",
              "      <td>...</td>\n",
              "      <td>0</td>\n",
              "      <td>0</td>\n",
              "      <td>-0.049881</td>\n",
              "      <td>0.000000</td>\n",
              "      <td>0</td>\n",
              "      <td>0.000000</td>\n",
              "      <td>-0.036343</td>\n",
              "      <td>0.947438</td>\n",
              "      <td>-0.043000</td>\n",
              "      <td>0.040166</td>\n",
              "    </tr>\n",
              "    <tr>\n",
              "      <th>clientAge_bin</th>\n",
              "      <td>0.000000</td>\n",
              "      <td>0.162139</td>\n",
              "      <td>0.928293</td>\n",
              "      <td>0.314228</td>\n",
              "      <td>0.074911</td>\n",
              "      <td>-0.088962</td>\n",
              "      <td>-0.046084</td>\n",
              "      <td>0.134108</td>\n",
              "      <td>-0.144554</td>\n",
              "      <td>0.066085</td>\n",
              "      <td>...</td>\n",
              "      <td>0</td>\n",
              "      <td>0</td>\n",
              "      <td>0.206575</td>\n",
              "      <td>0.094670</td>\n",
              "      <td>0</td>\n",
              "      <td>-0.151579</td>\n",
              "      <td>-0.043856</td>\n",
              "      <td>0.000000</td>\n",
              "      <td>0.181867</td>\n",
              "      <td>-0.083101</td>\n",
              "    </tr>\n",
              "    <tr>\n",
              "      <th>loanIncome_diff</th>\n",
              "      <td>0.000000</td>\n",
              "      <td>0.958172</td>\n",
              "      <td>0.138692</td>\n",
              "      <td>0.106607</td>\n",
              "      <td>0.000000</td>\n",
              "      <td>0.040066</td>\n",
              "      <td>-0.072301</td>\n",
              "      <td>0.000000</td>\n",
              "      <td>0.052120</td>\n",
              "      <td>-0.125161</td>\n",
              "      <td>...</td>\n",
              "      <td>0</td>\n",
              "      <td>0</td>\n",
              "      <td>0.779022</td>\n",
              "      <td>0.803514</td>\n",
              "      <td>0</td>\n",
              "      <td>0.053144</td>\n",
              "      <td>0.000000</td>\n",
              "      <td>-0.086926</td>\n",
              "      <td>0.132922</td>\n",
              "      <td>0.483482</td>\n",
              "    </tr>\n",
              "    <tr>\n",
              "      <th>amount_diff</th>\n",
              "      <td>0.000000</td>\n",
              "      <td>0.322744</td>\n",
              "      <td>0.065785</td>\n",
              "      <td>0.069394</td>\n",
              "      <td>-0.057743</td>\n",
              "      <td>0.000000</td>\n",
              "      <td>-0.117145</td>\n",
              "      <td>-0.204651</td>\n",
              "      <td>0.203466</td>\n",
              "      <td>-0.255259</td>\n",
              "      <td>...</td>\n",
              "      <td>0</td>\n",
              "      <td>0</td>\n",
              "      <td>0.547411</td>\n",
              "      <td>0.088325</td>\n",
              "      <td>0</td>\n",
              "      <td>0.053929</td>\n",
              "      <td>0.031589</td>\n",
              "      <td>-0.105738</td>\n",
              "      <td>-0.107113</td>\n",
              "      <td>0.000000</td>\n",
              "    </tr>\n",
              "    <tr>\n",
              "      <th>reten_measure</th>\n",
              "      <td>0.000000</td>\n",
              "      <td>0.000000</td>\n",
              "      <td>-0.033636</td>\n",
              "      <td>-0.035405</td>\n",
              "      <td>0.098993</td>\n",
              "      <td>0.053972</td>\n",
              "      <td>0.765290</td>\n",
              "      <td>0.186081</td>\n",
              "      <td>-0.245361</td>\n",
              "      <td>0.214847</td>\n",
              "      <td>...</td>\n",
              "      <td>0</td>\n",
              "      <td>0</td>\n",
              "      <td>0.000000</td>\n",
              "      <td>0.000000</td>\n",
              "      <td>0</td>\n",
              "      <td>-0.025971</td>\n",
              "      <td>0.026541</td>\n",
              "      <td>-0.054710</td>\n",
              "      <td>0.085221</td>\n",
              "      <td>0.000000</td>\n",
              "    </tr>\n",
              "    <tr>\n",
              "      <th>log_clientIncome</th>\n",
              "      <td>0.000000</td>\n",
              "      <td>0.854978</td>\n",
              "      <td>0.223911</td>\n",
              "      <td>0.171660</td>\n",
              "      <td>0.046099</td>\n",
              "      <td>0.062281</td>\n",
              "      <td>0.000000</td>\n",
              "      <td>0.293802</td>\n",
              "      <td>-0.185084</td>\n",
              "      <td>0.118008</td>\n",
              "      <td>...</td>\n",
              "      <td>0</td>\n",
              "      <td>0</td>\n",
              "      <td>0.998314</td>\n",
              "      <td>0.845227</td>\n",
              "      <td>0</td>\n",
              "      <td>0.059008</td>\n",
              "      <td>0.034756</td>\n",
              "      <td>-0.070117</td>\n",
              "      <td>0.330511</td>\n",
              "      <td>0.513522</td>\n",
              "    </tr>\n",
              "    <tr>\n",
              "      <th>clientIncome_bin</th>\n",
              "      <td>0.000000</td>\n",
              "      <td>0.839300</td>\n",
              "      <td>0.204010</td>\n",
              "      <td>0.155330</td>\n",
              "      <td>0.037414</td>\n",
              "      <td>0.058423</td>\n",
              "      <td>0.000000</td>\n",
              "      <td>0.263308</td>\n",
              "      <td>-0.131435</td>\n",
              "      <td>0.069372</td>\n",
              "      <td>...</td>\n",
              "      <td>0</td>\n",
              "      <td>0</td>\n",
              "      <td>0.896467</td>\n",
              "      <td>0.992916</td>\n",
              "      <td>0</td>\n",
              "      <td>0.054057</td>\n",
              "      <td>0.028948</td>\n",
              "      <td>-0.068304</td>\n",
              "      <td>0.324908</td>\n",
              "      <td>0.456258</td>\n",
              "    </tr>\n",
              "    <tr>\n",
              "      <th>incomeVerified_encode</th>\n",
              "      <td>0.000000</td>\n",
              "      <td>0.102118</td>\n",
              "      <td>0.099165</td>\n",
              "      <td>0.061321</td>\n",
              "      <td>0.111062</td>\n",
              "      <td>0.072560</td>\n",
              "      <td>-0.036619</td>\n",
              "      <td>0.400232</td>\n",
              "      <td>-0.420027</td>\n",
              "      <td>0.381755</td>\n",
              "      <td>...</td>\n",
              "      <td>0</td>\n",
              "      <td>0</td>\n",
              "      <td>0.185516</td>\n",
              "      <td>0.000000</td>\n",
              "      <td>0</td>\n",
              "      <td>0.000000</td>\n",
              "      <td>0.045842</td>\n",
              "      <td>0.000000</td>\n",
              "      <td>0.150128</td>\n",
              "      <td>0.000000</td>\n",
              "    </tr>\n",
              "    <tr>\n",
              "      <th>contactedPerDay</th>\n",
              "      <td>0.000000</td>\n",
              "      <td>0.000000</td>\n",
              "      <td>0.000000</td>\n",
              "      <td>0.000000</td>\n",
              "      <td>-0.035620</td>\n",
              "      <td>0.090770</td>\n",
              "      <td>0.000000</td>\n",
              "      <td>0.000000</td>\n",
              "      <td>0.000000</td>\n",
              "      <td>0.000000</td>\n",
              "      <td>...</td>\n",
              "      <td>0</td>\n",
              "      <td>0</td>\n",
              "      <td>0.000000</td>\n",
              "      <td>0.000000</td>\n",
              "      <td>0</td>\n",
              "      <td>0.141390</td>\n",
              "      <td>0.000000</td>\n",
              "      <td>0.000000</td>\n",
              "      <td>0.000000</td>\n",
              "      <td>0.031565</td>\n",
              "    </tr>\n",
              "    <tr>\n",
              "      <th>clientState_encode</th>\n",
              "      <td>0.000000</td>\n",
              "      <td>0.000000</td>\n",
              "      <td>-0.033180</td>\n",
              "      <td>0.000000</td>\n",
              "      <td>0.027576</td>\n",
              "      <td>0.000000</td>\n",
              "      <td>-0.025818</td>\n",
              "      <td>0.000000</td>\n",
              "      <td>0.035558</td>\n",
              "      <td>0.000000</td>\n",
              "      <td>...</td>\n",
              "      <td>0</td>\n",
              "      <td>0</td>\n",
              "      <td>-0.027394</td>\n",
              "      <td>0.000000</td>\n",
              "      <td>0</td>\n",
              "      <td>-0.045354</td>\n",
              "      <td>0.965111</td>\n",
              "      <td>0.000000</td>\n",
              "      <td>-0.036997</td>\n",
              "      <td>0.057210</td>\n",
              "    </tr>\n",
              "    <tr>\n",
              "      <th>deliquency_duration</th>\n",
              "      <td>0.000000</td>\n",
              "      <td>0.000000</td>\n",
              "      <td>-0.045575</td>\n",
              "      <td>0.000000</td>\n",
              "      <td>-0.040357</td>\n",
              "      <td>-0.031367</td>\n",
              "      <td>-0.091669</td>\n",
              "      <td>-0.067860</td>\n",
              "      <td>0.121933</td>\n",
              "      <td>-0.074737</td>\n",
              "      <td>...</td>\n",
              "      <td>0</td>\n",
              "      <td>0</td>\n",
              "      <td>-0.042706</td>\n",
              "      <td>0.000000</td>\n",
              "      <td>0</td>\n",
              "      <td>0.000000</td>\n",
              "      <td>-0.054601</td>\n",
              "      <td>0.956056</td>\n",
              "      <td>0.000000</td>\n",
              "      <td>0.000000</td>\n",
              "    </tr>\n",
              "    <tr>\n",
              "      <th>intstall_paymnt</th>\n",
              "      <td>0.000000</td>\n",
              "      <td>0.355260</td>\n",
              "      <td>0.165900</td>\n",
              "      <td>0.089300</td>\n",
              "      <td>0.107145</td>\n",
              "      <td>0.072368</td>\n",
              "      <td>0.146803</td>\n",
              "      <td>0.735973</td>\n",
              "      <td>-0.333816</td>\n",
              "      <td>0.108801</td>\n",
              "      <td>...</td>\n",
              "      <td>0</td>\n",
              "      <td>0</td>\n",
              "      <td>0.316315</td>\n",
              "      <td>0.246158</td>\n",
              "      <td>0</td>\n",
              "      <td>0.000000</td>\n",
              "      <td>0.025430</td>\n",
              "      <td>-0.043752</td>\n",
              "      <td>0.905722</td>\n",
              "      <td>-0.220359</td>\n",
              "    </tr>\n",
              "    <tr>\n",
              "      <th>BalanceIncome</th>\n",
              "      <td>0.000000</td>\n",
              "      <td>0.164004</td>\n",
              "      <td>-0.080930</td>\n",
              "      <td>-0.026723</td>\n",
              "      <td>-0.086598</td>\n",
              "      <td>-0.042260</td>\n",
              "      <td>-0.157054</td>\n",
              "      <td>-0.621804</td>\n",
              "      <td>0.283379</td>\n",
              "      <td>-0.075093</td>\n",
              "      <td>...</td>\n",
              "      <td>0</td>\n",
              "      <td>0</td>\n",
              "      <td>0.112870</td>\n",
              "      <td>0.158375</td>\n",
              "      <td>0</td>\n",
              "      <td>0.000000</td>\n",
              "      <td>0.000000</td>\n",
              "      <td>0.000000</td>\n",
              "      <td>-0.784069</td>\n",
              "      <td>0.723078</td>\n",
              "    </tr>\n",
              "    <tr>\n",
              "      <th>log_clientId</th>\n",
              "      <td>0.848995</td>\n",
              "      <td>0.000000</td>\n",
              "      <td>0.000000</td>\n",
              "      <td>0.000000</td>\n",
              "      <td>0.000000</td>\n",
              "      <td>0.000000</td>\n",
              "      <td>0.000000</td>\n",
              "      <td>0.000000</td>\n",
              "      <td>0.000000</td>\n",
              "      <td>0.000000</td>\n",
              "      <td>...</td>\n",
              "      <td>0</td>\n",
              "      <td>0</td>\n",
              "      <td>0.000000</td>\n",
              "      <td>0.000000</td>\n",
              "      <td>0</td>\n",
              "      <td>0.000000</td>\n",
              "      <td>0.000000</td>\n",
              "      <td>0.000000</td>\n",
              "      <td>0.000000</td>\n",
              "      <td>0.000000</td>\n",
              "    </tr>\n",
              "    <tr>\n",
              "      <th>log_clientAge</th>\n",
              "      <td>0.000000</td>\n",
              "      <td>0.174910</td>\n",
              "      <td>0.991457</td>\n",
              "      <td>0.355407</td>\n",
              "      <td>0.081878</td>\n",
              "      <td>-0.100186</td>\n",
              "      <td>-0.041597</td>\n",
              "      <td>0.152714</td>\n",
              "      <td>-0.170578</td>\n",
              "      <td>0.080375</td>\n",
              "      <td>...</td>\n",
              "      <td>0</td>\n",
              "      <td>0</td>\n",
              "      <td>0.228598</td>\n",
              "      <td>0.100915</td>\n",
              "      <td>0</td>\n",
              "      <td>-0.168078</td>\n",
              "      <td>-0.042514</td>\n",
              "      <td>0.000000</td>\n",
              "      <td>0.204524</td>\n",
              "      <td>-0.096968</td>\n",
              "    </tr>\n",
              "    <tr>\n",
              "      <th>log_clientTimeAtEmployer</th>\n",
              "      <td>0.000000</td>\n",
              "      <td>0.091498</td>\n",
              "      <td>0.278882</td>\n",
              "      <td>0.936329</td>\n",
              "      <td>0.025988</td>\n",
              "      <td>-0.062506</td>\n",
              "      <td>-0.047483</td>\n",
              "      <td>0.056859</td>\n",
              "      <td>-0.057356</td>\n",
              "      <td>0.026456</td>\n",
              "      <td>...</td>\n",
              "      <td>0</td>\n",
              "      <td>0</td>\n",
              "      <td>0.124808</td>\n",
              "      <td>0.047322</td>\n",
              "      <td>0</td>\n",
              "      <td>-0.088337</td>\n",
              "      <td>-0.045577</td>\n",
              "      <td>0.026777</td>\n",
              "      <td>0.084603</td>\n",
              "      <td>0.000000</td>\n",
              "    </tr>\n",
              "    <tr>\n",
              "      <th>log_clientNumberPhoneContacts</th>\n",
              "      <td>0.000000</td>\n",
              "      <td>0.048202</td>\n",
              "      <td>0.085370</td>\n",
              "      <td>0.039959</td>\n",
              "      <td>0.722356</td>\n",
              "      <td>0.234470</td>\n",
              "      <td>0.108204</td>\n",
              "      <td>0.155700</td>\n",
              "      <td>-0.205814</td>\n",
              "      <td>0.140981</td>\n",
              "      <td>...</td>\n",
              "      <td>0</td>\n",
              "      <td>0</td>\n",
              "      <td>0.043126</td>\n",
              "      <td>0.053206</td>\n",
              "      <td>0</td>\n",
              "      <td>-0.390133</td>\n",
              "      <td>0.029076</td>\n",
              "      <td>0.000000</td>\n",
              "      <td>0.113972</td>\n",
              "      <td>-0.048693</td>\n",
              "    </tr>\n",
              "    <tr>\n",
              "      <th>log_clientAvgCallsPerDay</th>\n",
              "      <td>0.000000</td>\n",
              "      <td>0.084951</td>\n",
              "      <td>-0.109343</td>\n",
              "      <td>-0.085422</td>\n",
              "      <td>0.183416</td>\n",
              "      <td>0.614828</td>\n",
              "      <td>0.035422</td>\n",
              "      <td>0.099663</td>\n",
              "      <td>-0.109911</td>\n",
              "      <td>0.061774</td>\n",
              "      <td>...</td>\n",
              "      <td>0</td>\n",
              "      <td>0</td>\n",
              "      <td>0.091745</td>\n",
              "      <td>0.072198</td>\n",
              "      <td>0</td>\n",
              "      <td>0.792226</td>\n",
              "      <td>0.000000</td>\n",
              "      <td>-0.066776</td>\n",
              "      <td>0.090968</td>\n",
              "      <td>-0.040183</td>\n",
              "    </tr>\n",
              "    <tr>\n",
              "      <th>log_loanNumber</th>\n",
              "      <td>0.000000</td>\n",
              "      <td>-0.025355</td>\n",
              "      <td>-0.068256</td>\n",
              "      <td>-0.064860</td>\n",
              "      <td>0.145690</td>\n",
              "      <td>0.068713</td>\n",
              "      <td>0.908346</td>\n",
              "      <td>0.208843</td>\n",
              "      <td>-0.309565</td>\n",
              "      <td>0.300163</td>\n",
              "      <td>...</td>\n",
              "      <td>0</td>\n",
              "      <td>0</td>\n",
              "      <td>-0.029466</td>\n",
              "      <td>0.000000</td>\n",
              "      <td>0</td>\n",
              "      <td>-0.059300</td>\n",
              "      <td>0.000000</td>\n",
              "      <td>0.000000</td>\n",
              "      <td>0.061559</td>\n",
              "      <td>0.000000</td>\n",
              "    </tr>\n",
              "    <tr>\n",
              "      <th>log_loanAmount</th>\n",
              "      <td>0.000000</td>\n",
              "      <td>0.261396</td>\n",
              "      <td>0.182448</td>\n",
              "      <td>0.108027</td>\n",
              "      <td>0.169326</td>\n",
              "      <td>0.085490</td>\n",
              "      <td>0.272263</td>\n",
              "      <td>0.904109</td>\n",
              "      <td>-0.784015</td>\n",
              "      <td>0.747224</td>\n",
              "      <td>...</td>\n",
              "      <td>0</td>\n",
              "      <td>0</td>\n",
              "      <td>0.299750</td>\n",
              "      <td>0.166294</td>\n",
              "      <td>0</td>\n",
              "      <td>0.000000</td>\n",
              "      <td>0.000000</td>\n",
              "      <td>0.116459</td>\n",
              "      <td>0.713862</td>\n",
              "      <td>-0.121570</td>\n",
              "    </tr>\n",
              "    <tr>\n",
              "      <th>log_interestRate</th>\n",
              "      <td>0.000000</td>\n",
              "      <td>-0.121319</td>\n",
              "      <td>-0.153666</td>\n",
              "      <td>-0.091335</td>\n",
              "      <td>-0.185281</td>\n",
              "      <td>-0.089043</td>\n",
              "      <td>-0.286978</td>\n",
              "      <td>-0.675318</td>\n",
              "      <td>0.976304</td>\n",
              "      <td>-0.810273</td>\n",
              "      <td>...</td>\n",
              "      <td>0</td>\n",
              "      <td>0</td>\n",
              "      <td>-0.180396</td>\n",
              "      <td>-0.059545</td>\n",
              "      <td>0</td>\n",
              "      <td>0.028220</td>\n",
              "      <td>0.000000</td>\n",
              "      <td>-0.048491</td>\n",
              "      <td>-0.336344</td>\n",
              "      <td>0.082249</td>\n",
              "    </tr>\n",
              "    <tr>\n",
              "      <th>log_loanTerm</th>\n",
              "      <td>0.000000</td>\n",
              "      <td>0.076835</td>\n",
              "      <td>0.076153</td>\n",
              "      <td>0.047383</td>\n",
              "      <td>0.143972</td>\n",
              "      <td>0.063604</td>\n",
              "      <td>0.262992</td>\n",
              "      <td>0.667024</td>\n",
              "      <td>-0.774955</td>\n",
              "      <td>0.986458</td>\n",
              "      <td>...</td>\n",
              "      <td>0</td>\n",
              "      <td>0</td>\n",
              "      <td>0.126192</td>\n",
              "      <td>0.033254</td>\n",
              "      <td>0</td>\n",
              "      <td>-0.037744</td>\n",
              "      <td>0.000000</td>\n",
              "      <td>0.199765</td>\n",
              "      <td>0.089799</td>\n",
              "      <td>0.000000</td>\n",
              "    </tr>\n",
              "    <tr>\n",
              "      <th>log_max_amount_taken</th>\n",
              "      <td>0.000000</td>\n",
              "      <td>0.000000</td>\n",
              "      <td>0.000000</td>\n",
              "      <td>0.000000</td>\n",
              "      <td>0.000000</td>\n",
              "      <td>0.000000</td>\n",
              "      <td>0.000000</td>\n",
              "      <td>0.000000</td>\n",
              "      <td>0.000000</td>\n",
              "      <td>0.000000</td>\n",
              "      <td>...</td>\n",
              "      <td>0</td>\n",
              "      <td>0</td>\n",
              "      <td>0.000000</td>\n",
              "      <td>0.000000</td>\n",
              "      <td>0</td>\n",
              "      <td>0.000000</td>\n",
              "      <td>0.000000</td>\n",
              "      <td>0.000000</td>\n",
              "      <td>0.000000</td>\n",
              "      <td>0.000000</td>\n",
              "    </tr>\n",
              "    <tr>\n",
              "      <th>log_max_tenor_taken</th>\n",
              "      <td>0.000000</td>\n",
              "      <td>0.000000</td>\n",
              "      <td>0.000000</td>\n",
              "      <td>0.000000</td>\n",
              "      <td>0.000000</td>\n",
              "      <td>0.000000</td>\n",
              "      <td>0.000000</td>\n",
              "      <td>0.000000</td>\n",
              "      <td>0.000000</td>\n",
              "      <td>0.000000</td>\n",
              "      <td>...</td>\n",
              "      <td>0</td>\n",
              "      <td>0</td>\n",
              "      <td>0.000000</td>\n",
              "      <td>0.000000</td>\n",
              "      <td>0</td>\n",
              "      <td>0.000000</td>\n",
              "      <td>0.000000</td>\n",
              "      <td>0.000000</td>\n",
              "      <td>0.000000</td>\n",
              "      <td>0.000000</td>\n",
              "    </tr>\n",
              "    <tr>\n",
              "      <th>log_settleDays</th>\n",
              "      <td>0.000000</td>\n",
              "      <td>0.000000</td>\n",
              "      <td>-0.061324</td>\n",
              "      <td>0.000000</td>\n",
              "      <td>-0.039458</td>\n",
              "      <td>-0.028341</td>\n",
              "      <td>-0.108838</td>\n",
              "      <td>-0.064619</td>\n",
              "      <td>0.131931</td>\n",
              "      <td>-0.076554</td>\n",
              "      <td>...</td>\n",
              "      <td>0</td>\n",
              "      <td>0</td>\n",
              "      <td>-0.035157</td>\n",
              "      <td>0.000000</td>\n",
              "      <td>0</td>\n",
              "      <td>0.000000</td>\n",
              "      <td>-0.053990</td>\n",
              "      <td>0.000000</td>\n",
              "      <td>0.000000</td>\n",
              "      <td>0.053092</td>\n",
              "    </tr>\n",
              "    <tr>\n",
              "      <th>log_firstpaymentRatio</th>\n",
              "      <td>0.000000</td>\n",
              "      <td>0.000000</td>\n",
              "      <td>0.000000</td>\n",
              "      <td>0.031237</td>\n",
              "      <td>0.000000</td>\n",
              "      <td>0.000000</td>\n",
              "      <td>-0.028401</td>\n",
              "      <td>0.000000</td>\n",
              "      <td>0.000000</td>\n",
              "      <td>0.000000</td>\n",
              "      <td>...</td>\n",
              "      <td>0</td>\n",
              "      <td>0</td>\n",
              "      <td>0.036504</td>\n",
              "      <td>0.000000</td>\n",
              "      <td>0</td>\n",
              "      <td>0.000000</td>\n",
              "      <td>0.000000</td>\n",
              "      <td>0.000000</td>\n",
              "      <td>0.000000</td>\n",
              "      <td>0.000000</td>\n",
              "    </tr>\n",
              "    <tr>\n",
              "      <th>log_firstPaymentDefault</th>\n",
              "      <td>0.000000</td>\n",
              "      <td>0.000000</td>\n",
              "      <td>0.000000</td>\n",
              "      <td>0.000000</td>\n",
              "      <td>0.000000</td>\n",
              "      <td>0.000000</td>\n",
              "      <td>0.000000</td>\n",
              "      <td>0.000000</td>\n",
              "      <td>0.000000</td>\n",
              "      <td>0.000000</td>\n",
              "      <td>...</td>\n",
              "      <td>0</td>\n",
              "      <td>0</td>\n",
              "      <td>0.000000</td>\n",
              "      <td>0.000000</td>\n",
              "      <td>0</td>\n",
              "      <td>0.000000</td>\n",
              "      <td>0.000000</td>\n",
              "      <td>0.000000</td>\n",
              "      <td>0.000000</td>\n",
              "      <td>0.000000</td>\n",
              "    </tr>\n",
              "    <tr>\n",
              "      <th>log_clientAge_bin</th>\n",
              "      <td>0.000000</td>\n",
              "      <td>0.105327</td>\n",
              "      <td>0.872675</td>\n",
              "      <td>0.122679</td>\n",
              "      <td>0.034596</td>\n",
              "      <td>-0.026543</td>\n",
              "      <td>-0.057263</td>\n",
              "      <td>0.047465</td>\n",
              "      <td>-0.037632</td>\n",
              "      <td>0.000000</td>\n",
              "      <td>...</td>\n",
              "      <td>0</td>\n",
              "      <td>0</td>\n",
              "      <td>0.116220</td>\n",
              "      <td>0.079275</td>\n",
              "      <td>0</td>\n",
              "      <td>-0.062781</td>\n",
              "      <td>-0.043523</td>\n",
              "      <td>0.000000</td>\n",
              "      <td>0.082538</td>\n",
              "      <td>0.000000</td>\n",
              "    </tr>\n",
              "    <tr>\n",
              "      <th>log_loanIncome_diff</th>\n",
              "      <td>0.000000</td>\n",
              "      <td>0.724858</td>\n",
              "      <td>0.180218</td>\n",
              "      <td>0.135805</td>\n",
              "      <td>0.031991</td>\n",
              "      <td>0.045449</td>\n",
              "      <td>-0.031599</td>\n",
              "      <td>0.120044</td>\n",
              "      <td>-0.046633</td>\n",
              "      <td>-0.048772</td>\n",
              "      <td>...</td>\n",
              "      <td>0</td>\n",
              "      <td>0</td>\n",
              "      <td>0.875318</td>\n",
              "      <td>0.711956</td>\n",
              "      <td>0</td>\n",
              "      <td>0.045428</td>\n",
              "      <td>0.000000</td>\n",
              "      <td>-0.076009</td>\n",
              "      <td>0.245114</td>\n",
              "      <td>0.543381</td>\n",
              "    </tr>\n",
              "    <tr>\n",
              "      <th>log_amount_diff</th>\n",
              "      <td>0.000000</td>\n",
              "      <td>0.000000</td>\n",
              "      <td>0.000000</td>\n",
              "      <td>0.000000</td>\n",
              "      <td>0.000000</td>\n",
              "      <td>0.000000</td>\n",
              "      <td>0.000000</td>\n",
              "      <td>0.000000</td>\n",
              "      <td>0.000000</td>\n",
              "      <td>0.000000</td>\n",
              "      <td>...</td>\n",
              "      <td>0</td>\n",
              "      <td>0</td>\n",
              "      <td>0.000000</td>\n",
              "      <td>0.000000</td>\n",
              "      <td>0</td>\n",
              "      <td>0.000000</td>\n",
              "      <td>0.000000</td>\n",
              "      <td>0.000000</td>\n",
              "      <td>0.000000</td>\n",
              "      <td>0.000000</td>\n",
              "    </tr>\n",
              "    <tr>\n",
              "      <th>log_reten_measure</th>\n",
              "      <td>0.000000</td>\n",
              "      <td>0.000000</td>\n",
              "      <td>0.000000</td>\n",
              "      <td>0.000000</td>\n",
              "      <td>0.000000</td>\n",
              "      <td>0.000000</td>\n",
              "      <td>0.000000</td>\n",
              "      <td>0.000000</td>\n",
              "      <td>0.000000</td>\n",
              "      <td>0.000000</td>\n",
              "      <td>...</td>\n",
              "      <td>0</td>\n",
              "      <td>0</td>\n",
              "      <td>0.000000</td>\n",
              "      <td>0.000000</td>\n",
              "      <td>0</td>\n",
              "      <td>0.000000</td>\n",
              "      <td>0.000000</td>\n",
              "      <td>0.000000</td>\n",
              "      <td>0.000000</td>\n",
              "      <td>0.000000</td>\n",
              "    </tr>\n",
              "    <tr>\n",
              "      <th>log_log_clientIncome</th>\n",
              "      <td>0.000000</td>\n",
              "      <td>0.828855</td>\n",
              "      <td>0.223868</td>\n",
              "      <td>0.172744</td>\n",
              "      <td>0.044558</td>\n",
              "      <td>0.060951</td>\n",
              "      <td>0.000000</td>\n",
              "      <td>0.288939</td>\n",
              "      <td>-0.187537</td>\n",
              "      <td>0.120678</td>\n",
              "      <td>...</td>\n",
              "      <td>0</td>\n",
              "      <td>0</td>\n",
              "      <td>1.000000</td>\n",
              "      <td>0.837687</td>\n",
              "      <td>0</td>\n",
              "      <td>0.058993</td>\n",
              "      <td>0.034822</td>\n",
              "      <td>-0.070100</td>\n",
              "      <td>0.324287</td>\n",
              "      <td>0.513815</td>\n",
              "    </tr>\n",
              "    <tr>\n",
              "      <th>log_clientIncome_bin</th>\n",
              "      <td>0.000000</td>\n",
              "      <td>0.845663</td>\n",
              "      <td>0.102829</td>\n",
              "      <td>0.061954</td>\n",
              "      <td>0.053907</td>\n",
              "      <td>0.054328</td>\n",
              "      <td>0.000000</td>\n",
              "      <td>0.191333</td>\n",
              "      <td>-0.063665</td>\n",
              "      <td>0.034086</td>\n",
              "      <td>...</td>\n",
              "      <td>0</td>\n",
              "      <td>0</td>\n",
              "      <td>0.837687</td>\n",
              "      <td>1.000000</td>\n",
              "      <td>0</td>\n",
              "      <td>0.032251</td>\n",
              "      <td>0.000000</td>\n",
              "      <td>-0.039023</td>\n",
              "      <td>0.224028</td>\n",
              "      <td>0.456258</td>\n",
              "    </tr>\n",
              "    <tr>\n",
              "      <th>log_incomeVerified_encode</th>\n",
              "      <td>0.000000</td>\n",
              "      <td>0.000000</td>\n",
              "      <td>0.000000</td>\n",
              "      <td>0.000000</td>\n",
              "      <td>0.000000</td>\n",
              "      <td>0.000000</td>\n",
              "      <td>0.000000</td>\n",
              "      <td>0.000000</td>\n",
              "      <td>0.000000</td>\n",
              "      <td>0.000000</td>\n",
              "      <td>...</td>\n",
              "      <td>0</td>\n",
              "      <td>0</td>\n",
              "      <td>0.000000</td>\n",
              "      <td>0.000000</td>\n",
              "      <td>0</td>\n",
              "      <td>0.000000</td>\n",
              "      <td>0.000000</td>\n",
              "      <td>0.000000</td>\n",
              "      <td>0.000000</td>\n",
              "      <td>0.000000</td>\n",
              "    </tr>\n",
              "    <tr>\n",
              "      <th>log_contactedPerDay</th>\n",
              "      <td>0.000000</td>\n",
              "      <td>0.048673</td>\n",
              "      <td>-0.162331</td>\n",
              "      <td>-0.109962</td>\n",
              "      <td>-0.293491</td>\n",
              "      <td>0.441246</td>\n",
              "      <td>-0.041611</td>\n",
              "      <td>0.000000</td>\n",
              "      <td>0.029623</td>\n",
              "      <td>-0.035109</td>\n",
              "      <td>...</td>\n",
              "      <td>0</td>\n",
              "      <td>0</td>\n",
              "      <td>0.058993</td>\n",
              "      <td>0.032251</td>\n",
              "      <td>0</td>\n",
              "      <td>1.000000</td>\n",
              "      <td>0.000000</td>\n",
              "      <td>-0.049666</td>\n",
              "      <td>0.000000</td>\n",
              "      <td>0.000000</td>\n",
              "    </tr>\n",
              "    <tr>\n",
              "      <th>log_clientState_encode</th>\n",
              "      <td>0.000000</td>\n",
              "      <td>0.025928</td>\n",
              "      <td>-0.045693</td>\n",
              "      <td>-0.051322</td>\n",
              "      <td>0.000000</td>\n",
              "      <td>0.000000</td>\n",
              "      <td>0.000000</td>\n",
              "      <td>0.030801</td>\n",
              "      <td>0.000000</td>\n",
              "      <td>0.000000</td>\n",
              "      <td>...</td>\n",
              "      <td>0</td>\n",
              "      <td>0</td>\n",
              "      <td>0.034822</td>\n",
              "      <td>0.000000</td>\n",
              "      <td>0</td>\n",
              "      <td>0.000000</td>\n",
              "      <td>1.000000</td>\n",
              "      <td>-0.052947</td>\n",
              "      <td>0.000000</td>\n",
              "      <td>0.043818</td>\n",
              "    </tr>\n",
              "    <tr>\n",
              "      <th>log_deliquency_duration</th>\n",
              "      <td>0.000000</td>\n",
              "      <td>-0.057763</td>\n",
              "      <td>0.000000</td>\n",
              "      <td>0.000000</td>\n",
              "      <td>0.000000</td>\n",
              "      <td>-0.047102</td>\n",
              "      <td>-0.044169</td>\n",
              "      <td>0.105775</td>\n",
              "      <td>-0.025485</td>\n",
              "      <td>0.191294</td>\n",
              "      <td>...</td>\n",
              "      <td>0</td>\n",
              "      <td>0</td>\n",
              "      <td>-0.070100</td>\n",
              "      <td>-0.039023</td>\n",
              "      <td>0</td>\n",
              "      <td>-0.049666</td>\n",
              "      <td>-0.052947</td>\n",
              "      <td>1.000000</td>\n",
              "      <td>-0.044730</td>\n",
              "      <td>0.056352</td>\n",
              "    </tr>\n",
              "    <tr>\n",
              "      <th>log_intstall_paymnt</th>\n",
              "      <td>0.000000</td>\n",
              "      <td>0.318678</td>\n",
              "      <td>0.198091</td>\n",
              "      <td>0.114812</td>\n",
              "      <td>0.104646</td>\n",
              "      <td>0.062652</td>\n",
              "      <td>0.134230</td>\n",
              "      <td>0.668652</td>\n",
              "      <td>-0.367474</td>\n",
              "      <td>0.082398</td>\n",
              "      <td>...</td>\n",
              "      <td>0</td>\n",
              "      <td>0</td>\n",
              "      <td>0.324287</td>\n",
              "      <td>0.224028</td>\n",
              "      <td>0</td>\n",
              "      <td>0.000000</td>\n",
              "      <td>0.000000</td>\n",
              "      <td>-0.044730</td>\n",
              "      <td>1.000000</td>\n",
              "      <td>-0.203064</td>\n",
              "    </tr>\n",
              "    <tr>\n",
              "      <th>log_BalanceIncome</th>\n",
              "      <td>0.000000</td>\n",
              "      <td>0.455612</td>\n",
              "      <td>-0.092608</td>\n",
              "      <td>0.000000</td>\n",
              "      <td>0.000000</td>\n",
              "      <td>0.000000</td>\n",
              "      <td>0.000000</td>\n",
              "      <td>-0.115511</td>\n",
              "      <td>0.086190</td>\n",
              "      <td>0.000000</td>\n",
              "      <td>...</td>\n",
              "      <td>0</td>\n",
              "      <td>0</td>\n",
              "      <td>0.513815</td>\n",
              "      <td>0.456258</td>\n",
              "      <td>0</td>\n",
              "      <td>0.000000</td>\n",
              "      <td>0.043818</td>\n",
              "      <td>0.056352</td>\n",
              "      <td>-0.203064</td>\n",
              "      <td>1.000000</td>\n",
              "    </tr>\n",
              "  </tbody>\n",
              "</table>\n",
              "<p>54 rows × 54 columns</p>\n",
              "</div>"
            ],
            "text/plain": [
              "                               clientId  clientIncome  clientAge  \\\n",
              "clientId                       1.000000      0.000000   0.000000   \n",
              "clientIncome                   0.000000      1.000000   0.174696   \n",
              "clientAge                      0.000000      0.174696   1.000000   \n",
              "clientTimeAtEmployer           0.000000      0.125280   0.339582   \n",
              "clientNumberPhoneContacts      0.000000      0.049122   0.079686   \n",
              "clientAvgCallsPerDay           0.000000      0.063294  -0.095028   \n",
              "loanNumber                     0.000000      0.000000  -0.046518   \n",
              "loanAmount                     0.000000      0.287372   0.146243   \n",
              "interestRate                   0.000000     -0.127846  -0.160300   \n",
              "loanTerm                       0.000000      0.073712   0.073489   \n",
              "max_amount_taken               0.000000      0.034118   0.040045   \n",
              "max_tenor_taken                0.000000     -0.067240   0.000000   \n",
              "settleDays                     0.000000     -0.028847  -0.058566   \n",
              "firstpaymentRatio              0.000000      0.000000  -0.044000   \n",
              "firstPaymentDefault            0.000000     -0.043187  -0.060479   \n",
              "loanDefault                    0.000000     -0.035201  -0.048228   \n",
              "clientAge_bin                  0.000000      0.162139   0.928293   \n",
              "loanIncome_diff                0.000000      0.958172   0.138692   \n",
              "amount_diff                    0.000000      0.322744   0.065785   \n",
              "reten_measure                  0.000000      0.000000  -0.033636   \n",
              "log_clientIncome               0.000000      0.854978   0.223911   \n",
              "clientIncome_bin               0.000000      0.839300   0.204010   \n",
              "incomeVerified_encode          0.000000      0.102118   0.099165   \n",
              "contactedPerDay                0.000000      0.000000   0.000000   \n",
              "clientState_encode             0.000000      0.000000  -0.033180   \n",
              "deliquency_duration            0.000000      0.000000  -0.045575   \n",
              "intstall_paymnt                0.000000      0.355260   0.165900   \n",
              "BalanceIncome                  0.000000      0.164004  -0.080930   \n",
              "log_clientId                   0.848995      0.000000   0.000000   \n",
              "log_clientAge                  0.000000      0.174910   0.991457   \n",
              "log_clientTimeAtEmployer       0.000000      0.091498   0.278882   \n",
              "log_clientNumberPhoneContacts  0.000000      0.048202   0.085370   \n",
              "log_clientAvgCallsPerDay       0.000000      0.084951  -0.109343   \n",
              "log_loanNumber                 0.000000     -0.025355  -0.068256   \n",
              "log_loanAmount                 0.000000      0.261396   0.182448   \n",
              "log_interestRate               0.000000     -0.121319  -0.153666   \n",
              "log_loanTerm                   0.000000      0.076835   0.076153   \n",
              "log_max_amount_taken           0.000000      0.000000   0.000000   \n",
              "log_max_tenor_taken            0.000000      0.000000   0.000000   \n",
              "log_settleDays                 0.000000      0.000000  -0.061324   \n",
              "log_firstpaymentRatio          0.000000      0.000000   0.000000   \n",
              "log_firstPaymentDefault        0.000000      0.000000   0.000000   \n",
              "log_clientAge_bin              0.000000      0.105327   0.872675   \n",
              "log_loanIncome_diff            0.000000      0.724858   0.180218   \n",
              "log_amount_diff                0.000000      0.000000   0.000000   \n",
              "log_reten_measure              0.000000      0.000000   0.000000   \n",
              "log_log_clientIncome           0.000000      0.828855   0.223868   \n",
              "log_clientIncome_bin           0.000000      0.845663   0.102829   \n",
              "log_incomeVerified_encode      0.000000      0.000000   0.000000   \n",
              "log_contactedPerDay            0.000000      0.048673  -0.162331   \n",
              "log_clientState_encode         0.000000      0.025928  -0.045693   \n",
              "log_deliquency_duration        0.000000     -0.057763   0.000000   \n",
              "log_intstall_paymnt            0.000000      0.318678   0.198091   \n",
              "log_BalanceIncome              0.000000      0.455612  -0.092608   \n",
              "\n",
              "                               clientTimeAtEmployer  \\\n",
              "clientId                                   0.000000   \n",
              "clientIncome                               0.125280   \n",
              "clientAge                                  0.339582   \n",
              "clientTimeAtEmployer                       1.000000   \n",
              "clientNumberPhoneContacts                  0.034022   \n",
              "clientAvgCallsPerDay                      -0.077688   \n",
              "loanNumber                                -0.042551   \n",
              "loanAmount                                 0.080959   \n",
              "interestRate                              -0.092005   \n",
              "loanTerm                                   0.044473   \n",
              "max_amount_taken                           0.040738   \n",
              "max_tenor_taken                            0.000000   \n",
              "settleDays                                 0.000000   \n",
              "firstpaymentRatio                          0.000000   \n",
              "firstPaymentDefault                        0.000000   \n",
              "loanDefault                                0.000000   \n",
              "clientAge_bin                              0.314228   \n",
              "loanIncome_diff                            0.106607   \n",
              "amount_diff                                0.069394   \n",
              "reten_measure                             -0.035405   \n",
              "log_clientIncome                           0.171660   \n",
              "clientIncome_bin                           0.155330   \n",
              "incomeVerified_encode                      0.061321   \n",
              "contactedPerDay                            0.000000   \n",
              "clientState_encode                         0.000000   \n",
              "deliquency_duration                        0.000000   \n",
              "intstall_paymnt                            0.089300   \n",
              "BalanceIncome                             -0.026723   \n",
              "log_clientId                               0.000000   \n",
              "log_clientAge                              0.355407   \n",
              "log_clientTimeAtEmployer                   0.936329   \n",
              "log_clientNumberPhoneContacts              0.039959   \n",
              "log_clientAvgCallsPerDay                  -0.085422   \n",
              "log_loanNumber                            -0.064860   \n",
              "log_loanAmount                             0.108027   \n",
              "log_interestRate                          -0.091335   \n",
              "log_loanTerm                               0.047383   \n",
              "log_max_amount_taken                       0.000000   \n",
              "log_max_tenor_taken                        0.000000   \n",
              "log_settleDays                             0.000000   \n",
              "log_firstpaymentRatio                      0.031237   \n",
              "log_firstPaymentDefault                    0.000000   \n",
              "log_clientAge_bin                          0.122679   \n",
              "log_loanIncome_diff                        0.135805   \n",
              "log_amount_diff                            0.000000   \n",
              "log_reten_measure                          0.000000   \n",
              "log_log_clientIncome                       0.172744   \n",
              "log_clientIncome_bin                       0.061954   \n",
              "log_incomeVerified_encode                  0.000000   \n",
              "log_contactedPerDay                       -0.109962   \n",
              "log_clientState_encode                    -0.051322   \n",
              "log_deliquency_duration                    0.000000   \n",
              "log_intstall_paymnt                        0.114812   \n",
              "log_BalanceIncome                          0.000000   \n",
              "\n",
              "                               clientNumberPhoneContacts  \\\n",
              "clientId                                        0.000000   \n",
              "clientIncome                                    0.049122   \n",
              "clientAge                                       0.079686   \n",
              "clientTimeAtEmployer                            0.034022   \n",
              "clientNumberPhoneContacts                       1.000000   \n",
              "clientAvgCallsPerDay                            0.261702   \n",
              "loanNumber                                      0.126658   \n",
              "loanAmount                                      0.157566   \n",
              "interestRate                                   -0.183935   \n",
              "loanTerm                                        0.143265   \n",
              "max_amount_taken                               -0.061803   \n",
              "max_tenor_taken                                -0.060655   \n",
              "settleDays                                     -0.026158   \n",
              "firstpaymentRatio                              -0.038213   \n",
              "firstPaymentDefault                            -0.034384   \n",
              "loanDefault                                    -0.028477   \n",
              "clientAge_bin                                   0.074911   \n",
              "loanIncome_diff                                 0.000000   \n",
              "amount_diff                                    -0.057743   \n",
              "reten_measure                                   0.098993   \n",
              "log_clientIncome                                0.046099   \n",
              "clientIncome_bin                                0.037414   \n",
              "incomeVerified_encode                           0.111062   \n",
              "contactedPerDay                                -0.035620   \n",
              "clientState_encode                              0.027576   \n",
              "deliquency_duration                            -0.040357   \n",
              "intstall_paymnt                                 0.107145   \n",
              "BalanceIncome                                  -0.086598   \n",
              "log_clientId                                    0.000000   \n",
              "log_clientAge                                   0.081878   \n",
              "log_clientTimeAtEmployer                        0.025988   \n",
              "log_clientNumberPhoneContacts                   0.722356   \n",
              "log_clientAvgCallsPerDay                        0.183416   \n",
              "log_loanNumber                                  0.145690   \n",
              "log_loanAmount                                  0.169326   \n",
              "log_interestRate                               -0.185281   \n",
              "log_loanTerm                                    0.143972   \n",
              "log_max_amount_taken                            0.000000   \n",
              "log_max_tenor_taken                             0.000000   \n",
              "log_settleDays                                 -0.039458   \n",
              "log_firstpaymentRatio                           0.000000   \n",
              "log_firstPaymentDefault                         0.000000   \n",
              "log_clientAge_bin                               0.034596   \n",
              "log_loanIncome_diff                             0.031991   \n",
              "log_amount_diff                                 0.000000   \n",
              "log_reten_measure                               0.000000   \n",
              "log_log_clientIncome                            0.044558   \n",
              "log_clientIncome_bin                            0.053907   \n",
              "log_incomeVerified_encode                       0.000000   \n",
              "log_contactedPerDay                            -0.293491   \n",
              "log_clientState_encode                          0.000000   \n",
              "log_deliquency_duration                         0.000000   \n",
              "log_intstall_paymnt                             0.104646   \n",
              "log_BalanceIncome                               0.000000   \n",
              "\n",
              "                               clientAvgCallsPerDay  loanNumber  loanAmount  \\\n",
              "clientId                                   0.000000    0.000000    0.000000   \n",
              "clientIncome                               0.063294    0.000000    0.287372   \n",
              "clientAge                                 -0.095028   -0.046518    0.146243   \n",
              "clientTimeAtEmployer                      -0.077688   -0.042551    0.080959   \n",
              "clientNumberPhoneContacts                  0.261702    0.126658    0.157566   \n",
              "clientAvgCallsPerDay                       1.000000    0.067146    0.087068   \n",
              "loanNumber                                 0.067146    1.000000    0.228146   \n",
              "loanAmount                                 0.087068    0.228146    1.000000   \n",
              "interestRate                              -0.088065   -0.300269   -0.621150   \n",
              "loanTerm                                   0.064188    0.250372    0.676446   \n",
              "max_amount_taken                          -0.038749   -0.223031    0.031585   \n",
              "max_tenor_taken                           -0.045181   -0.159891    0.000000   \n",
              "settleDays                                -0.026336   -0.070104   -0.051881   \n",
              "firstpaymentRatio                         -0.030077   -0.081390   -0.052564   \n",
              "firstPaymentDefault                       -0.027991   -0.057771   -0.069293   \n",
              "loanDefault                               -0.027286   -0.080460    0.000000   \n",
              "clientAge_bin                             -0.088962   -0.046084    0.134108   \n",
              "loanIncome_diff                            0.040066   -0.072301    0.000000   \n",
              "amount_diff                                0.000000   -0.117145   -0.204651   \n",
              "reten_measure                              0.053972    0.765290    0.186081   \n",
              "log_clientIncome                           0.062281    0.000000    0.293802   \n",
              "clientIncome_bin                           0.058423    0.000000    0.263308   \n",
              "incomeVerified_encode                      0.072560   -0.036619    0.400232   \n",
              "contactedPerDay                            0.090770    0.000000    0.000000   \n",
              "clientState_encode                         0.000000   -0.025818    0.000000   \n",
              "deliquency_duration                       -0.031367   -0.091669   -0.067860   \n",
              "intstall_paymnt                            0.072368    0.146803    0.735973   \n",
              "BalanceIncome                             -0.042260   -0.157054   -0.621804   \n",
              "log_clientId                               0.000000    0.000000    0.000000   \n",
              "log_clientAge                             -0.100186   -0.041597    0.152714   \n",
              "log_clientTimeAtEmployer                  -0.062506   -0.047483    0.056859   \n",
              "log_clientNumberPhoneContacts              0.234470    0.108204    0.155700   \n",
              "log_clientAvgCallsPerDay                   0.614828    0.035422    0.099663   \n",
              "log_loanNumber                             0.068713    0.908346    0.208843   \n",
              "log_loanAmount                             0.085490    0.272263    0.904109   \n",
              "log_interestRate                          -0.089043   -0.286978   -0.675318   \n",
              "log_loanTerm                               0.063604    0.262992    0.667024   \n",
              "log_max_amount_taken                       0.000000    0.000000    0.000000   \n",
              "log_max_tenor_taken                        0.000000    0.000000    0.000000   \n",
              "log_settleDays                            -0.028341   -0.108838   -0.064619   \n",
              "log_firstpaymentRatio                      0.000000   -0.028401    0.000000   \n",
              "log_firstPaymentDefault                    0.000000    0.000000    0.000000   \n",
              "log_clientAge_bin                         -0.026543   -0.057263    0.047465   \n",
              "log_loanIncome_diff                        0.045449   -0.031599    0.120044   \n",
              "log_amount_diff                            0.000000    0.000000    0.000000   \n",
              "log_reten_measure                          0.000000    0.000000    0.000000   \n",
              "log_log_clientIncome                       0.060951    0.000000    0.288939   \n",
              "log_clientIncome_bin                       0.054328    0.000000    0.191333   \n",
              "log_incomeVerified_encode                  0.000000    0.000000    0.000000   \n",
              "log_contactedPerDay                        0.441246   -0.041611    0.000000   \n",
              "log_clientState_encode                     0.000000    0.000000    0.030801   \n",
              "log_deliquency_duration                   -0.047102   -0.044169    0.105775   \n",
              "log_intstall_paymnt                        0.062652    0.134230    0.668652   \n",
              "log_BalanceIncome                          0.000000    0.000000   -0.115511   \n",
              "\n",
              "                               interestRate  loanTerm        ...          \\\n",
              "clientId                           0.000000  0.000000        ...           \n",
              "clientIncome                      -0.127846  0.073712        ...           \n",
              "clientAge                         -0.160300  0.073489        ...           \n",
              "clientTimeAtEmployer              -0.092005  0.044473        ...           \n",
              "clientNumberPhoneContacts         -0.183935  0.143265        ...           \n",
              "clientAvgCallsPerDay              -0.088065  0.064188        ...           \n",
              "loanNumber                        -0.300269  0.250372        ...           \n",
              "loanAmount                        -0.621150  0.676446        ...           \n",
              "interestRate                       1.000000 -0.739680        ...           \n",
              "loanTerm                          -0.739680  1.000000        ...           \n",
              "max_amount_taken                   0.219889 -0.124663        ...           \n",
              "max_tenor_taken                    0.150607  0.090900        ...           \n",
              "settleDays                         0.116105 -0.047970        ...           \n",
              "firstpaymentRatio                  0.110921 -0.059454        ...           \n",
              "firstPaymentDefault                0.128876 -0.064178        ...           \n",
              "loanDefault                        0.079144  0.000000        ...           \n",
              "clientAge_bin                     -0.144554  0.066085        ...           \n",
              "loanIncome_diff                    0.052120 -0.125161        ...           \n",
              "amount_diff                        0.203466 -0.255259        ...           \n",
              "reten_measure                     -0.245361  0.214847        ...           \n",
              "log_clientIncome                  -0.185084  0.118008        ...           \n",
              "clientIncome_bin                  -0.131435  0.069372        ...           \n",
              "incomeVerified_encode             -0.420027  0.381755        ...           \n",
              "contactedPerDay                    0.000000  0.000000        ...           \n",
              "clientState_encode                 0.035558  0.000000        ...           \n",
              "deliquency_duration                0.121933 -0.074737        ...           \n",
              "intstall_paymnt                   -0.333816  0.108801        ...           \n",
              "BalanceIncome                      0.283379 -0.075093        ...           \n",
              "log_clientId                       0.000000  0.000000        ...           \n",
              "log_clientAge                     -0.170578  0.080375        ...           \n",
              "log_clientTimeAtEmployer          -0.057356  0.026456        ...           \n",
              "log_clientNumberPhoneContacts     -0.205814  0.140981        ...           \n",
              "log_clientAvgCallsPerDay          -0.109911  0.061774        ...           \n",
              "log_loanNumber                    -0.309565  0.300163        ...           \n",
              "log_loanAmount                    -0.784015  0.747224        ...           \n",
              "log_interestRate                   0.976304 -0.810273        ...           \n",
              "log_loanTerm                      -0.774955  0.986458        ...           \n",
              "log_max_amount_taken               0.000000  0.000000        ...           \n",
              "log_max_tenor_taken                0.000000  0.000000        ...           \n",
              "log_settleDays                     0.131931 -0.076554        ...           \n",
              "log_firstpaymentRatio              0.000000  0.000000        ...           \n",
              "log_firstPaymentDefault            0.000000  0.000000        ...           \n",
              "log_clientAge_bin                 -0.037632  0.000000        ...           \n",
              "log_loanIncome_diff               -0.046633 -0.048772        ...           \n",
              "log_amount_diff                    0.000000  0.000000        ...           \n",
              "log_reten_measure                  0.000000  0.000000        ...           \n",
              "log_log_clientIncome              -0.187537  0.120678        ...           \n",
              "log_clientIncome_bin              -0.063665  0.034086        ...           \n",
              "log_incomeVerified_encode          0.000000  0.000000        ...           \n",
              "log_contactedPerDay                0.029623 -0.035109        ...           \n",
              "log_clientState_encode             0.000000  0.000000        ...           \n",
              "log_deliquency_duration           -0.025485  0.191294        ...           \n",
              "log_intstall_paymnt               -0.367474  0.082398        ...           \n",
              "log_BalanceIncome                  0.086190  0.000000        ...           \n",
              "\n",
              "                               log_amount_diff  log_reten_measure  \\\n",
              "clientId                                     0                  0   \n",
              "clientIncome                                 0                  0   \n",
              "clientAge                                    0                  0   \n",
              "clientTimeAtEmployer                         0                  0   \n",
              "clientNumberPhoneContacts                    0                  0   \n",
              "clientAvgCallsPerDay                         0                  0   \n",
              "loanNumber                                   0                  0   \n",
              "loanAmount                                   0                  0   \n",
              "interestRate                                 0                  0   \n",
              "loanTerm                                     0                  0   \n",
              "max_amount_taken                             0                  0   \n",
              "max_tenor_taken                              0                  0   \n",
              "settleDays                                   0                  0   \n",
              "firstpaymentRatio                            0                  0   \n",
              "firstPaymentDefault                          0                  0   \n",
              "loanDefault                                  0                  0   \n",
              "clientAge_bin                                0                  0   \n",
              "loanIncome_diff                              0                  0   \n",
              "amount_diff                                  0                  0   \n",
              "reten_measure                                0                  0   \n",
              "log_clientIncome                             0                  0   \n",
              "clientIncome_bin                             0                  0   \n",
              "incomeVerified_encode                        0                  0   \n",
              "contactedPerDay                              0                  0   \n",
              "clientState_encode                           0                  0   \n",
              "deliquency_duration                          0                  0   \n",
              "intstall_paymnt                              0                  0   \n",
              "BalanceIncome                                0                  0   \n",
              "log_clientId                                 0                  0   \n",
              "log_clientAge                                0                  0   \n",
              "log_clientTimeAtEmployer                     0                  0   \n",
              "log_clientNumberPhoneContacts                0                  0   \n",
              "log_clientAvgCallsPerDay                     0                  0   \n",
              "log_loanNumber                               0                  0   \n",
              "log_loanAmount                               0                  0   \n",
              "log_interestRate                             0                  0   \n",
              "log_loanTerm                                 0                  0   \n",
              "log_max_amount_taken                         0                  0   \n",
              "log_max_tenor_taken                          0                  0   \n",
              "log_settleDays                               0                  0   \n",
              "log_firstpaymentRatio                        0                  0   \n",
              "log_firstPaymentDefault                      0                  0   \n",
              "log_clientAge_bin                            0                  0   \n",
              "log_loanIncome_diff                          0                  0   \n",
              "log_amount_diff                              0                  0   \n",
              "log_reten_measure                            0                  0   \n",
              "log_log_clientIncome                         0                  0   \n",
              "log_clientIncome_bin                         0                  0   \n",
              "log_incomeVerified_encode                    0                  0   \n",
              "log_contactedPerDay                          0                  0   \n",
              "log_clientState_encode                       0                  0   \n",
              "log_deliquency_duration                      0                  0   \n",
              "log_intstall_paymnt                          0                  0   \n",
              "log_BalanceIncome                            0                  0   \n",
              "\n",
              "                               log_log_clientIncome  log_clientIncome_bin  \\\n",
              "clientId                                   0.000000              0.000000   \n",
              "clientIncome                               0.828855              0.845663   \n",
              "clientAge                                  0.223868              0.102829   \n",
              "clientTimeAtEmployer                       0.172744              0.061954   \n",
              "clientNumberPhoneContacts                  0.044558              0.053907   \n",
              "clientAvgCallsPerDay                       0.060951              0.054328   \n",
              "loanNumber                                 0.000000              0.000000   \n",
              "loanAmount                                 0.288939              0.191333   \n",
              "interestRate                              -0.187537             -0.063665   \n",
              "loanTerm                                   0.120678              0.034086   \n",
              "max_amount_taken                           0.000000              0.055935   \n",
              "max_tenor_taken                           -0.095936              0.000000   \n",
              "settleDays                                -0.047389              0.000000   \n",
              "firstpaymentRatio                         -0.029298              0.000000   \n",
              "firstPaymentDefault                       -0.065257              0.000000   \n",
              "loanDefault                               -0.049881              0.000000   \n",
              "clientAge_bin                              0.206575              0.094670   \n",
              "loanIncome_diff                            0.779022              0.803514   \n",
              "amount_diff                                0.547411              0.088325   \n",
              "reten_measure                              0.000000              0.000000   \n",
              "log_clientIncome                           0.998314              0.845227   \n",
              "clientIncome_bin                           0.896467              0.992916   \n",
              "incomeVerified_encode                      0.185516              0.000000   \n",
              "contactedPerDay                            0.000000              0.000000   \n",
              "clientState_encode                        -0.027394              0.000000   \n",
              "deliquency_duration                       -0.042706              0.000000   \n",
              "intstall_paymnt                            0.316315              0.246158   \n",
              "BalanceIncome                              0.112870              0.158375   \n",
              "log_clientId                               0.000000              0.000000   \n",
              "log_clientAge                              0.228598              0.100915   \n",
              "log_clientTimeAtEmployer                   0.124808              0.047322   \n",
              "log_clientNumberPhoneContacts              0.043126              0.053206   \n",
              "log_clientAvgCallsPerDay                   0.091745              0.072198   \n",
              "log_loanNumber                            -0.029466              0.000000   \n",
              "log_loanAmount                             0.299750              0.166294   \n",
              "log_interestRate                          -0.180396             -0.059545   \n",
              "log_loanTerm                               0.126192              0.033254   \n",
              "log_max_amount_taken                       0.000000              0.000000   \n",
              "log_max_tenor_taken                        0.000000              0.000000   \n",
              "log_settleDays                            -0.035157              0.000000   \n",
              "log_firstpaymentRatio                      0.036504              0.000000   \n",
              "log_firstPaymentDefault                    0.000000              0.000000   \n",
              "log_clientAge_bin                          0.116220              0.079275   \n",
              "log_loanIncome_diff                        0.875318              0.711956   \n",
              "log_amount_diff                            0.000000              0.000000   \n",
              "log_reten_measure                          0.000000              0.000000   \n",
              "log_log_clientIncome                       1.000000              0.837687   \n",
              "log_clientIncome_bin                       0.837687              1.000000   \n",
              "log_incomeVerified_encode                  0.000000              0.000000   \n",
              "log_contactedPerDay                        0.058993              0.032251   \n",
              "log_clientState_encode                     0.034822              0.000000   \n",
              "log_deliquency_duration                   -0.070100             -0.039023   \n",
              "log_intstall_paymnt                        0.324287              0.224028   \n",
              "log_BalanceIncome                          0.513815              0.456258   \n",
              "\n",
              "                               log_incomeVerified_encode  log_contactedPerDay  \\\n",
              "clientId                                               0             0.000000   \n",
              "clientIncome                                           0             0.048673   \n",
              "clientAge                                              0            -0.162331   \n",
              "clientTimeAtEmployer                                   0            -0.109962   \n",
              "clientNumberPhoneContacts                              0            -0.293491   \n",
              "clientAvgCallsPerDay                                   0             0.441246   \n",
              "loanNumber                                             0            -0.041611   \n",
              "loanAmount                                             0             0.000000   \n",
              "interestRate                                           0             0.029623   \n",
              "loanTerm                                               0            -0.035109   \n",
              "max_amount_taken                                       0             0.000000   \n",
              "max_tenor_taken                                        0             0.000000   \n",
              "settleDays                                             0             0.000000   \n",
              "firstpaymentRatio                                      0             0.000000   \n",
              "firstPaymentDefault                                    0             0.000000   \n",
              "loanDefault                                            0             0.000000   \n",
              "clientAge_bin                                          0            -0.151579   \n",
              "loanIncome_diff                                        0             0.053144   \n",
              "amount_diff                                            0             0.053929   \n",
              "reten_measure                                          0            -0.025971   \n",
              "log_clientIncome                                       0             0.059008   \n",
              "clientIncome_bin                                       0             0.054057   \n",
              "incomeVerified_encode                                  0             0.000000   \n",
              "contactedPerDay                                        0             0.141390   \n",
              "clientState_encode                                     0            -0.045354   \n",
              "deliquency_duration                                    0             0.000000   \n",
              "intstall_paymnt                                        0             0.000000   \n",
              "BalanceIncome                                          0             0.000000   \n",
              "log_clientId                                           0             0.000000   \n",
              "log_clientAge                                          0            -0.168078   \n",
              "log_clientTimeAtEmployer                               0            -0.088337   \n",
              "log_clientNumberPhoneContacts                          0            -0.390133   \n",
              "log_clientAvgCallsPerDay                               0             0.792226   \n",
              "log_loanNumber                                         0            -0.059300   \n",
              "log_loanAmount                                         0             0.000000   \n",
              "log_interestRate                                       0             0.028220   \n",
              "log_loanTerm                                           0            -0.037744   \n",
              "log_max_amount_taken                                   0             0.000000   \n",
              "log_max_tenor_taken                                    0             0.000000   \n",
              "log_settleDays                                         0             0.000000   \n",
              "log_firstpaymentRatio                                  0             0.000000   \n",
              "log_firstPaymentDefault                                0             0.000000   \n",
              "log_clientAge_bin                                      0            -0.062781   \n",
              "log_loanIncome_diff                                    0             0.045428   \n",
              "log_amount_diff                                        0             0.000000   \n",
              "log_reten_measure                                      0             0.000000   \n",
              "log_log_clientIncome                                   0             0.058993   \n",
              "log_clientIncome_bin                                   0             0.032251   \n",
              "log_incomeVerified_encode                              0             0.000000   \n",
              "log_contactedPerDay                                    0             1.000000   \n",
              "log_clientState_encode                                 0             0.000000   \n",
              "log_deliquency_duration                                0            -0.049666   \n",
              "log_intstall_paymnt                                    0             0.000000   \n",
              "log_BalanceIncome                                      0             0.000000   \n",
              "\n",
              "                               log_clientState_encode  \\\n",
              "clientId                                     0.000000   \n",
              "clientIncome                                 0.025928   \n",
              "clientAge                                   -0.045693   \n",
              "clientTimeAtEmployer                        -0.051322   \n",
              "clientNumberPhoneContacts                    0.000000   \n",
              "clientAvgCallsPerDay                         0.000000   \n",
              "loanNumber                                   0.000000   \n",
              "loanAmount                                   0.030801   \n",
              "interestRate                                 0.000000   \n",
              "loanTerm                                     0.000000   \n",
              "max_amount_taken                             0.000000   \n",
              "max_tenor_taken                              0.000000   \n",
              "settleDays                                  -0.048519   \n",
              "firstpaymentRatio                           -0.049747   \n",
              "firstPaymentDefault                         -0.038684   \n",
              "loanDefault                                 -0.036343   \n",
              "clientAge_bin                               -0.043856   \n",
              "loanIncome_diff                              0.000000   \n",
              "amount_diff                                  0.031589   \n",
              "reten_measure                                0.026541   \n",
              "log_clientIncome                             0.034756   \n",
              "clientIncome_bin                             0.028948   \n",
              "incomeVerified_encode                        0.045842   \n",
              "contactedPerDay                              0.000000   \n",
              "clientState_encode                           0.965111   \n",
              "deliquency_duration                         -0.054601   \n",
              "intstall_paymnt                              0.025430   \n",
              "BalanceIncome                                0.000000   \n",
              "log_clientId                                 0.000000   \n",
              "log_clientAge                               -0.042514   \n",
              "log_clientTimeAtEmployer                    -0.045577   \n",
              "log_clientNumberPhoneContacts                0.029076   \n",
              "log_clientAvgCallsPerDay                     0.000000   \n",
              "log_loanNumber                               0.000000   \n",
              "log_loanAmount                               0.000000   \n",
              "log_interestRate                             0.000000   \n",
              "log_loanTerm                                 0.000000   \n",
              "log_max_amount_taken                         0.000000   \n",
              "log_max_tenor_taken                          0.000000   \n",
              "log_settleDays                              -0.053990   \n",
              "log_firstpaymentRatio                        0.000000   \n",
              "log_firstPaymentDefault                      0.000000   \n",
              "log_clientAge_bin                           -0.043523   \n",
              "log_loanIncome_diff                          0.000000   \n",
              "log_amount_diff                              0.000000   \n",
              "log_reten_measure                            0.000000   \n",
              "log_log_clientIncome                         0.034822   \n",
              "log_clientIncome_bin                         0.000000   \n",
              "log_incomeVerified_encode                    0.000000   \n",
              "log_contactedPerDay                          0.000000   \n",
              "log_clientState_encode                       1.000000   \n",
              "log_deliquency_duration                     -0.052947   \n",
              "log_intstall_paymnt                          0.000000   \n",
              "log_BalanceIncome                            0.043818   \n",
              "\n",
              "                               log_deliquency_duration  log_intstall_paymnt  \\\n",
              "clientId                                      0.000000             0.000000   \n",
              "clientIncome                                 -0.057763             0.318678   \n",
              "clientAge                                     0.000000             0.198091   \n",
              "clientTimeAtEmployer                          0.000000             0.114812   \n",
              "clientNumberPhoneContacts                     0.000000             0.104646   \n",
              "clientAvgCallsPerDay                         -0.047102             0.062652   \n",
              "loanNumber                                   -0.044169             0.134230   \n",
              "loanAmount                                    0.105775             0.668652   \n",
              "interestRate                                 -0.025485            -0.367474   \n",
              "loanTerm                                      0.191294             0.082398   \n",
              "max_amount_taken                              0.102870             0.215868   \n",
              "max_tenor_taken                               0.179589            -0.056716   \n",
              "settleDays                                    0.618777            -0.037275   \n",
              "firstpaymentRatio                             0.579242             0.000000   \n",
              "firstPaymentDefault                           0.777232            -0.045943   \n",
              "loanDefault                                   0.947438            -0.043000   \n",
              "clientAge_bin                                 0.000000             0.181867   \n",
              "loanIncome_diff                              -0.086926             0.132922   \n",
              "amount_diff                                  -0.105738            -0.107113   \n",
              "reten_measure                                -0.054710             0.085221   \n",
              "log_clientIncome                             -0.070117             0.330511   \n",
              "clientIncome_bin                             -0.068304             0.324908   \n",
              "incomeVerified_encode                         0.000000             0.150128   \n",
              "contactedPerDay                               0.000000             0.000000   \n",
              "clientState_encode                            0.000000            -0.036997   \n",
              "deliquency_duration                           0.956056             0.000000   \n",
              "intstall_paymnt                              -0.043752             0.905722   \n",
              "BalanceIncome                                 0.000000            -0.784069   \n",
              "log_clientId                                  0.000000             0.000000   \n",
              "log_clientAge                                 0.000000             0.204524   \n",
              "log_clientTimeAtEmployer                      0.026777             0.084603   \n",
              "log_clientNumberPhoneContacts                 0.000000             0.113972   \n",
              "log_clientAvgCallsPerDay                     -0.066776             0.090968   \n",
              "log_loanNumber                                0.000000             0.061559   \n",
              "log_loanAmount                                0.116459             0.713862   \n",
              "log_interestRate                             -0.048491            -0.336344   \n",
              "log_loanTerm                                  0.199765             0.089799   \n",
              "log_max_amount_taken                          0.000000             0.000000   \n",
              "log_max_tenor_taken                           0.000000             0.000000   \n",
              "log_settleDays                                0.000000             0.000000   \n",
              "log_firstpaymentRatio                         0.000000             0.000000   \n",
              "log_firstPaymentDefault                       0.000000             0.000000   \n",
              "log_clientAge_bin                             0.000000             0.082538   \n",
              "log_loanIncome_diff                          -0.076009             0.245114   \n",
              "log_amount_diff                               0.000000             0.000000   \n",
              "log_reten_measure                             0.000000             0.000000   \n",
              "log_log_clientIncome                         -0.070100             0.324287   \n",
              "log_clientIncome_bin                         -0.039023             0.224028   \n",
              "log_incomeVerified_encode                     0.000000             0.000000   \n",
              "log_contactedPerDay                          -0.049666             0.000000   \n",
              "log_clientState_encode                       -0.052947             0.000000   \n",
              "log_deliquency_duration                       1.000000            -0.044730   \n",
              "log_intstall_paymnt                          -0.044730             1.000000   \n",
              "log_BalanceIncome                             0.056352            -0.203064   \n",
              "\n",
              "                               log_BalanceIncome  \n",
              "clientId                                0.000000  \n",
              "clientIncome                            0.455612  \n",
              "clientAge                              -0.092608  \n",
              "clientTimeAtEmployer                    0.000000  \n",
              "clientNumberPhoneContacts               0.000000  \n",
              "clientAvgCallsPerDay                    0.000000  \n",
              "loanNumber                              0.000000  \n",
              "loanAmount                             -0.115511  \n",
              "interestRate                            0.086190  \n",
              "loanTerm                                0.000000  \n",
              "max_amount_taken                       -0.028063  \n",
              "max_tenor_taken                         0.000000  \n",
              "settleDays                              0.050665  \n",
              "firstpaymentRatio                       0.030503  \n",
              "firstPaymentDefault                     0.056459  \n",
              "loanDefault                             0.040166  \n",
              "clientAge_bin                          -0.083101  \n",
              "loanIncome_diff                         0.483482  \n",
              "amount_diff                             0.000000  \n",
              "reten_measure                           0.000000  \n",
              "log_clientIncome                        0.513522  \n",
              "clientIncome_bin                        0.456258  \n",
              "incomeVerified_encode                   0.000000  \n",
              "contactedPerDay                         0.031565  \n",
              "clientState_encode                      0.057210  \n",
              "deliquency_duration                     0.000000  \n",
              "intstall_paymnt                        -0.220359  \n",
              "BalanceIncome                           0.723078  \n",
              "log_clientId                            0.000000  \n",
              "log_clientAge                          -0.096968  \n",
              "log_clientTimeAtEmployer                0.000000  \n",
              "log_clientNumberPhoneContacts          -0.048693  \n",
              "log_clientAvgCallsPerDay               -0.040183  \n",
              "log_loanNumber                          0.000000  \n",
              "log_loanAmount                         -0.121570  \n",
              "log_interestRate                        0.082249  \n",
              "log_loanTerm                            0.000000  \n",
              "log_max_amount_taken                    0.000000  \n",
              "log_max_tenor_taken                     0.000000  \n",
              "log_settleDays                          0.053092  \n",
              "log_firstpaymentRatio                   0.000000  \n",
              "log_firstPaymentDefault                 0.000000  \n",
              "log_clientAge_bin                       0.000000  \n",
              "log_loanIncome_diff                     0.543381  \n",
              "log_amount_diff                         0.000000  \n",
              "log_reten_measure                       0.000000  \n",
              "log_log_clientIncome                    0.513815  \n",
              "log_clientIncome_bin                    0.456258  \n",
              "log_incomeVerified_encode               0.000000  \n",
              "log_contactedPerDay                     0.000000  \n",
              "log_clientState_encode                  0.043818  \n",
              "log_deliquency_duration                 0.056352  \n",
              "log_intstall_paymnt                    -0.203064  \n",
              "log_BalanceIncome                       1.000000  \n",
              "\n",
              "[54 rows x 54 columns]"
            ]
          },
          "metadata": {
            "tags": []
          },
          "execution_count": 172
        }
      ]
    },
    {
      "cell_type": "code",
      "metadata": {
        "id": "9tqhysR4WhNR",
        "colab_type": "code",
        "colab": {}
      },
      "source": [
        "# re-arrange to make loanDefault positioned as the last column\n",
        "c_corr_sorted = c_corr.reindex(columns=( list([a for a in c_corr.columns if a != 'loanDefault']) +['loanDefault'] ),\n",
        "                      index=( list([a for a in c_corr.columns if a != 'loanDefault']) +['loanDefault']))"
      ],
      "execution_count": 0,
      "outputs": []
    },
    {
      "cell_type": "code",
      "metadata": {
        "id": "lYnsewQUW2Ow",
        "colab_type": "code",
        "colab": {}
      },
      "source": [
        ""
      ],
      "execution_count": 0,
      "outputs": []
    },
    {
      "cell_type": "code",
      "metadata": {
        "id": "yapsxI0LW-TV",
        "colab_type": "code",
        "outputId": "7d5d307d-d6fb-4443-f92c-cb59969d04ed",
        "colab": {
          "base_uri": "https://localhost:8080/",
          "height": 1025
        }
      },
      "source": [
        "# select variables that have good correlation with loanDefault\n",
        "correlated_var=c_corr.loc[c_corr.loanDefault != 0 ,'loanDefault']\n",
        "correlated_var.sort_values().to_frame()"
      ],
      "execution_count": 0,
      "outputs": [
        {
          "output_type": "execute_result",
          "data": {
            "text/html": [
              "<div>\n",
              "<style scoped>\n",
              "    .dataframe tbody tr th:only-of-type {\n",
              "        vertical-align: middle;\n",
              "    }\n",
              "\n",
              "    .dataframe tbody tr th {\n",
              "        vertical-align: top;\n",
              "    }\n",
              "\n",
              "    .dataframe thead th {\n",
              "        text-align: right;\n",
              "    }\n",
              "</style>\n",
              "<table border=\"1\" class=\"dataframe\">\n",
              "  <thead>\n",
              "    <tr style=\"text-align: right;\">\n",
              "      <th></th>\n",
              "      <th>loanDefault</th>\n",
              "    </tr>\n",
              "  </thead>\n",
              "  <tbody>\n",
              "    <tr>\n",
              "      <th>loanNumber</th>\n",
              "      <td>-0.080460</td>\n",
              "    </tr>\n",
              "    <tr>\n",
              "      <th>reten_measure</th>\n",
              "      <td>-0.075902</td>\n",
              "    </tr>\n",
              "    <tr>\n",
              "      <th>log_loanNumber</th>\n",
              "      <td>-0.069431</td>\n",
              "    </tr>\n",
              "    <tr>\n",
              "      <th>log_clientAge</th>\n",
              "      <td>-0.053085</td>\n",
              "    </tr>\n",
              "    <tr>\n",
              "      <th>log_log_clientIncome</th>\n",
              "      <td>-0.049881</td>\n",
              "    </tr>\n",
              "    <tr>\n",
              "      <th>incomeVerified_encode</th>\n",
              "      <td>-0.049548</td>\n",
              "    </tr>\n",
              "    <tr>\n",
              "      <th>log_clientIncome</th>\n",
              "      <td>-0.049367</td>\n",
              "    </tr>\n",
              "    <tr>\n",
              "      <th>clientAge</th>\n",
              "      <td>-0.048228</td>\n",
              "    </tr>\n",
              "    <tr>\n",
              "      <th>intstall_paymnt</th>\n",
              "      <td>-0.045617</td>\n",
              "    </tr>\n",
              "    <tr>\n",
              "      <th>log_intstall_paymnt</th>\n",
              "      <td>-0.043000</td>\n",
              "    </tr>\n",
              "    <tr>\n",
              "      <th>clientIncome_bin</th>\n",
              "      <td>-0.042590</td>\n",
              "    </tr>\n",
              "    <tr>\n",
              "      <th>clientAge_bin</th>\n",
              "      <td>-0.042138</td>\n",
              "    </tr>\n",
              "    <tr>\n",
              "      <th>log_clientAvgCallsPerDay</th>\n",
              "      <td>-0.038175</td>\n",
              "    </tr>\n",
              "    <tr>\n",
              "      <th>amount_diff</th>\n",
              "      <td>-0.036371</td>\n",
              "    </tr>\n",
              "    <tr>\n",
              "      <th>log_clientState_encode</th>\n",
              "      <td>-0.036343</td>\n",
              "    </tr>\n",
              "    <tr>\n",
              "      <th>log_clientNumberPhoneContacts</th>\n",
              "      <td>-0.036292</td>\n",
              "    </tr>\n",
              "    <tr>\n",
              "      <th>clientIncome</th>\n",
              "      <td>-0.035201</td>\n",
              "    </tr>\n",
              "    <tr>\n",
              "      <th>log_loanIncome_diff</th>\n",
              "      <td>-0.035142</td>\n",
              "    </tr>\n",
              "    <tr>\n",
              "      <th>loanIncome_diff</th>\n",
              "      <td>-0.031577</td>\n",
              "    </tr>\n",
              "    <tr>\n",
              "      <th>clientNumberPhoneContacts</th>\n",
              "      <td>-0.028477</td>\n",
              "    </tr>\n",
              "    <tr>\n",
              "      <th>clientAvgCallsPerDay</th>\n",
              "      <td>-0.027286</td>\n",
              "    </tr>\n",
              "    <tr>\n",
              "      <th>BalanceIncome</th>\n",
              "      <td>0.029169</td>\n",
              "    </tr>\n",
              "    <tr>\n",
              "      <th>log_BalanceIncome</th>\n",
              "      <td>0.040166</td>\n",
              "    </tr>\n",
              "    <tr>\n",
              "      <th>log_interestRate</th>\n",
              "      <td>0.069271</td>\n",
              "    </tr>\n",
              "    <tr>\n",
              "      <th>interestRate</th>\n",
              "      <td>0.079144</td>\n",
              "    </tr>\n",
              "    <tr>\n",
              "      <th>max_amount_taken</th>\n",
              "      <td>0.100787</td>\n",
              "    </tr>\n",
              "    <tr>\n",
              "      <th>max_tenor_taken</th>\n",
              "      <td>0.104165</td>\n",
              "    </tr>\n",
              "    <tr>\n",
              "      <th>firstpaymentRatio</th>\n",
              "      <td>0.565268</td>\n",
              "    </tr>\n",
              "    <tr>\n",
              "      <th>firstPaymentDefault</th>\n",
              "      <td>0.624008</td>\n",
              "    </tr>\n",
              "    <tr>\n",
              "      <th>settleDays</th>\n",
              "      <td>0.626700</td>\n",
              "    </tr>\n",
              "    <tr>\n",
              "      <th>log_settleDays</th>\n",
              "      <td>0.641947</td>\n",
              "    </tr>\n",
              "    <tr>\n",
              "      <th>deliquency_duration</th>\n",
              "      <td>0.679552</td>\n",
              "    </tr>\n",
              "    <tr>\n",
              "      <th>log_deliquency_duration</th>\n",
              "      <td>0.947438</td>\n",
              "    </tr>\n",
              "    <tr>\n",
              "      <th>loanDefault</th>\n",
              "      <td>1.000000</td>\n",
              "    </tr>\n",
              "  </tbody>\n",
              "</table>\n",
              "</div>"
            ],
            "text/plain": [
              "                               loanDefault\n",
              "loanNumber                       -0.080460\n",
              "reten_measure                    -0.075902\n",
              "log_loanNumber                   -0.069431\n",
              "log_clientAge                    -0.053085\n",
              "log_log_clientIncome             -0.049881\n",
              "incomeVerified_encode            -0.049548\n",
              "log_clientIncome                 -0.049367\n",
              "clientAge                        -0.048228\n",
              "intstall_paymnt                  -0.045617\n",
              "log_intstall_paymnt              -0.043000\n",
              "clientIncome_bin                 -0.042590\n",
              "clientAge_bin                    -0.042138\n",
              "log_clientAvgCallsPerDay         -0.038175\n",
              "amount_diff                      -0.036371\n",
              "log_clientState_encode           -0.036343\n",
              "log_clientNumberPhoneContacts    -0.036292\n",
              "clientIncome                     -0.035201\n",
              "log_loanIncome_diff              -0.035142\n",
              "loanIncome_diff                  -0.031577\n",
              "clientNumberPhoneContacts        -0.028477\n",
              "clientAvgCallsPerDay             -0.027286\n",
              "BalanceIncome                     0.029169\n",
              "log_BalanceIncome                 0.040166\n",
              "log_interestRate                  0.069271\n",
              "interestRate                      0.079144\n",
              "max_amount_taken                  0.100787\n",
              "max_tenor_taken                   0.104165\n",
              "firstpaymentRatio                 0.565268\n",
              "firstPaymentDefault               0.624008\n",
              "settleDays                        0.626700\n",
              "log_settleDays                    0.641947\n",
              "deliquency_duration               0.679552\n",
              "log_deliquency_duration           0.947438\n",
              "loanDefault                       1.000000"
            ]
          },
          "metadata": {
            "tags": []
          },
          "execution_count": 175
        }
      ]
    },
    {
      "cell_type": "code",
      "metadata": {
        "id": "peqpQ5kbXjyh",
        "colab_type": "code",
        "outputId": "078f74ce-fe5b-42a5-c081-dc1285aa29d8",
        "colab": {
          "base_uri": "https://localhost:8080/",
          "height": 33
        }
      },
      "source": [
        "# Select the categorical columns\n",
        "\n",
        "categorical_subset = ['clientState','clientLoanPurpose','clientResidentialStauts']\n",
        "# One hot encode\n",
        "categorical_subset = pd.get_dummies(df[categorical_subset])\n",
        "\n",
        "# Join the two dataframes using concat\n",
        "# Make sure to use axis = 1 to perform a column bind\n",
        "features = pd.concat([numeric_subset[correlated_var.index], categorical_subset], axis = 1)\n",
        "\n",
        "features.shape"
      ],
      "execution_count": 0,
      "outputs": [
        {
          "output_type": "execute_result",
          "data": {
            "text/plain": [
              "(159596, 52)"
            ]
          },
          "metadata": {
            "tags": []
          },
          "execution_count": 177
        }
      ]
    },
    {
      "cell_type": "code",
      "metadata": {
        "id": "9XTvB6ewXxLZ",
        "colab_type": "code",
        "outputId": "13aecb8a-9d5a-4189-b1cd-fded640405f5",
        "colab": {
          "base_uri": "https://localhost:8080/",
          "height": 33
        }
      },
      "source": [
        "#drop any null or na\n",
        "features = features.dropna(axis=1, how = 'all')\n",
        "features.shape"
      ],
      "execution_count": 0,
      "outputs": [
        {
          "output_type": "execute_result",
          "data": {
            "text/plain": [
              "(159596, 52)"
            ]
          },
          "metadata": {
            "tags": []
          },
          "execution_count": 178
        }
      ]
    },
    {
      "cell_type": "code",
      "metadata": {
        "id": "WoHuZYY6Yvwo",
        "colab_type": "code",
        "colab": {}
      },
      "source": [
        "# split into targeta and predictor\n",
        "target = features['loanDefault']\n",
        "features.drop(columns = ['loanDefault'],inplace=True)"
      ],
      "execution_count": 0,
      "outputs": []
    },
    {
      "cell_type": "code",
      "metadata": {
        "id": "pDqBEKBeX7hh",
        "colab_type": "code",
        "colab": {}
      },
      "source": [
        "# Replace the inf and -inf with nan (required for later imputation)\n",
        "features = features.replace({np.inf: np.nan, -np.inf: np.nan})"
      ],
      "execution_count": 0,
      "outputs": []
    },
    {
      "cell_type": "code",
      "metadata": {
        "id": "i6-K8b_KYBOh",
        "colab_type": "code",
        "outputId": "b9a21b27-cfe9-42d6-e543-4f4e55a18ba3",
        "colab": {
          "base_uri": "https://localhost:8080/",
          "height": 33
        }
      },
      "source": [
        "features.shape"
      ],
      "execution_count": 0,
      "outputs": [
        {
          "output_type": "execute_result",
          "data": {
            "text/plain": [
              "(159596, 52)"
            ]
          },
          "metadata": {
            "tags": []
          },
          "execution_count": 180
        }
      ]
    },
    {
      "cell_type": "code",
      "metadata": {
        "id": "33HWhxt4YDeu",
        "colab_type": "code",
        "outputId": "4efdce66-4365-4a1c-86ab-f7ff989c0ca8",
        "colab": {
          "base_uri": "https://localhost:8080/",
          "height": 66
        }
      },
      "source": [
        "target.value_counts()"
      ],
      "execution_count": 0,
      "outputs": [
        {
          "output_type": "execute_result",
          "data": {
            "text/plain": [
              "0    114926\n",
              "1     44670\n",
              "Name: loanDefault, dtype: int64"
            ]
          },
          "metadata": {
            "tags": []
          },
          "execution_count": 183
        }
      ]
    },
    {
      "cell_type": "code",
      "metadata": {
        "id": "Z4aaLMn_Y_nB",
        "colab_type": "code",
        "outputId": "286f65a7-2317-4838-bc44-7f71d48eb377",
        "colab": {
          "base_uri": "https://localhost:8080/",
          "height": 437
        }
      },
      "source": [
        "# visualize the Credit_History to get glimpse of the picture\n",
        "fig=plt.figure(figsize=(8,6))\n",
        "sns.set(style=\"dark\")\n",
        "ax=sns.countplot(x='loanDefault',data=df,\n",
        "             order=list(dict_value['loanDefault'].index))\n",
        "ax.set_title(' Loan defaulters', fontsize=15)\n",
        "ax.legend(['clients with no default'])\n",
        "sns.despine(left=True,bottom=True)\n",
        "for p in ax.patches:\n",
        "    ax.annotate('{:.2f}%'.format((p.get_height()/dict_value['loanDefault'].sum())*100),\n",
        "                (p.get_x()+0.30, p.get_height()+1))"
      ],
      "execution_count": 0,
      "outputs": [
        {
          "output_type": "stream",
          "text": [
            "/usr/local/lib/python3.6/dist-packages/seaborn/categorical.py:1428: FutureWarning: remove_na is deprecated and is a private function. Do not use.\n",
            "  stat_data = remove_na(group_data)\n"
          ],
          "name": "stderr"
        },
        {
          "output_type": "display_data",
          "data": {
            "image/png": "[encoded data removed]",
            "text/plain": [
              "<Figure size 576x432 with 1 Axes>"
            ]
          },
          "metadata": {
            "tags": []
          }
        }
      ]
    },
    {
      "cell_type": "code",
      "metadata": {
        "id": "G9ikKrdBZ-3r",
        "colab_type": "code",
        "colab": {}
      },
      "source": [
        "X=features\n",
        "y=target"
      ],
      "execution_count": 0,
      "outputs": []
    },
    {
      "cell_type": "code",
      "metadata": {
        "id": "WaBpjrdIaDSd",
        "colab_type": "code",
        "outputId": "c9cd6047-d2b2-497c-f36d-68a714f6232a",
        "colab": {
          "base_uri": "https://localhost:8080/",
          "height": 1513
        }
      },
      "source": [
        "features.head().T"
      ],
      "execution_count": 0,
      "outputs": [
        {
          "output_type": "execute_result",
          "data": {
            "text/html": [
              "<div>\n",
              "<style scoped>\n",
              "    .dataframe tbody tr th:only-of-type {\n",
              "        vertical-align: middle;\n",
              "    }\n",
              "\n",
              "    .dataframe tbody tr th {\n",
              "        vertical-align: top;\n",
              "    }\n",
              "\n",
              "    .dataframe thead th {\n",
              "        text-align: right;\n",
              "    }\n",
              "</style>\n",
              "<table border=\"1\" class=\"dataframe\">\n",
              "  <thead>\n",
              "    <tr style=\"text-align: right;\">\n",
              "      <th></th>\n",
              "      <th>0</th>\n",
              "      <th>1</th>\n",
              "      <th>2</th>\n",
              "      <th>3</th>\n",
              "      <th>4</th>\n",
              "    </tr>\n",
              "  </thead>\n",
              "  <tbody>\n",
              "    <tr>\n",
              "      <th>clientIncome</th>\n",
              "      <td>52500.000000</td>\n",
              "      <td>52500.000000</td>\n",
              "      <td>35000.000000</td>\n",
              "      <td>35000.000000</td>\n",
              "      <td>35000.000000</td>\n",
              "    </tr>\n",
              "    <tr>\n",
              "      <th>clientAge</th>\n",
              "      <td>29.000000</td>\n",
              "      <td>25.000000</td>\n",
              "      <td>32.000000</td>\n",
              "      <td>28.000000</td>\n",
              "      <td>34.000000</td>\n",
              "    </tr>\n",
              "    <tr>\n",
              "      <th>clientNumberPhoneContacts</th>\n",
              "      <td>257.000000</td>\n",
              "      <td>3964.000000</td>\n",
              "      <td>1140.000000</td>\n",
              "      <td>2764.000000</td>\n",
              "      <td>504.000000</td>\n",
              "    </tr>\n",
              "    <tr>\n",
              "      <th>clientAvgCallsPerDay</th>\n",
              "      <td>153.000000</td>\n",
              "      <td>269.426415</td>\n",
              "      <td>77.147826</td>\n",
              "      <td>31.678112</td>\n",
              "      <td>3.000000</td>\n",
              "    </tr>\n",
              "    <tr>\n",
              "      <th>loanNumber</th>\n",
              "      <td>6.000000</td>\n",
              "      <td>9.000000</td>\n",
              "      <td>2.000000</td>\n",
              "      <td>4.000000</td>\n",
              "      <td>5.000000</td>\n",
              "    </tr>\n",
              "    <tr>\n",
              "      <th>interestRate</th>\n",
              "      <td>20.000000</td>\n",
              "      <td>15.000000</td>\n",
              "      <td>15.000000</td>\n",
              "      <td>15.000000</td>\n",
              "      <td>12.500000</td>\n",
              "    </tr>\n",
              "    <tr>\n",
              "      <th>max_amount_taken</th>\n",
              "      <td>1.000000</td>\n",
              "      <td>0.000000</td>\n",
              "      <td>0.000000</td>\n",
              "      <td>1.000000</td>\n",
              "      <td>1.000000</td>\n",
              "    </tr>\n",
              "    <tr>\n",
              "      <th>max_tenor_taken</th>\n",
              "      <td>1.000000</td>\n",
              "      <td>1.000000</td>\n",
              "      <td>1.000000</td>\n",
              "      <td>1.000000</td>\n",
              "      <td>1.000000</td>\n",
              "    </tr>\n",
              "    <tr>\n",
              "      <th>settleDays</th>\n",
              "      <td>-12.000000</td>\n",
              "      <td>-15.000000</td>\n",
              "      <td>64.000000</td>\n",
              "      <td>-10.000000</td>\n",
              "      <td>12.000000</td>\n",
              "    </tr>\n",
              "    <tr>\n",
              "      <th>firstpaymentRatio</th>\n",
              "      <td>0.000000</td>\n",
              "      <td>0.000000</td>\n",
              "      <td>0.000000</td>\n",
              "      <td>0.000000</td>\n",
              "      <td>0.000000</td>\n",
              "    </tr>\n",
              "    <tr>\n",
              "      <th>firstPaymentDefault</th>\n",
              "      <td>0.000000</td>\n",
              "      <td>0.000000</td>\n",
              "      <td>1.000000</td>\n",
              "      <td>0.000000</td>\n",
              "      <td>1.000000</td>\n",
              "    </tr>\n",
              "    <tr>\n",
              "      <th>clientAge_bin</th>\n",
              "      <td>0.000000</td>\n",
              "      <td>0.000000</td>\n",
              "      <td>1.000000</td>\n",
              "      <td>0.000000</td>\n",
              "      <td>1.000000</td>\n",
              "    </tr>\n",
              "    <tr>\n",
              "      <th>loanIncome_diff</th>\n",
              "      <td>36500.000000</td>\n",
              "      <td>38000.000000</td>\n",
              "      <td>15500.000000</td>\n",
              "      <td>15500.000000</td>\n",
              "      <td>17500.000000</td>\n",
              "    </tr>\n",
              "    <tr>\n",
              "      <th>amount_diff</th>\n",
              "      <td>1.000000</td>\n",
              "      <td>1.000000</td>\n",
              "      <td>1.000000</td>\n",
              "      <td>1.000000</td>\n",
              "      <td>1.000000</td>\n",
              "    </tr>\n",
              "    <tr>\n",
              "      <th>reten_measure</th>\n",
              "      <td>1.000000</td>\n",
              "      <td>1.000000</td>\n",
              "      <td>0.000000</td>\n",
              "      <td>0.000000</td>\n",
              "      <td>0.000000</td>\n",
              "    </tr>\n",
              "    <tr>\n",
              "      <th>log_clientIncome</th>\n",
              "      <td>10.868568</td>\n",
              "      <td>10.868568</td>\n",
              "      <td>10.463103</td>\n",
              "      <td>10.463103</td>\n",
              "      <td>10.463103</td>\n",
              "    </tr>\n",
              "    <tr>\n",
              "      <th>clientIncome_bin</th>\n",
              "      <td>1.000000</td>\n",
              "      <td>1.000000</td>\n",
              "      <td>0.000000</td>\n",
              "      <td>0.000000</td>\n",
              "      <td>0.000000</td>\n",
              "    </tr>\n",
              "    <tr>\n",
              "      <th>incomeVerified_encode</th>\n",
              "      <td>0.000000</td>\n",
              "      <td>0.000000</td>\n",
              "      <td>0.000000</td>\n",
              "      <td>0.000000</td>\n",
              "      <td>0.000000</td>\n",
              "    </tr>\n",
              "    <tr>\n",
              "      <th>deliquency_duration</th>\n",
              "      <td>-22.000000</td>\n",
              "      <td>15.000000</td>\n",
              "      <td>360.000000</td>\n",
              "      <td>9.000000</td>\n",
              "      <td>-38.000000</td>\n",
              "    </tr>\n",
              "    <tr>\n",
              "      <th>intstall_paymnt</th>\n",
              "      <td>266666.666667</td>\n",
              "      <td>241666.666667</td>\n",
              "      <td>325000.000000</td>\n",
              "      <td>325000.000000</td>\n",
              "      <td>291666.666667</td>\n",
              "    </tr>\n",
              "    <tr>\n",
              "      <th>BalanceIncome</th>\n",
              "      <td>-214166.666667</td>\n",
              "      <td>-189166.666667</td>\n",
              "      <td>-290000.000000</td>\n",
              "      <td>-290000.000000</td>\n",
              "      <td>-256666.666667</td>\n",
              "    </tr>\n",
              "    <tr>\n",
              "      <th>log_clientAge</th>\n",
              "      <td>3.367296</td>\n",
              "      <td>3.218876</td>\n",
              "      <td>3.465736</td>\n",
              "      <td>3.332205</td>\n",
              "      <td>3.526361</td>\n",
              "    </tr>\n",
              "    <tr>\n",
              "      <th>log_clientNumberPhoneContacts</th>\n",
              "      <td>5.549076</td>\n",
              "      <td>8.285009</td>\n",
              "      <td>7.038784</td>\n",
              "      <td>7.924434</td>\n",
              "      <td>6.222576</td>\n",
              "    </tr>\n",
              "    <tr>\n",
              "      <th>log_clientAvgCallsPerDay</th>\n",
              "      <td>5.030438</td>\n",
              "      <td>5.596295</td>\n",
              "      <td>4.345723</td>\n",
              "      <td>3.455626</td>\n",
              "      <td>1.098612</td>\n",
              "    </tr>\n",
              "    <tr>\n",
              "      <th>log_loanNumber</th>\n",
              "      <td>1.791759</td>\n",
              "      <td>2.197225</td>\n",
              "      <td>0.693147</td>\n",
              "      <td>1.386294</td>\n",
              "      <td>1.609438</td>\n",
              "    </tr>\n",
              "    <tr>\n",
              "      <th>log_interestRate</th>\n",
              "      <td>2.995732</td>\n",
              "      <td>2.708050</td>\n",
              "      <td>2.708050</td>\n",
              "      <td>2.708050</td>\n",
              "      <td>2.525729</td>\n",
              "    </tr>\n",
              "    <tr>\n",
              "      <th>log_settleDays</th>\n",
              "      <td>NaN</td>\n",
              "      <td>NaN</td>\n",
              "      <td>4.158883</td>\n",
              "      <td>NaN</td>\n",
              "      <td>2.484907</td>\n",
              "    </tr>\n",
              "    <tr>\n",
              "      <th>log_loanIncome_diff</th>\n",
              "      <td>10.505068</td>\n",
              "      <td>10.545341</td>\n",
              "      <td>9.648595</td>\n",
              "      <td>9.648595</td>\n",
              "      <td>9.769956</td>\n",
              "    </tr>\n",
              "    <tr>\n",
              "      <th>log_log_clientIncome</th>\n",
              "      <td>2.385875</td>\n",
              "      <td>2.385875</td>\n",
              "      <td>2.347855</td>\n",
              "      <td>2.347855</td>\n",
              "      <td>2.347855</td>\n",
              "    </tr>\n",
              "    <tr>\n",
              "      <th>log_clientState_encode</th>\n",
              "      <td>1.609438</td>\n",
              "      <td>NaN</td>\n",
              "      <td>1.386294</td>\n",
              "      <td>0.000000</td>\n",
              "      <td>0.000000</td>\n",
              "    </tr>\n",
              "    <tr>\n",
              "      <th>log_deliquency_duration</th>\n",
              "      <td>NaN</td>\n",
              "      <td>2.708050</td>\n",
              "      <td>5.886104</td>\n",
              "      <td>2.197225</td>\n",
              "      <td>NaN</td>\n",
              "    </tr>\n",
              "    <tr>\n",
              "      <th>log_intstall_paymnt</th>\n",
              "      <td>12.493755</td>\n",
              "      <td>12.395315</td>\n",
              "      <td>12.691580</td>\n",
              "      <td>12.691580</td>\n",
              "      <td>12.583367</td>\n",
              "    </tr>\n",
              "    <tr>\n",
              "      <th>log_BalanceIncome</th>\n",
              "      <td>NaN</td>\n",
              "      <td>NaN</td>\n",
              "      <td>NaN</td>\n",
              "      <td>NaN</td>\n",
              "      <td>NaN</td>\n",
              "    </tr>\n",
              "    <tr>\n",
              "      <th>clientState_LAGOS</th>\n",
              "      <td>0.000000</td>\n",
              "      <td>1.000000</td>\n",
              "      <td>0.000000</td>\n",
              "      <td>0.000000</td>\n",
              "      <td>0.000000</td>\n",
              "    </tr>\n",
              "    <tr>\n",
              "      <th>clientState_NC</th>\n",
              "      <td>0.000000</td>\n",
              "      <td>0.000000</td>\n",
              "      <td>0.000000</td>\n",
              "      <td>0.000000</td>\n",
              "      <td>0.000000</td>\n",
              "    </tr>\n",
              "    <tr>\n",
              "      <th>clientState_NE</th>\n",
              "      <td>0.000000</td>\n",
              "      <td>0.000000</td>\n",
              "      <td>0.000000</td>\n",
              "      <td>0.000000</td>\n",
              "      <td>0.000000</td>\n",
              "    </tr>\n",
              "    <tr>\n",
              "      <th>clientState_NW</th>\n",
              "      <td>1.000000</td>\n",
              "      <td>0.000000</td>\n",
              "      <td>0.000000</td>\n",
              "      <td>0.000000</td>\n",
              "      <td>0.000000</td>\n",
              "    </tr>\n",
              "    <tr>\n",
              "      <th>clientState_SE</th>\n",
              "      <td>0.000000</td>\n",
              "      <td>0.000000</td>\n",
              "      <td>1.000000</td>\n",
              "      <td>0.000000</td>\n",
              "      <td>0.000000</td>\n",
              "    </tr>\n",
              "    <tr>\n",
              "      <th>clientState_SS</th>\n",
              "      <td>0.000000</td>\n",
              "      <td>0.000000</td>\n",
              "      <td>0.000000</td>\n",
              "      <td>0.000000</td>\n",
              "      <td>0.000000</td>\n",
              "    </tr>\n",
              "    <tr>\n",
              "      <th>clientState_SW</th>\n",
              "      <td>0.000000</td>\n",
              "      <td>0.000000</td>\n",
              "      <td>0.000000</td>\n",
              "      <td>1.000000</td>\n",
              "      <td>1.000000</td>\n",
              "    </tr>\n",
              "    <tr>\n",
              "      <th>clientLoanPurpose_business</th>\n",
              "      <td>1.000000</td>\n",
              "      <td>1.000000</td>\n",
              "      <td>0.000000</td>\n",
              "      <td>1.000000</td>\n",
              "      <td>0.000000</td>\n",
              "    </tr>\n",
              "    <tr>\n",
              "      <th>clientLoanPurpose_education</th>\n",
              "      <td>0.000000</td>\n",
              "      <td>0.000000</td>\n",
              "      <td>1.000000</td>\n",
              "      <td>0.000000</td>\n",
              "      <td>0.000000</td>\n",
              "    </tr>\n",
              "    <tr>\n",
              "      <th>clientLoanPurpose_house</th>\n",
              "      <td>0.000000</td>\n",
              "      <td>0.000000</td>\n",
              "      <td>0.000000</td>\n",
              "      <td>0.000000</td>\n",
              "      <td>0.000000</td>\n",
              "    </tr>\n",
              "    <tr>\n",
              "      <th>clientLoanPurpose_medical</th>\n",
              "      <td>0.000000</td>\n",
              "      <td>0.000000</td>\n",
              "      <td>0.000000</td>\n",
              "      <td>0.000000</td>\n",
              "      <td>1.000000</td>\n",
              "    </tr>\n",
              "    <tr>\n",
              "      <th>clientLoanPurpose_other</th>\n",
              "      <td>0.000000</td>\n",
              "      <td>0.000000</td>\n",
              "      <td>0.000000</td>\n",
              "      <td>0.000000</td>\n",
              "      <td>0.000000</td>\n",
              "    </tr>\n",
              "    <tr>\n",
              "      <th>clientResidentialStauts_Employer Provided</th>\n",
              "      <td>0.000000</td>\n",
              "      <td>0.000000</td>\n",
              "      <td>0.000000</td>\n",
              "      <td>0.000000</td>\n",
              "      <td>0.000000</td>\n",
              "    </tr>\n",
              "    <tr>\n",
              "      <th>clientResidentialStauts_Family Owned</th>\n",
              "      <td>0.000000</td>\n",
              "      <td>0.000000</td>\n",
              "      <td>0.000000</td>\n",
              "      <td>0.000000</td>\n",
              "      <td>0.000000</td>\n",
              "    </tr>\n",
              "    <tr>\n",
              "      <th>clientResidentialStauts_Null</th>\n",
              "      <td>0.000000</td>\n",
              "      <td>0.000000</td>\n",
              "      <td>0.000000</td>\n",
              "      <td>0.000000</td>\n",
              "      <td>0.000000</td>\n",
              "    </tr>\n",
              "    <tr>\n",
              "      <th>clientResidentialStauts_Own Residence</th>\n",
              "      <td>0.000000</td>\n",
              "      <td>0.000000</td>\n",
              "      <td>0.000000</td>\n",
              "      <td>1.000000</td>\n",
              "      <td>0.000000</td>\n",
              "    </tr>\n",
              "    <tr>\n",
              "      <th>clientResidentialStauts_Rented</th>\n",
              "      <td>1.000000</td>\n",
              "      <td>1.000000</td>\n",
              "      <td>1.000000</td>\n",
              "      <td>0.000000</td>\n",
              "      <td>1.000000</td>\n",
              "    </tr>\n",
              "    <tr>\n",
              "      <th>clientResidentialStauts_Temp. Residence</th>\n",
              "      <td>0.000000</td>\n",
              "      <td>0.000000</td>\n",
              "      <td>0.000000</td>\n",
              "      <td>0.000000</td>\n",
              "      <td>0.000000</td>\n",
              "    </tr>\n",
              "  </tbody>\n",
              "</table>\n",
              "</div>"
            ],
            "text/plain": [
              "                                                       0              1  \\\n",
              "clientIncome                                52500.000000   52500.000000   \n",
              "clientAge                                      29.000000      25.000000   \n",
              "clientNumberPhoneContacts                     257.000000    3964.000000   \n",
              "clientAvgCallsPerDay                          153.000000     269.426415   \n",
              "loanNumber                                      6.000000       9.000000   \n",
              "interestRate                                   20.000000      15.000000   \n",
              "max_amount_taken                                1.000000       0.000000   \n",
              "max_tenor_taken                                 1.000000       1.000000   \n",
              "settleDays                                    -12.000000     -15.000000   \n",
              "firstpaymentRatio                               0.000000       0.000000   \n",
              "firstPaymentDefault                             0.000000       0.000000   \n",
              "clientAge_bin                                   0.000000       0.000000   \n",
              "loanIncome_diff                             36500.000000   38000.000000   \n",
              "amount_diff                                     1.000000       1.000000   \n",
              "reten_measure                                   1.000000       1.000000   \n",
              "log_clientIncome                               10.868568      10.868568   \n",
              "clientIncome_bin                                1.000000       1.000000   \n",
              "incomeVerified_encode                           0.000000       0.000000   \n",
              "deliquency_duration                           -22.000000      15.000000   \n",
              "intstall_paymnt                            266666.666667  241666.666667   \n",
              "BalanceIncome                             -214166.666667 -189166.666667   \n",
              "log_clientAge                                   3.367296       3.218876   \n",
              "log_clientNumberPhoneContacts                   5.549076       8.285009   \n",
              "log_clientAvgCallsPerDay                        5.030438       5.596295   \n",
              "log_loanNumber                                  1.791759       2.197225   \n",
              "log_interestRate                                2.995732       2.708050   \n",
              "log_settleDays                                       NaN            NaN   \n",
              "log_loanIncome_diff                            10.505068      10.545341   \n",
              "log_log_clientIncome                            2.385875       2.385875   \n",
              "log_clientState_encode                          1.609438            NaN   \n",
              "log_deliquency_duration                              NaN       2.708050   \n",
              "log_intstall_paymnt                            12.493755      12.395315   \n",
              "log_BalanceIncome                                    NaN            NaN   \n",
              "clientState_LAGOS                               0.000000       1.000000   \n",
              "clientState_NC                                  0.000000       0.000000   \n",
              "clientState_NE                                  0.000000       0.000000   \n",
              "clientState_NW                                  1.000000       0.000000   \n",
              "clientState_SE                                  0.000000       0.000000   \n",
              "clientState_SS                                  0.000000       0.000000   \n",
              "clientState_SW                                  0.000000       0.000000   \n",
              "clientLoanPurpose_business                      1.000000       1.000000   \n",
              "clientLoanPurpose_education                     0.000000       0.000000   \n",
              "clientLoanPurpose_house                         0.000000       0.000000   \n",
              "clientLoanPurpose_medical                       0.000000       0.000000   \n",
              "clientLoanPurpose_other                         0.000000       0.000000   \n",
              "clientResidentialStauts_Employer Provided       0.000000       0.000000   \n",
              "clientResidentialStauts_Family Owned            0.000000       0.000000   \n",
              "clientResidentialStauts_Null                    0.000000       0.000000   \n",
              "clientResidentialStauts_Own Residence           0.000000       0.000000   \n",
              "clientResidentialStauts_Rented                  1.000000       1.000000   \n",
              "clientResidentialStauts_Temp. Residence         0.000000       0.000000   \n",
              "\n",
              "                                                       2              3  \\\n",
              "clientIncome                                35000.000000   35000.000000   \n",
              "clientAge                                      32.000000      28.000000   \n",
              "clientNumberPhoneContacts                    1140.000000    2764.000000   \n",
              "clientAvgCallsPerDay                           77.147826      31.678112   \n",
              "loanNumber                                      2.000000       4.000000   \n",
              "interestRate                                   15.000000      15.000000   \n",
              "max_amount_taken                                0.000000       1.000000   \n",
              "max_tenor_taken                                 1.000000       1.000000   \n",
              "settleDays                                     64.000000     -10.000000   \n",
              "firstpaymentRatio                               0.000000       0.000000   \n",
              "firstPaymentDefault                             1.000000       0.000000   \n",
              "clientAge_bin                                   1.000000       0.000000   \n",
              "loanIncome_diff                             15500.000000   15500.000000   \n",
              "amount_diff                                     1.000000       1.000000   \n",
              "reten_measure                                   0.000000       0.000000   \n",
              "log_clientIncome                               10.463103      10.463103   \n",
              "clientIncome_bin                                0.000000       0.000000   \n",
              "incomeVerified_encode                           0.000000       0.000000   \n",
              "deliquency_duration                           360.000000       9.000000   \n",
              "intstall_paymnt                            325000.000000  325000.000000   \n",
              "BalanceIncome                             -290000.000000 -290000.000000   \n",
              "log_clientAge                                   3.465736       3.332205   \n",
              "log_clientNumberPhoneContacts                   7.038784       7.924434   \n",
              "log_clientAvgCallsPerDay                        4.345723       3.455626   \n",
              "log_loanNumber                                  0.693147       1.386294   \n",
              "log_interestRate                                2.708050       2.708050   \n",
              "log_settleDays                                  4.158883            NaN   \n",
              "log_loanIncome_diff                             9.648595       9.648595   \n",
              "log_log_clientIncome                            2.347855       2.347855   \n",
              "log_clientState_encode                          1.386294       0.000000   \n",
              "log_deliquency_duration                         5.886104       2.197225   \n",
              "log_intstall_paymnt                            12.691580      12.691580   \n",
              "log_BalanceIncome                                    NaN            NaN   \n",
              "clientState_LAGOS                               0.000000       0.000000   \n",
              "clientState_NC                                  0.000000       0.000000   \n",
              "clientState_NE                                  0.000000       0.000000   \n",
              "clientState_NW                                  0.000000       0.000000   \n",
              "clientState_SE                                  1.000000       0.000000   \n",
              "clientState_SS                                  0.000000       0.000000   \n",
              "clientState_SW                                  0.000000       1.000000   \n",
              "clientLoanPurpose_business                      0.000000       1.000000   \n",
              "clientLoanPurpose_education                     1.000000       0.000000   \n",
              "clientLoanPurpose_house                         0.000000       0.000000   \n",
              "clientLoanPurpose_medical                       0.000000       0.000000   \n",
              "clientLoanPurpose_other                         0.000000       0.000000   \n",
              "clientResidentialStauts_Employer Provided       0.000000       0.000000   \n",
              "clientResidentialStauts_Family Owned            0.000000       0.000000   \n",
              "clientResidentialStauts_Null                    0.000000       0.000000   \n",
              "clientResidentialStauts_Own Residence           0.000000       1.000000   \n",
              "clientResidentialStauts_Rented                  1.000000       0.000000   \n",
              "clientResidentialStauts_Temp. Residence         0.000000       0.000000   \n",
              "\n",
              "                                                       4  \n",
              "clientIncome                                35000.000000  \n",
              "clientAge                                      34.000000  \n",
              "clientNumberPhoneContacts                     504.000000  \n",
              "clientAvgCallsPerDay                            3.000000  \n",
              "loanNumber                                      5.000000  \n",
              "interestRate                                   12.500000  \n",
              "max_amount_taken                                1.000000  \n",
              "max_tenor_taken                                 1.000000  \n",
              "settleDays                                     12.000000  \n",
              "firstpaymentRatio                               0.000000  \n",
              "firstPaymentDefault                             1.000000  \n",
              "clientAge_bin                                   1.000000  \n",
              "loanIncome_diff                             17500.000000  \n",
              "amount_diff                                     1.000000  \n",
              "reten_measure                                   0.000000  \n",
              "log_clientIncome                               10.463103  \n",
              "clientIncome_bin                                0.000000  \n",
              "incomeVerified_encode                           0.000000  \n",
              "deliquency_duration                           -38.000000  \n",
              "intstall_paymnt                            291666.666667  \n",
              "BalanceIncome                             -256666.666667  \n",
              "log_clientAge                                   3.526361  \n",
              "log_clientNumberPhoneContacts                   6.222576  \n",
              "log_clientAvgCallsPerDay                        1.098612  \n",
              "log_loanNumber                                  1.609438  \n",
              "log_interestRate                                2.525729  \n",
              "log_settleDays                                  2.484907  \n",
              "log_loanIncome_diff                             9.769956  \n",
              "log_log_clientIncome                            2.347855  \n",
              "log_clientState_encode                          0.000000  \n",
              "log_deliquency_duration                              NaN  \n",
              "log_intstall_paymnt                            12.583367  \n",
              "log_BalanceIncome                                    NaN  \n",
              "clientState_LAGOS                               0.000000  \n",
              "clientState_NC                                  0.000000  \n",
              "clientState_NE                                  0.000000  \n",
              "clientState_NW                                  0.000000  \n",
              "clientState_SE                                  0.000000  \n",
              "clientState_SS                                  0.000000  \n",
              "clientState_SW                                  1.000000  \n",
              "clientLoanPurpose_business                      0.000000  \n",
              "clientLoanPurpose_education                     0.000000  \n",
              "clientLoanPurpose_house                         0.000000  \n",
              "clientLoanPurpose_medical                       1.000000  \n",
              "clientLoanPurpose_other                         0.000000  \n",
              "clientResidentialStauts_Employer Provided       0.000000  \n",
              "clientResidentialStauts_Family Owned            0.000000  \n",
              "clientResidentialStauts_Null                    0.000000  \n",
              "clientResidentialStauts_Own Residence           0.000000  \n",
              "clientResidentialStauts_Rented                  1.000000  \n",
              "clientResidentialStauts_Temp. Residence         0.000000  "
            ]
          },
          "metadata": {
            "tags": []
          },
          "execution_count": 189
        }
      ]
    },
    {
      "cell_type": "code",
      "metadata": {
        "id": "BtzuIQIRaPI2",
        "colab_type": "code",
        "colab": {}
      },
      "source": [
        "# Replace the inf and -inf with nan (required for later imputation)\n",
        "features = features.replace({np.inf: np.nan, -np.inf: np.nan})\n",
        "\n",
        "# Split into 70% training and 30% testing set\n",
        "X_train, X_test, y_train, y_test = train_test_split(features, target, test_size = 0.3, random_state = 42)"
      ],
      "execution_count": 0,
      "outputs": []
    },
    {
      "cell_type": "code",
      "metadata": {
        "id": "P0WedT8nbXWU",
        "colab_type": "code",
        "colab": {}
      },
      "source": [
        "# Pandas and numpy for data manipulation\n",
        "import pandas as pd\n",
        "import numpy as np\n",
        "\n",
        "# No warnings about setting value on copy of slice\n",
        "pd.options.mode.chained_assignment = None\n",
        "pd.set_option('display.max_columns', 60)\n",
        "\n",
        "# Matplotlib for visualization\n",
        "import matplotlib.pyplot as plt\n",
        "%matplotlib inline\n",
        "\n",
        "# Set default font size\n",
        "plt.rcParams['font.size'] = 24\n",
        "\n",
        "from IPython.core.pylabtools import figsize\n",
        "\n",
        "# Seaborn for visualization\n",
        "import seaborn as sns\n",
        "sns.set(font_scale = 2)\n",
        "\n",
        "# Imputing missing values and scaling values\n",
        "from sklearn.preprocessing import Imputer, MinMaxScaler\n",
        "\n",
        "# Machine Learning Models\n",
        "from sklearn.linear_model import LinearRegression\n",
        "from sklearn.ensemble import RandomForestRegressor, GradientBoostingRegressor\n",
        "from sklearn.svm import SVR\n",
        "from sklearn.neighbors import KNeighborsRegressor\n",
        "\n",
        "# Hyperparameter tuning\n",
        "from sklearn.model_selection import RandomizedSearchCV, GridSearchCV"
      ],
      "execution_count": 0,
      "outputs": []
    },
    {
      "cell_type": "code",
      "metadata": {
        "id": "9tK_UamweC2B",
        "colab_type": "code",
        "outputId": "4431873e-e5c2-47af-f994-ffbee5b69e24",
        "colab": {
          "base_uri": "https://localhost:8080/",
          "height": 70
        }
      },
      "source": [
        "# Create an imputer object with a median filling strategy\n",
        "imputer = Imputer(strategy='median')\n",
        "\n",
        "# Train on the training features\n",
        "imputer.fit(X_train)\n",
        "\n",
        "# Transform both training data and testing data\n",
        "X_train = imputer.transform(X_train)\n",
        "X_test = imputer.transform(X_test)"
      ],
      "execution_count": 0,
      "outputs": [
        {
          "output_type": "stream",
          "text": [
            "/usr/local/lib/python3.6/dist-packages/sklearn/utils/deprecation.py:58: DeprecationWarning: Class Imputer is deprecated; Imputer was deprecated in version 0.20 and will be removed in 0.22. Import impute.SimpleImputer from sklearn instead.\n",
            "  warnings.warn(msg, category=DeprecationWarning)\n"
          ],
          "name": "stderr"
        }
      ]
    },
    {
      "cell_type": "code",
      "metadata": {
        "id": "BBMEGf-3dGtj",
        "colab_type": "code",
        "colab": {}
      },
      "source": [
        "# Create the scaler object with a range of 0-1\n",
        "scaler = MinMaxScaler(feature_range=(0, 1))\n",
        "\n",
        "# Fit on the training data\n",
        "scaler.fit(X_train)\n",
        "\n",
        "# Transform both the training and testing data\n",
        "X_train = scaler.transform(X_train)\n",
        "X_test = scaler.transform(X_test)"
      ],
      "execution_count": 0,
      "outputs": []
    },
    {
      "cell_type": "code",
      "metadata": {
        "id": "59oE55OUdqdQ",
        "colab_type": "code",
        "colab": {}
      },
      "source": [
        "# Convert y to one-dimensional array (vector)\n",
        "y_train = np.array(y_train).reshape((-1, ))\n",
        "y_test = np.array(y_test).reshape((-1, ))"
      ],
      "execution_count": 0,
      "outputs": []
    },
    {
      "cell_type": "markdown",
      "metadata": {
        "id": "FekzD7YpdHpw",
        "colab_type": "text"
      },
      "source": [
        "After detail exploratory and feature engineering processes. The following line of codes performs deep learning (Random Forest and Neural Network) on the datasets"
      ]
    },
    {
      "cell_type": "code",
      "metadata": {
        "id": "WV-WbHYYdZ71",
        "colab_type": "code",
        "colab": {}
      },
      "source": [
        "# Function to calculate mean absolute error\n",
        "def mae(y_true, y_pred):\n",
        "    return np.mean(abs(y_true - y_pred))\n",
        "# Takes in a model, trains the model, and evaluates the model on the test set\n",
        "def fit_and_evaluate(model):\n",
        "    \n",
        "    # Train the model\n",
        "    model.fit(X_train, y_train)\n",
        "    \n",
        "    # Make predictions and evalute\n",
        "    model_pred = model.predict(X_test)\n",
        "    model_mae = mae(y_test, model_pred)\n",
        "    \n",
        "    # Return the performance metric\n",
        "    return model_mae"
      ],
      "execution_count": 0,
      "outputs": []
    },
    {
      "cell_type": "code",
      "metadata": {
        "id": "gXz8l919e3zD",
        "colab_type": "code",
        "outputId": "87c2eda1-a730-4f68-c8e6-156ad9b8e474",
        "colab": {
          "base_uri": "https://localhost:8080/",
          "height": 50
        }
      },
      "source": [
        "random_forest = RandomForestRegressor(random_state=60)\n",
        "random_forest_mae = fit_and_evaluate(random_forest)"
      ],
      "execution_count": 0,
      "outputs": [
        {
          "output_type": "stream",
          "text": [
            "/usr/local/lib/python3.6/dist-packages/sklearn/ensemble/forest.py:246: FutureWarning: The default value of n_estimators will change from 10 in version 0.20 to 100 in 0.22.\n",
            "  \"10 in version 0.20 to 100 in 0.22.\", FutureWarning)\n"
          ],
          "name": "stderr"
        }
      ]
    },
    {
      "cell_type": "code",
      "metadata": {
        "id": "VXMMaeMDfDzm",
        "colab_type": "code",
        "outputId": "3513756c-e452-496d-b050-693f08f830ce",
        "colab": {
          "base_uri": "https://localhost:8080/",
          "height": 33
        }
      },
      "source": [
        "print('Random Forest Regression Performance on the test set: MAE = %0.4f' % random_forest_mae)"
      ],
      "execution_count": 0,
      "outputs": [
        {
          "output_type": "stream",
          "text": [
            "Random Forest Regression Performance on the test set: MAE = 0.0094\n"
          ],
          "name": "stdout"
        }
      ]
    },
    {
      "cell_type": "code",
      "metadata": {
        "id": "_rpZcWykfHrm",
        "colab_type": "code",
        "colab": {}
      },
      "source": [
        "from sklearn.ensemble import RandomForestClassifier\n",
        "different_model_comparison = {\n",
        "    \"Random Forest\":RandomForestClassifier(random_state=0,n_estimators=10)}"
      ],
      "execution_count": 0,
      "outputs": []
    },
    {
      "cell_type": "code",
      "metadata": {
        "id": "t4oaSp_HfqMW",
        "colab_type": "code",
        "colab": {}
      },
      "source": [
        "def train_model(model_dict,X_train,y_train):\n",
        "    for model in model_dict:\n",
        "        print(\"Training:\",model)\n",
        "        model_dict[model].fit(X_train,y_train)\n",
        "    return model_dict"
      ],
      "execution_count": 0,
      "outputs": []
    },
    {
      "cell_type": "code",
      "metadata": {
        "id": "JiMW8YBpf2HM",
        "colab_type": "code",
        "colab": {}
      },
      "source": [
        "# Wrapping this function so we can easily change the model and evaluate them\n",
        "# function to evaluate model performance \n",
        "from sklearn import metrics\n",
        "def model_eval(clf_name,clf,X_test,y_test):\n",
        "    print(\"Evaluating:\",clf_name)\n",
        "    y_pred = clf.predict(X_test)\n",
        "    y_score = clf.predict_proba(X_test)[:,1]\n",
        "    confusion_matrix = pd.crosstab(y_test, y_pred, rownames=['True'], colnames= ['Predicted'], margins=False)\n",
        "    report = pd.Series({\n",
        "        \"model\":clf_name,\n",
        "        \"precision\":metrics.precision_score(y_test, y_pred),\n",
        "        \"recall\":metrics.recall_score(y_test, y_pred),\n",
        "        \"f1\":metrics.f1_score(y_test, y_pred),\n",
        "        'roc_auc_score' : metrics.roc_auc_score(y_test, y_score)\n",
        "    })\n",
        "    # draw ROC \n",
        "    fpr, tpr, thresholds = metrics.roc_curve(y_test, y_score, drop_intermediate = False, pos_label = 1)\n",
        "    plt.figure(1, figsize=(6,6))\n",
        "    plt.xlabel('false positive rate')\n",
        "    plt.ylabel('true positive rate')\n",
        "    plt.plot(fpr, tpr,label=clf_name)\n",
        "    plt.plot([0,1],[0,1], color = 'black')\n",
        "    plt.legend()\n",
        "    return report,confusion_matrix"
      ],
      "execution_count": 0,
      "outputs": []
    },
    {
      "cell_type": "code",
      "metadata": {
        "id": "sIenB8Rvgc5N",
        "colab_type": "code",
        "colab": {}
      },
      "source": [
        "def train_eval_model(model_dict,X_train,y_train,X_test,y_test):\n",
        "    cols = ['model', 'roc_auc_score', 'precision', 'recall','f1']\n",
        "    model_report = pd.DataFrame(columns = cols)\n",
        "    cm_dict = {}\n",
        "    model_dict = train_model(model_dict,X_train,y_train)\n",
        "    for model in model_dict:\n",
        "        report,confusion_matrix = model_eval(model,model_dict[model],X_test,y_test)\n",
        "        model_report = model_report.append(report,ignore_index=True)\n",
        "        cm_dict[model] = confusion_matrix\n",
        "    return model_report,cm_dict"
      ],
      "execution_count": 0,
      "outputs": []
    },
    {
      "cell_type": "code",
      "metadata": {
        "id": "7FC8Br6Bgfu2",
        "colab_type": "code",
        "colab": {}
      },
      "source": [
        "def plot_which_bar(df,col_name):\n",
        "    df.set_index(\"model\").loc[:,col_name].plot(kind='bar', stacked=True, sort_columns=True, figsize = (16,10))\n",
        "    plt.title(col_name)\n",
        "    plt.show()"
      ],
      "execution_count": 0,
      "outputs": []
    },
    {
      "cell_type": "code",
      "metadata": {
        "id": "RlBce46Cg2g_",
        "colab_type": "code",
        "outputId": "2cf0ff2a-9a76-4eca-ef44-5c2a1b94f2d7",
        "colab": {
          "base_uri": "https://localhost:8080/",
          "height": 441
        }
      },
      "source": [
        "model_report,cm_dict = train_eval_model(different_model_comparison,X_train,y_train,X_test,y_test)"
      ],
      "execution_count": 0,
      "outputs": [
        {
          "output_type": "stream",
          "text": [
            "Training: Random Forest\n",
            "Evaluating: Random Forest\n"
          ],
          "name": "stdout"
        },
        {
          "output_type": "display_data",
          "data": {
            "image/png": "[encoded data removed]",
            "text/plain": [
              "<Figure size 432x432 with 1 Axes>"
            ]
          },
          "metadata": {
            "tags": []
          }
        }
      ]
    },
    {
      "cell_type": "code",
      "metadata": {
        "id": "qGodX2ENhK66",
        "colab_type": "code",
        "outputId": "6bda5b9f-f4e6-40b0-cb63-3bd7c57c5510",
        "colab": {
          "base_uri": "https://localhost:8080/",
          "height": 82
        }
      },
      "source": [
        "cm_dict"
      ],
      "execution_count": 0,
      "outputs": [
        {
          "output_type": "execute_result",
          "data": {
            "text/plain": [
              "{'Random Forest': Predicted      0      1\n",
              " True                   \n",
              " 0          34518     97\n",
              " 1            797  12467}"
            ]
          },
          "metadata": {
            "tags": []
          },
          "execution_count": 214
        }
      ]
    },
    {
      "cell_type": "code",
      "metadata": {
        "id": "iMRi8h_ehYci",
        "colab_type": "code",
        "colab": {}
      },
      "source": [
        "\n",
        "from imblearn.over_sampling import SMOTE\n",
        "index_split = int(len(X)*0.7) #30% testing\n",
        "\n",
        "X_train_bal, y_train_bal = SMOTE(random_state=0).fit_sample(X_train,y_train)\n",
        "X_test_bal, y_test_bal = X_test, y_test"
      ],
      "execution_count": 0,
      "outputs": []
    },
    {
      "cell_type": "code",
      "metadata": {
        "id": "FyXJR3w5hsB5",
        "colab_type": "code",
        "outputId": "7bde756a-a84a-40e1-f588-90ee67d8c10d",
        "colab": {
          "base_uri": "https://localhost:8080/",
          "height": 33
        }
      },
      "source": [
        "len(X_train_bal)"
      ],
      "execution_count": 0,
      "outputs": [
        {
          "output_type": "execute_result",
          "data": {
            "text/plain": [
              "160622"
            ]
          },
          "metadata": {
            "tags": []
          },
          "execution_count": 216
        }
      ]
    },
    {
      "cell_type": "code",
      "metadata": {
        "id": "yKWLzzuph1qH",
        "colab_type": "code",
        "outputId": "5202162e-de9f-4e6f-fe9a-a41ec19b7cfc",
        "colab": {
          "base_uri": "https://localhost:8080/",
          "height": 441
        }
      },
      "source": [
        "model_report_bal,cm_dict_bal = train_eval_model(different_model_comparison,X_train_bal,y_train_bal,X_test_bal,y_test_bal)"
      ],
      "execution_count": 0,
      "outputs": [
        {
          "output_type": "stream",
          "text": [
            "Training: Random Forest\n",
            "Evaluating: Random Forest\n"
          ],
          "name": "stdout"
        },
        {
          "output_type": "display_data",
          "data": {
            "image/png": "[encoded data removed]",
            "text/plain": [
              "<Figure size 432x432 with 1 Axes>"
            ]
          },
          "metadata": {
            "tags": []
          }
        }
      ]
    },
    {
      "cell_type": "markdown",
      "metadata": {
        "id": "MmPGiQ1ciQ0V",
        "colab_type": "text"
      },
      "source": [
        "**NEURAL NETWORK SECTION**"
      ]
    },
    {
      "cell_type": "code",
      "metadata": {
        "id": "tnel3yp9iPgI",
        "colab_type": "code",
        "outputId": "9a6a667d-1d81-4b7f-d153-fd4b651d1f16",
        "colab": {
          "base_uri": "https://localhost:8080/",
          "height": 33
        }
      },
      "source": [
        "# set the matplotlib backend so figures can be saved in the background\n",
        "import matplotlib\n",
        "%matplotlib inline\n",
        "import matplotlib.pyplot as plt\n",
        "\n",
        "\n",
        "# import the keras modules\n",
        "from keras.models import Sequential\n",
        "from keras.layers.normalization import BatchNormalization\n",
        "from keras.layers.convolutional import Conv2D\n",
        "from keras.layers.convolutional import MaxPooling2D\n",
        "from keras.layers.core import Activation\n",
        "from keras.layers.core import Flatten\n",
        "from keras.layers.core import Dropout\n",
        "from keras.layers.core import Dense\n",
        "from keras.optimizers import SGD\n",
        "from keras.datasets import fashion_mnist\n",
        "from keras.utils import np_utils\n",
        "from keras import backend as K\n",
        "from sklearn.metrics import classification_report\n",
        "from sklearn.metrics import accuracy_score\n",
        "\n",
        "\n",
        "# othter packages\n",
        "import numpy as np\n",
        "import cv2\n",
        "from imutils import build_montages"
      ],
      "execution_count": 0,
      "outputs": [
        {
          "output_type": "stream",
          "text": [
            "Using TensorFlow backend.\n"
          ],
          "name": "stderr"
        }
      ]
    },
    {
      "cell_type": "code",
      "metadata": {
        "id": "8vObuamJmmUS",
        "colab_type": "code",
        "colab": {}
      },
      "source": [
        "# number of epochs\n",
        "NUM_EPOCHS = 10\n",
        "# learning rate\n",
        "INIT_LR = 1e-2\n",
        "# batch size\n",
        "BS = 32\n",
        "# momentum\n",
        "MOM = 0.9"
      ],
      "execution_count": 0,
      "outputs": []
    },
    {
      "cell_type": "code",
      "metadata": {
        "id": "geXFmTQsm0vO",
        "colab_type": "code",
        "outputId": "344f3d5b-d0da-46da-bbfc-d8bbbeeb695f",
        "colab": {
          "base_uri": "https://localhost:8080/",
          "height": 86
        }
      },
      "source": [
        "# we are going to use stochastic gradient descent as our optimizer\n",
        "opt = SGD(lr=INIT_LR, momentum=MOM, decay=INIT_LR / NUM_EPOCHS)"
      ],
      "execution_count": 0,
      "outputs": [
        {
          "output_type": "stream",
          "text": [
            "WARNING:tensorflow:From /usr/local/lib/python3.6/dist-packages/tensorflow/python/framework/op_def_library.py:263: colocate_with (from tensorflow.python.framework.ops) is deprecated and will be removed in a future version.\n",
            "Instructions for updating:\n",
            "Colocations handled automatically by placer.\n"
          ],
          "name": "stdout"
        }
      ]
    },
    {
      "cell_type": "code",
      "metadata": {
        "id": "bDen_4WhzH7J",
        "colab_type": "code",
        "colab": {}
      },
      "source": [
        "# we are using a sequential learning model\n",
        "model = Sequential()\n",
        "# our input shape is depth, height, width (in our case 1 sample x 28 pixels x 28 pixels)\n",
        "inputShape = (1, 28, 28)"
      ],
      "execution_count": 0,
      "outputs": []
    },
    {
      "cell_type": "code",
      "metadata": {
        "id": "h6W59KbqnNac",
        "colab_type": "code",
        "outputId": "8228a7f4-9f29-41f8-955b-5a1dec13a46a",
        "colab": {
          "base_uri": "https://localhost:8080/",
          "height": 86
        }
      },
      "source": [
        "# first CONV => RELU => CONV => RELU => POOL layer set\n",
        "model.add(Conv2D(32, (3, 3), padding=\"same\", input_shape=inputShape))\n",
        "model.add(Activation(\"relu\"))\n",
        "model.add(BatchNormalization(axis=-1))\n",
        "model.add(Conv2D(32, (3, 3), padding=\"same\"))\n",
        "model.add(Activation(\"relu\"))\n",
        "model.add(BatchNormalization(axis=-1))\n",
        "model.add(MaxPooling2D(pool_size=(2, 2), dim_ordering=\"th\"))\n",
        "model.add(Dropout(0.25))\n",
        "\n",
        "\n",
        "\n",
        "# second CONV => RELU => CONV => RELU => POOL layer set\n",
        "model.add(Conv2D(64, (3, 3), padding=\"same\"))\n",
        "model.add(Activation(\"relu\"))\n",
        "model.add(BatchNormalization(axis=-1))\n",
        "model.add(Conv2D(64, (3, 3), padding=\"same\"))\n",
        "model.add(Activation(\"relu\"))\n",
        "model.add(BatchNormalization(axis=-1))\n",
        "model.add(MaxPooling2D(pool_size=(2, 2), dim_ordering=\"th\"))\n",
        "model.add(Dropout(0.25))\n",
        "\n",
        "\n",
        "# first (and only) set of FC => RELU layers\n",
        "model.add(Flatten())\n",
        "model.add(Dense(512))\n",
        "model.add(Activation(\"relu\"))\n",
        "model.add(BatchNormalization())\n",
        "model.add(Dropout(0.5))\n",
        "\n",
        "# softmax classifier\n",
        "model.add(Dense(10))\n",
        "model.add(Activation(\"softmax\"))\n",
        "\n",
        "model.compile(loss=\"categorical_crossentropy\", optimizer=opt, metrics=[\"accuracy\"])"
      ],
      "execution_count": 0,
      "outputs": [
        {
          "output_type": "stream",
          "text": [
            "/usr/local/lib/python3.6/dist-packages/ipykernel_launcher.py:7: UserWarning: Update your `MaxPooling2D` call to the Keras 2 API: `MaxPooling2D(pool_size=(2, 2), data_format=\"channels_first\")`\n",
            "  import sys\n",
            "/usr/local/lib/python3.6/dist-packages/ipykernel_launcher.py:19: UserWarning: Update your `MaxPooling2D` call to the Keras 2 API: `MaxPooling2D(pool_size=(2, 2), data_format=\"channels_first\")`\n"
          ],
          "name": "stderr"
        }
      ]
    },
    {
      "cell_type": "code",
      "metadata": {
        "id": "33Sxe2qiUSwL",
        "colab_type": "code",
        "outputId": "3908db5e-0a68-416a-c857-28ca9a61b1d4",
        "colab": {
          "base_uri": "https://localhost:8080/",
          "height": 34
        }
      },
      "source": [
        "!git init"
      ],
      "execution_count": 0,
      "outputs": [
        {
          "output_type": "stream",
          "text": [
            "Initialized empty Git repository in /content/.git/\n"
          ],
          "name": "stdout"
        }
      ]
    },
    {
      "cell_type": "code",
      "metadata": {
        "id": "gjRLRqiYUhCE",
        "colab_type": "code",
        "colab": {}
      },
      "source": [
        "!git config --global user.email \"oludoyimayowa1@gmail.com\""
      ],
      "execution_count": 0,
      "outputs": []
    },
    {
      "cell_type": "code",
      "metadata": {
        "id": "lzmEtWWhU46z",
        "colab_type": "code",
        "colab": {}
      },
      "source": [
        "!git config --global user.name \"MideOludoyi\""
      ],
      "execution_count": 0,
      "outputs": []
    },
    {
      "cell_type": "code",
      "metadata": {
        "id": "H1Ptb-xz0TfF",
        "colab_type": "code",
        "colab": {
          "base_uri": "https://localhost:8080/",
          "height": 34
        },
        "outputId": "09225b25-0fcd-4822-b8c8-b8f5bfc427ea"
      },
      "source": [
        "!git add -A"
      ],
      "execution_count": 2,
      "outputs": [
        {
          "output_type": "stream",
          "text": [
            "fatal: not a git repository (or any of the parent directories): .git\n"
          ],
          "name": "stdout"
        }
      ]
    }
  ]
}